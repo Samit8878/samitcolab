{
  "cells": [
    {
      "cell_type": "markdown",
      "source": [
        "## **PROJECT BY: SAMIT SHETTY**\n",
        "# **BATCH: APRIL 22** "
      ],
      "metadata": {
        "id": "g6sJXwjuXnyE"
      }
    },
    {
      "cell_type": "markdown",
      "metadata": {
        "id": "fyGLcqbs_S8i"
      },
      "source": [
        "<a name = Section0></a>\n",
        "# **Table of Contents**\n",
        "---\n",
        "\n",
        "**1.** [**Introduction**](#Section1)<br>\n",
        "**2.** [**Problem Statement**](#Section2)<br>\n",
        "**3.** [**Installing & Importing Libraries**](#Section3)<br>\n",
        "**4.** [**Data Acquisition & Description**](#Section4)<br>\n",
        "**5.** [**Data Pre-processing**](#Section5)<br>\n",
        "  - **5.1** [**Handling of Missing Data**](#Section51)\n",
        "  - **5.2** [**Data  Post Profiling**](#Section53)\n",
        "\n",
        "\n",
        "**6.** [**Exploratory Data Analysis**](#Section6)<br>\n",
        "\n",
        "**7.** [**Post Data Processing and Feature Selection**](#Section7)<br>\n",
        "  - **7.1** [**Feature Selection**](#Section71)\n",
        "  - **7.2** [**Data Preparation**](#Section72)\n",
        "\n",
        "**8.** [**Model Development & Evaluation**](#Section8)<br>\n",
        "  - **8.1** [**Logistic Regression**](#Section81)\n",
        "  - **8.2** [**Decision Tree Model**](#Section82)\n",
        "  - **8.3** [**Random Forest Tree Model**](#Section83)\n",
        "  - **8.4** [**K-Nearest Neighbour Model**](#Section84)\n",
        "  - **8.5** [**ADA Boost Model**](#Section85)\n",
        "  - **8.6** [**XG Boost Model**](#Section86)\n",
        "\n",
        "**9.** [**Hyper Parameter Tuning with Grid Searh CV**](#Section9)<br>\n",
        "  - **9.1** [**Tuned Logistic Regression**](#Section91)\n",
        "  - **9.2** [**Tuned Decision Tree Model**](#Section92)\n",
        "  - **9.3** [**Tuned Random Forest Tree Model**](#Section93)\n",
        "  - **9.4** [**Tuned K-Nearest Neighbour Model**](#Section94)\n",
        "  - **9.5** [**Tuned ADA Boost Model**](#Section95)\n",
        "  - **9.6** [**Tuned XG Boost Model**](#Section96)\n",
        "\n",
        "**10.** [**Hyper Parameter Tuning with Randomized Searh CV**](#Section10)<br>\n",
        "  - **10.1** [**Tuned Logistic Regression**](#Section101)\n",
        "  - **10.2** [**Tuned Decision Tree Model**](#Section102)\n",
        "  - **10.3** [**Tuned Random Forest Tree Model**](#Section103)\n",
        "  - **10.4** [**Tuned K-Nearest Neighbour Model**](#Section104)\n",
        "  - **10.5** [**Tuned ADA Boost Model**](#Section105)\n",
        "  - **10.6** [**Tuned XG Boost Model**](#Section106)\n",
        "\n",
        "**11.** [**Model Optimzation**](#Section11)<br>\n",
        "\n",
        "**12.** [**Evaluation of the Test Data**](#Section12)<br>\n",
        "\n",
        "**13.** [**Conclusion**](#Section13)<br>"
      ]
    },
    {
      "cell_type": "markdown",
      "metadata": {
        "id": "4zIlxLZyWfNp"
      },
      "source": [
        "---\n",
        "<a name = Section1></a>\n",
        "# **1. Introduction**\n",
        "---\n",
        "\n",
        "**Company Introduction**\n",
        "\n",
        "Client for this project is aa Healthcare Institute\n",
        "\n",
        "- They are going to provide early methods to detect heart attacks for their customers.\n",
        "-The idea is to use data to classify the presence of heart disease in the patient.\n",
        "-The System uses patient data and gives an early warning to the patient whether he is going to suffer from a heart attack or not .\n",
        "\n",
        "**Current Scenario**\n",
        "\n",
        "- The company rolled out this wearable system for real-time detection and warning of heart attacks service to about 10,000+ of its customers.\n"
      ]
    },
    {
      "cell_type": "markdown",
      "metadata": {
        "id": "xj-1xHO-FpTO"
      },
      "source": [
        "[*Go Back to Index*](#Section0)<br>"
      ]
    },
    {
      "cell_type": "markdown",
      "metadata": {
        "id": "4fv99VMcW8U2"
      },
      "source": [
        "---\n",
        "<a name = Section2></a>\n",
        "# **2. Problem Statement**\n",
        "---\n",
        "**The current process suffers from the following problems:**\n",
        "\n",
        "- Every year about 735,000 people have a heart attack. Of these, 525,000 are a first heart attack and 210,000 happen in people who have already had a heart attack.\n",
        "- The company wants to create a good data-driven system for predicting heart disease that can improve the entire research and prevention process, making sure that more people can live healthy lives.\n",
        "\n",
        "The company has hired you as a data science consultant.\n",
        "\n",
        "They want to automate the process of predicting the male or female voice using acoustic properties of the voice or speech rather than doing this manual work.\n",
        "\n",
        "**Our Role**\n",
        "\n",
        "- You are given datasets of past customers and their status ( heart_diseases_status 1 or 0).\n",
        "- Your task is to build a classification model using the datasets.\n",
        "- Because there was no machine learning model for this problem in the company, you don’t have a quantifiable win condition. You need to build the best possible model.\n",
        "\n",
        "**Project Deliverables**\n",
        "- Deliverable: The goal is to predict whether a patient has a heart disease or not..\n",
        "- Machine Learning Task: Classification\n",
        "- Target Variable: heart_disease_present(no heart disease present (0) / heart disease present(1))\n",
        "- Win Condition: N/A (best possible model)\n",
        "\n",
        "**Evaluation Metric**\n",
        "\n",
        "- The model evaluation will be based on the FI Score, Accuracy Score."
      ]
    },
    {
      "cell_type": "markdown",
      "metadata": {
        "id": "nbsu2ckoFtBd"
      },
      "source": [
        "[*Go Back to Index*](#Section0)<br>"
      ]
    },
    {
      "cell_type": "markdown",
      "metadata": {
        "id": "vmj1ERISZRjg"
      },
      "source": [
        "---\n",
        "<a name = Section3></a>\n",
        "# **3. Installing & Importing Libraries**\n",
        "---"
      ]
    },
    {
      "cell_type": "code",
      "source": [
        "!pip install ipython-autotime\n",
        "\n",
        "%load_ext autotime"
      ],
      "metadata": {
        "colab": {
          "base_uri": "https://localhost:8080/"
        },
        "id": "m5jSUoTwre8J",
        "outputId": "29fcc39f-1294-4102-8a0f-55d4544e1bc2"
      },
      "execution_count": 92,
      "outputs": [
        {
          "output_type": "stream",
          "name": "stdout",
          "text": [
            "Looking in indexes: https://pypi.org/simple, https://us-python.pkg.dev/colab-wheels/public/simple/\n",
            "Requirement already satisfied: ipython-autotime in /usr/local/lib/python3.8/dist-packages (0.3.1)\n",
            "Requirement already satisfied: ipython in /usr/local/lib/python3.8/dist-packages (from ipython-autotime) (7.9.0)\n",
            "Requirement already satisfied: pygments in /usr/local/lib/python3.8/dist-packages (from ipython->ipython-autotime) (2.6.1)\n",
            "Requirement already satisfied: prompt-toolkit<2.1.0,>=2.0.0 in /usr/local/lib/python3.8/dist-packages (from ipython->ipython-autotime) (2.0.10)\n",
            "Requirement already satisfied: backcall in /usr/local/lib/python3.8/dist-packages (from ipython->ipython-autotime) (0.2.0)\n",
            "Requirement already satisfied: pickleshare in /usr/local/lib/python3.8/dist-packages (from ipython->ipython-autotime) (0.7.5)\n",
            "Requirement already satisfied: jedi>=0.10 in /usr/local/lib/python3.8/dist-packages (from ipython->ipython-autotime) (0.18.2)\n",
            "Requirement already satisfied: decorator in /usr/local/lib/python3.8/dist-packages (from ipython->ipython-autotime) (4.4.2)\n",
            "Requirement already satisfied: pexpect in /usr/local/lib/python3.8/dist-packages (from ipython->ipython-autotime) (4.8.0)\n",
            "Requirement already satisfied: setuptools>=18.5 in /usr/local/lib/python3.8/dist-packages (from ipython->ipython-autotime) (57.4.0)\n",
            "Requirement already satisfied: traitlets>=4.2 in /usr/local/lib/python3.8/dist-packages (from ipython->ipython-autotime) (5.7.1)\n",
            "Requirement already satisfied: parso<0.9.0,>=0.8.0 in /usr/local/lib/python3.8/dist-packages (from jedi>=0.10->ipython->ipython-autotime) (0.8.3)\n",
            "Requirement already satisfied: six>=1.9.0 in /usr/local/lib/python3.8/dist-packages (from prompt-toolkit<2.1.0,>=2.0.0->ipython->ipython-autotime) (1.15.0)\n",
            "Requirement already satisfied: wcwidth in /usr/local/lib/python3.8/dist-packages (from prompt-toolkit<2.1.0,>=2.0.0->ipython->ipython-autotime) (0.2.6)\n",
            "Requirement already satisfied: ptyprocess>=0.5 in /usr/local/lib/python3.8/dist-packages (from pexpect->ipython->ipython-autotime) (0.7.0)\n",
            "The autotime extension is already loaded. To reload it, use:\n",
            "  %reload_ext autotime\n",
            "time: 4.16 s (started: 2023-02-04 07:39:23 +00:00)\n"
          ]
        }
      ]
    },
    {
      "cell_type": "code",
      "execution_count": 93,
      "metadata": {
        "id": "d6s8Dpp1kLvS",
        "colab": {
          "base_uri": "https://localhost:8080/"
        },
        "outputId": "4afa266b-a6b3-4c5e-e6bb-8d25ccafaecc"
      },
      "outputs": [
        {
          "output_type": "stream",
          "name": "stdout",
          "text": [
            "time: 12.6 ms (started: 2023-02-04 07:39:27 +00:00)\n"
          ]
        }
      ],
      "source": [
        "#-------------------------------------------------------------------------------------------------------------------------------\n",
        "import pandas as pd                                                 # Importing for panel data analysis\n",
        "from pandas_profiling import ProfileReport                          # Import Pandas Profiling (To generate Univariate Analysis) \n",
        "pd.set_option('display.max_columns', None)                          # Unfolding hidden features if the cardinality is high      \n",
        "pd.set_option('display.max_colwidth', None)                         # Unfolding the max feature width for better clearity      \n",
        "pd.set_option('display.max_rows', None)                             # Unfolding hidden data points if the cardinality is high\n",
        "pd.set_option('mode.chained_assignment', None)                      # Removing restriction over chained assignments operations\n",
        "pd.set_option('display.float_format', lambda x: '%.5f' % x)         # To suppress scientific notation over exponential values\n",
        "#-------------------------------------------------------------------------------------------------------------------------------\n",
        "import numpy as np                                                  # Importing package numpys (For Numerical Python)\n",
        "\n",
        "#-------------------------------------------------------------------------------------------------------------------------------\n",
        "import matplotlib.pyplot as plt                                     # Importing pyplot interface using matplotlib\n",
        "from matplotlib.pylab import rcParams                               # Backend used for rendering and GUI integration                                               \n",
        "import seaborn as sns                                               # Importin seaborm library for interactive visualization\n",
        "%matplotlib inline\n",
        "#-------------------------------------------------------------------------------------------------------------------------------\n",
        "from sklearn.metrics import accuracy_score                          # For calculating the accuracy for the model\n",
        "from sklearn.metrics import precision_score                         # For calculating the Precision of the model\n",
        "from sklearn.metrics import recall_score                            # For calculating the recall of the model\n",
        "from sklearn.metrics import precision_recall_curve                  # For precision and recall metric estimation\n",
        "from sklearn.metrics import confusion_matrix                        # For verifying model performance using confusion matrix\n",
        "from sklearn.metrics import f1_score                                # For Checking the F1-Score of our model  \n",
        "from sklearn.metrics import roc_curve                               # For Roc-Auc metric estimation\n",
        "from sklearn.utils import resample\n",
        "\n",
        "#-------------------------------------------------------------------------------------------------------------------------------\n",
        "from sklearn.model_selection import train_test_split                # To split the data in training and testing part     \n",
        "from sklearn.linear_model import LogisticRegression \n",
        "from sklearn.ensemble import RandomForestClassifier                 # To create the RandomForest Model\n",
        "from sklearn.model_selection import RandomizedSearchCV              # to create a RandomSearched hyper-tuned model\n",
        "\n",
        "#-------------------------------------------------------------------------------------------------------------------------------\n",
        "import warnings                                                     # Importing warning to disable runtime warnings\n",
        "warnings.filterwarnings(\"ignore\")                                   # Warnings will appear only once"
      ]
    },
    {
      "cell_type": "markdown",
      "metadata": {
        "id": "hQq6J9P0Fzo0"
      },
      "source": [
        "[*Go Back to Index*](#Section0)<br>"
      ]
    },
    {
      "cell_type": "markdown",
      "metadata": {
        "id": "7Vl4XL8dZ0ps"
      },
      "source": [
        "---\n",
        "<a name = Section4></a>\n",
        "# **4. Data Acquisition & Description**\n",
        "---\n",
        "\n",
        "We are provided with a dataset containing all the necessary information about the customers like their age,chest paint type,resting blood pressure,maximum heart rate achieved, etc.\n",
        "\n",
        "The column **Output** is also present in the dataset which has two values 1 and 0 which corresponds to \"There is a Risk\" and \"There is no Risk\".\n",
        "\n",
        "The dataset is divided into two parts: Train, and Test sets.\n",
        "\n",
        "** Train Set:**\n",
        "- The train set contains 242 rows and 14 columns.\n",
        "- The last column output is the target variable.\n",
        "\n",
        "** Test Set:**\n",
        "- The test set contains 61 rows and 13 columns.\n",
        "- The test set doesn’t contain the output column.\n",
        "- It needs to be predicted for the test set.\n",
        "\n",
        "**Dataset Feature Description**\n",
        "\n",
        "The Dataset contains the following columns:\n",
        "\n",
        "\n",
        "| Id | Features | Description |\n",
        "| :-- | :--| :--| \n",
        "|00|**Number**|Unique identifier|\n",
        "|01|**age**|Age in Year.|\n",
        "|02|**sex**|Gender 0: Female 1: Male.| \n",
        "|03|**cp**| Chest Pain Type 4 Values 0:Typical 1:Atypical 2:Non-anginal 3: Asymptmatic.|\n",
        "|04|**trtbps**| resting blood pressure (in mm Hg on admission to the hospital) anything above 130-140 is typically cause for concern.|\n",
        "|05|**chol**|serum cholesterol in mg/dl, above 200 is cause for concern.|\n",
        "|06|**fbs**|Fasting Blood pressure >120mg/dl,1=True 0=False|\n",
        "|07|**restecg**|Resting ECG results Values 0:Nothing to note,1:ST-T Wave abnormality,2:Possible or definite left ventricular hypertrophy|\n",
        "|08|**thalachh**|maximum heart rate achieved|\n",
        "|09|**exng**|Exercise induced Chest Pain( O: False, 1: True.|\n",
        "|10|**oldpeak**|oldpeak = ST depression induced by exercise relative to rest, a measure of abnormality in electrocardiograms|\n",
        "|11|**slp**|the slope of the peak exercise ST segment, 0: Upsloping 1: Flatsloping 2: Downslopins: signs of unhealthy heart|\n",
        "|12|**caa**|number of major vessels (0-3) colored by flourosopy, the more blood movement the better (no clots)|\n",
        "|13|**thall**|results of thallium stress test 1,3: normal, 6: fixed defect: used to be defect but ok now, 7: reversable defect: no proper blood movement when excercising.|\n",
        "|14|**output**|heart_disease_present 0: Low Risk, 1: High Risk|\n",
        "\n"
      ]
    },
    {
      "cell_type": "code",
      "source": [
        "had = pd.read_excel(\"https://github.com/Samit8878/samitcolab/blob/main/heart_train.xlsx?raw=true\")\n"
      ],
      "metadata": {
        "id": "hxd7LDpJrGwj",
        "colab": {
          "base_uri": "https://localhost:8080/"
        },
        "outputId": "d140aecb-6119-408e-a15f-b815337c2ef3"
      },
      "execution_count": 94,
      "outputs": [
        {
          "output_type": "stream",
          "name": "stdout",
          "text": [
            "time: 673 ms (started: 2023-02-04 07:39:27 +00:00)\n"
          ]
        }
      ]
    },
    {
      "cell_type": "code",
      "execution_count": 95,
      "metadata": {
        "colab": {
          "base_uri": "https://localhost:8080/"
        },
        "id": "dCatBNLQlG11",
        "outputId": "eb1db8c7-0e8e-40bd-9693-a253c5184a87"
      },
      "outputs": [
        {
          "output_type": "stream",
          "name": "stdout",
          "text": [
            "<class 'pandas.core.frame.DataFrame'>\n",
            "RangeIndex: 242 entries, 0 to 241\n",
            "Data columns (total 15 columns):\n",
            " #   Column    Non-Null Count  Dtype  \n",
            "---  ------    --------------  -----  \n",
            " 0   Number    242 non-null    float64\n",
            " 1   age       242 non-null    float64\n",
            " 2   sex       242 non-null    float64\n",
            " 3   cp        242 non-null    float64\n",
            " 4   trtbps    242 non-null    float64\n",
            " 5   chol      242 non-null    float64\n",
            " 6   fbs       242 non-null    float64\n",
            " 7   restecg   242 non-null    float64\n",
            " 8   thalachh  242 non-null    float64\n",
            " 9   exng      242 non-null    float64\n",
            " 10  oldpeak   242 non-null    float64\n",
            " 11  slp       242 non-null    float64\n",
            " 12  caa       242 non-null    float64\n",
            " 13  thall     242 non-null    float64\n",
            " 14  output    242 non-null    float64\n",
            "dtypes: float64(15)\n",
            "memory usage: 28.5 KB\n",
            "time: 21.1 ms (started: 2023-02-04 07:39:28 +00:00)\n"
          ]
        }
      ],
      "source": [
        "had.info()"
      ]
    },
    {
      "cell_type": "markdown",
      "metadata": {
        "id": "EjFpiGKNF4CY"
      },
      "source": [
        "[*Go Back to Index*](#Section0)<br>"
      ]
    },
    {
      "cell_type": "markdown",
      "metadata": {
        "id": "s25rWFCO5vmb"
      },
      "source": [
        "<a name = Section5></a>\n",
        "\n",
        "---\n",
        "# **5. Data Pre-Processing**\n",
        "---"
      ]
    },
    {
      "cell_type": "code",
      "execution_count": 96,
      "metadata": {
        "id": "QTd_9a2cGzAF",
        "colab": {
          "base_uri": "https://localhost:8080/",
          "height": 224
        },
        "outputId": "3c261df9-c9e5-4a12-dacd-ea473f867339"
      },
      "outputs": [
        {
          "output_type": "execute_result",
          "data": {
            "text/plain": [
              "     Number      age     sex      cp    trtbps      chol     fbs  restecg  \\\n",
              "0 132.00000 42.00000 1.00000 1.00000 120.00000 295.00000 0.00000  1.00000   \n",
              "1 202.00000 58.00000 1.00000 0.00000 150.00000 270.00000 0.00000  0.00000   \n",
              "2 196.00000 46.00000 1.00000 2.00000 150.00000 231.00000 0.00000  1.00000   \n",
              "3  75.00000 55.00000 0.00000 1.00000 135.00000 250.00000 0.00000  0.00000   \n",
              "4 176.00000 60.00000 1.00000 0.00000 117.00000 230.00000 1.00000  1.00000   \n",
              "\n",
              "   thalachh    exng  oldpeak     slp     caa   thall  output  \n",
              "0 162.00000 0.00000  0.00000 2.00000 0.00000 2.00000 1.00000  \n",
              "1 111.00000 1.00000  0.80000 2.00000 0.00000 3.00000 0.00000  \n",
              "2 147.00000 0.00000  3.60000 1.00000 0.00000 2.00000 0.00000  \n",
              "3 161.00000 0.00000  1.40000 1.00000 0.00000 2.00000 1.00000  \n",
              "4 160.00000 1.00000  1.40000 2.00000 2.00000 3.00000 0.00000  "
            ],
            "text/html": [
              "\n",
              "  <div id=\"df-8de9bc1d-86a1-4368-ae9d-a29efa369ea8\">\n",
              "    <div class=\"colab-df-container\">\n",
              "      <div>\n",
              "<style scoped>\n",
              "    .dataframe tbody tr th:only-of-type {\n",
              "        vertical-align: middle;\n",
              "    }\n",
              "\n",
              "    .dataframe tbody tr th {\n",
              "        vertical-align: top;\n",
              "    }\n",
              "\n",
              "    .dataframe thead th {\n",
              "        text-align: right;\n",
              "    }\n",
              "</style>\n",
              "<table border=\"1\" class=\"dataframe\">\n",
              "  <thead>\n",
              "    <tr style=\"text-align: right;\">\n",
              "      <th></th>\n",
              "      <th>Number</th>\n",
              "      <th>age</th>\n",
              "      <th>sex</th>\n",
              "      <th>cp</th>\n",
              "      <th>trtbps</th>\n",
              "      <th>chol</th>\n",
              "      <th>fbs</th>\n",
              "      <th>restecg</th>\n",
              "      <th>thalachh</th>\n",
              "      <th>exng</th>\n",
              "      <th>oldpeak</th>\n",
              "      <th>slp</th>\n",
              "      <th>caa</th>\n",
              "      <th>thall</th>\n",
              "      <th>output</th>\n",
              "    </tr>\n",
              "  </thead>\n",
              "  <tbody>\n",
              "    <tr>\n",
              "      <th>0</th>\n",
              "      <td>132.00000</td>\n",
              "      <td>42.00000</td>\n",
              "      <td>1.00000</td>\n",
              "      <td>1.00000</td>\n",
              "      <td>120.00000</td>\n",
              "      <td>295.00000</td>\n",
              "      <td>0.00000</td>\n",
              "      <td>1.00000</td>\n",
              "      <td>162.00000</td>\n",
              "      <td>0.00000</td>\n",
              "      <td>0.00000</td>\n",
              "      <td>2.00000</td>\n",
              "      <td>0.00000</td>\n",
              "      <td>2.00000</td>\n",
              "      <td>1.00000</td>\n",
              "    </tr>\n",
              "    <tr>\n",
              "      <th>1</th>\n",
              "      <td>202.00000</td>\n",
              "      <td>58.00000</td>\n",
              "      <td>1.00000</td>\n",
              "      <td>0.00000</td>\n",
              "      <td>150.00000</td>\n",
              "      <td>270.00000</td>\n",
              "      <td>0.00000</td>\n",
              "      <td>0.00000</td>\n",
              "      <td>111.00000</td>\n",
              "      <td>1.00000</td>\n",
              "      <td>0.80000</td>\n",
              "      <td>2.00000</td>\n",
              "      <td>0.00000</td>\n",
              "      <td>3.00000</td>\n",
              "      <td>0.00000</td>\n",
              "    </tr>\n",
              "    <tr>\n",
              "      <th>2</th>\n",
              "      <td>196.00000</td>\n",
              "      <td>46.00000</td>\n",
              "      <td>1.00000</td>\n",
              "      <td>2.00000</td>\n",
              "      <td>150.00000</td>\n",
              "      <td>231.00000</td>\n",
              "      <td>0.00000</td>\n",
              "      <td>1.00000</td>\n",
              "      <td>147.00000</td>\n",
              "      <td>0.00000</td>\n",
              "      <td>3.60000</td>\n",
              "      <td>1.00000</td>\n",
              "      <td>0.00000</td>\n",
              "      <td>2.00000</td>\n",
              "      <td>0.00000</td>\n",
              "    </tr>\n",
              "    <tr>\n",
              "      <th>3</th>\n",
              "      <td>75.00000</td>\n",
              "      <td>55.00000</td>\n",
              "      <td>0.00000</td>\n",
              "      <td>1.00000</td>\n",
              "      <td>135.00000</td>\n",
              "      <td>250.00000</td>\n",
              "      <td>0.00000</td>\n",
              "      <td>0.00000</td>\n",
              "      <td>161.00000</td>\n",
              "      <td>0.00000</td>\n",
              "      <td>1.40000</td>\n",
              "      <td>1.00000</td>\n",
              "      <td>0.00000</td>\n",
              "      <td>2.00000</td>\n",
              "      <td>1.00000</td>\n",
              "    </tr>\n",
              "    <tr>\n",
              "      <th>4</th>\n",
              "      <td>176.00000</td>\n",
              "      <td>60.00000</td>\n",
              "      <td>1.00000</td>\n",
              "      <td>0.00000</td>\n",
              "      <td>117.00000</td>\n",
              "      <td>230.00000</td>\n",
              "      <td>1.00000</td>\n",
              "      <td>1.00000</td>\n",
              "      <td>160.00000</td>\n",
              "      <td>1.00000</td>\n",
              "      <td>1.40000</td>\n",
              "      <td>2.00000</td>\n",
              "      <td>2.00000</td>\n",
              "      <td>3.00000</td>\n",
              "      <td>0.00000</td>\n",
              "    </tr>\n",
              "  </tbody>\n",
              "</table>\n",
              "</div>\n",
              "      <button class=\"colab-df-convert\" onclick=\"convertToInteractive('df-8de9bc1d-86a1-4368-ae9d-a29efa369ea8')\"\n",
              "              title=\"Convert this dataframe to an interactive table.\"\n",
              "              style=\"display:none;\">\n",
              "        \n",
              "  <svg xmlns=\"http://www.w3.org/2000/svg\" height=\"24px\"viewBox=\"0 0 24 24\"\n",
              "       width=\"24px\">\n",
              "    <path d=\"M0 0h24v24H0V0z\" fill=\"none\"/>\n",
              "    <path d=\"M18.56 5.44l.94 2.06.94-2.06 2.06-.94-2.06-.94-.94-2.06-.94 2.06-2.06.94zm-11 1L8.5 8.5l.94-2.06 2.06-.94-2.06-.94L8.5 2.5l-.94 2.06-2.06.94zm10 10l.94 2.06.94-2.06 2.06-.94-2.06-.94-.94-2.06-.94 2.06-2.06.94z\"/><path d=\"M17.41 7.96l-1.37-1.37c-.4-.4-.92-.59-1.43-.59-.52 0-1.04.2-1.43.59L10.3 9.45l-7.72 7.72c-.78.78-.78 2.05 0 2.83L4 21.41c.39.39.9.59 1.41.59.51 0 1.02-.2 1.41-.59l7.78-7.78 2.81-2.81c.8-.78.8-2.07 0-2.86zM5.41 20L4 18.59l7.72-7.72 1.47 1.35L5.41 20z\"/>\n",
              "  </svg>\n",
              "      </button>\n",
              "      \n",
              "  <style>\n",
              "    .colab-df-container {\n",
              "      display:flex;\n",
              "      flex-wrap:wrap;\n",
              "      gap: 12px;\n",
              "    }\n",
              "\n",
              "    .colab-df-convert {\n",
              "      background-color: #E8F0FE;\n",
              "      border: none;\n",
              "      border-radius: 50%;\n",
              "      cursor: pointer;\n",
              "      display: none;\n",
              "      fill: #1967D2;\n",
              "      height: 32px;\n",
              "      padding: 0 0 0 0;\n",
              "      width: 32px;\n",
              "    }\n",
              "\n",
              "    .colab-df-convert:hover {\n",
              "      background-color: #E2EBFA;\n",
              "      box-shadow: 0px 1px 2px rgba(60, 64, 67, 0.3), 0px 1px 3px 1px rgba(60, 64, 67, 0.15);\n",
              "      fill: #174EA6;\n",
              "    }\n",
              "\n",
              "    [theme=dark] .colab-df-convert {\n",
              "      background-color: #3B4455;\n",
              "      fill: #D2E3FC;\n",
              "    }\n",
              "\n",
              "    [theme=dark] .colab-df-convert:hover {\n",
              "      background-color: #434B5C;\n",
              "      box-shadow: 0px 1px 3px 1px rgba(0, 0, 0, 0.15);\n",
              "      filter: drop-shadow(0px 1px 2px rgba(0, 0, 0, 0.3));\n",
              "      fill: #FFFFFF;\n",
              "    }\n",
              "  </style>\n",
              "\n",
              "      <script>\n",
              "        const buttonEl =\n",
              "          document.querySelector('#df-8de9bc1d-86a1-4368-ae9d-a29efa369ea8 button.colab-df-convert');\n",
              "        buttonEl.style.display =\n",
              "          google.colab.kernel.accessAllowed ? 'block' : 'none';\n",
              "\n",
              "        async function convertToInteractive(key) {\n",
              "          const element = document.querySelector('#df-8de9bc1d-86a1-4368-ae9d-a29efa369ea8');\n",
              "          const dataTable =\n",
              "            await google.colab.kernel.invokeFunction('convertToInteractive',\n",
              "                                                     [key], {});\n",
              "          if (!dataTable) return;\n",
              "\n",
              "          const docLinkHtml = 'Like what you see? Visit the ' +\n",
              "            '<a target=\"_blank\" href=https://colab.research.google.com/notebooks/data_table.ipynb>data table notebook</a>'\n",
              "            + ' to learn more about interactive tables.';\n",
              "          element.innerHTML = '';\n",
              "          dataTable['output_type'] = 'display_data';\n",
              "          await google.colab.output.renderOutput(dataTable, element);\n",
              "          const docLink = document.createElement('div');\n",
              "          docLink.innerHTML = docLinkHtml;\n",
              "          element.appendChild(docLink);\n",
              "        }\n",
              "      </script>\n",
              "    </div>\n",
              "  </div>\n",
              "  "
            ]
          },
          "metadata": {},
          "execution_count": 96
        },
        {
          "output_type": "stream",
          "name": "stdout",
          "text": [
            "time: 16.2 ms (started: 2023-02-04 07:39:28 +00:00)\n"
          ]
        }
      ],
      "source": [
        "had.head()"
      ]
    },
    {
      "cell_type": "code",
      "execution_count": 97,
      "metadata": {
        "id": "_OHYQ6RanisE",
        "colab": {
          "base_uri": "https://localhost:8080/",
          "height": 382
        },
        "outputId": "f586ee15-1179-465d-fed8-808a60a60cae"
      },
      "outputs": [
        {
          "output_type": "execute_result",
          "data": {
            "text/plain": [
              "         Number       age       sex        cp    trtbps      chol       fbs  \\\n",
              "count 242.00000 242.00000 242.00000 242.00000 242.00000 242.00000 242.00000   \n",
              "mean  150.18595  54.46281   0.65702   0.99174 130.35950 246.84298   0.12810   \n",
              "std    86.85588   9.20449   0.47569   1.02253  16.82886  52.79547   0.33489   \n",
              "min     0.00000  29.00000   0.00000   0.00000  94.00000 131.00000   0.00000   \n",
              "25%    74.25000  48.00000   0.00000   0.00000 120.00000 212.00000   0.00000   \n",
              "50%   152.00000  55.50000   1.00000   1.00000 130.00000 239.50000   0.00000   \n",
              "75%   221.75000  61.00000   1.00000   2.00000 140.00000 274.75000   0.00000   \n",
              "max   302.00000  77.00000   1.00000   3.00000 192.00000 564.00000   1.00000   \n",
              "\n",
              "        restecg  thalachh      exng   oldpeak       slp       caa     thall  \\\n",
              "count 242.00000 242.00000 242.00000 242.00000 242.00000 242.00000 242.00000   \n",
              "mean    0.55372 150.11570   0.31405   1.01322   1.42149   0.68182   2.30165   \n",
              "std     0.53041  22.35240   0.46510   1.10258   0.60772   0.99062   0.59381   \n",
              "min     0.00000  88.00000   0.00000   0.00000   0.00000   0.00000   0.00000   \n",
              "25%     0.00000 136.00000   0.00000   0.00000   1.00000   0.00000   2.00000   \n",
              "50%     1.00000 154.00000   0.00000   0.80000   1.00000   0.00000   2.00000   \n",
              "75%     1.00000 165.75000   1.00000   1.60000   2.00000   1.00000   3.00000   \n",
              "max     2.00000 202.00000   1.00000   5.60000   2.00000   4.00000   3.00000   \n",
              "\n",
              "         output  \n",
              "count 242.00000  \n",
              "mean    0.54959  \n",
              "std     0.49857  \n",
              "min     0.00000  \n",
              "25%     0.00000  \n",
              "50%     1.00000  \n",
              "75%     1.00000  \n",
              "max     1.00000  "
            ],
            "text/html": [
              "\n",
              "  <div id=\"df-f9937182-8662-4a4a-be66-c06518cd27c5\">\n",
              "    <div class=\"colab-df-container\">\n",
              "      <div>\n",
              "<style scoped>\n",
              "    .dataframe tbody tr th:only-of-type {\n",
              "        vertical-align: middle;\n",
              "    }\n",
              "\n",
              "    .dataframe tbody tr th {\n",
              "        vertical-align: top;\n",
              "    }\n",
              "\n",
              "    .dataframe thead th {\n",
              "        text-align: right;\n",
              "    }\n",
              "</style>\n",
              "<table border=\"1\" class=\"dataframe\">\n",
              "  <thead>\n",
              "    <tr style=\"text-align: right;\">\n",
              "      <th></th>\n",
              "      <th>Number</th>\n",
              "      <th>age</th>\n",
              "      <th>sex</th>\n",
              "      <th>cp</th>\n",
              "      <th>trtbps</th>\n",
              "      <th>chol</th>\n",
              "      <th>fbs</th>\n",
              "      <th>restecg</th>\n",
              "      <th>thalachh</th>\n",
              "      <th>exng</th>\n",
              "      <th>oldpeak</th>\n",
              "      <th>slp</th>\n",
              "      <th>caa</th>\n",
              "      <th>thall</th>\n",
              "      <th>output</th>\n",
              "    </tr>\n",
              "  </thead>\n",
              "  <tbody>\n",
              "    <tr>\n",
              "      <th>count</th>\n",
              "      <td>242.00000</td>\n",
              "      <td>242.00000</td>\n",
              "      <td>242.00000</td>\n",
              "      <td>242.00000</td>\n",
              "      <td>242.00000</td>\n",
              "      <td>242.00000</td>\n",
              "      <td>242.00000</td>\n",
              "      <td>242.00000</td>\n",
              "      <td>242.00000</td>\n",
              "      <td>242.00000</td>\n",
              "      <td>242.00000</td>\n",
              "      <td>242.00000</td>\n",
              "      <td>242.00000</td>\n",
              "      <td>242.00000</td>\n",
              "      <td>242.00000</td>\n",
              "    </tr>\n",
              "    <tr>\n",
              "      <th>mean</th>\n",
              "      <td>150.18595</td>\n",
              "      <td>54.46281</td>\n",
              "      <td>0.65702</td>\n",
              "      <td>0.99174</td>\n",
              "      <td>130.35950</td>\n",
              "      <td>246.84298</td>\n",
              "      <td>0.12810</td>\n",
              "      <td>0.55372</td>\n",
              "      <td>150.11570</td>\n",
              "      <td>0.31405</td>\n",
              "      <td>1.01322</td>\n",
              "      <td>1.42149</td>\n",
              "      <td>0.68182</td>\n",
              "      <td>2.30165</td>\n",
              "      <td>0.54959</td>\n",
              "    </tr>\n",
              "    <tr>\n",
              "      <th>std</th>\n",
              "      <td>86.85588</td>\n",
              "      <td>9.20449</td>\n",
              "      <td>0.47569</td>\n",
              "      <td>1.02253</td>\n",
              "      <td>16.82886</td>\n",
              "      <td>52.79547</td>\n",
              "      <td>0.33489</td>\n",
              "      <td>0.53041</td>\n",
              "      <td>22.35240</td>\n",
              "      <td>0.46510</td>\n",
              "      <td>1.10258</td>\n",
              "      <td>0.60772</td>\n",
              "      <td>0.99062</td>\n",
              "      <td>0.59381</td>\n",
              "      <td>0.49857</td>\n",
              "    </tr>\n",
              "    <tr>\n",
              "      <th>min</th>\n",
              "      <td>0.00000</td>\n",
              "      <td>29.00000</td>\n",
              "      <td>0.00000</td>\n",
              "      <td>0.00000</td>\n",
              "      <td>94.00000</td>\n",
              "      <td>131.00000</td>\n",
              "      <td>0.00000</td>\n",
              "      <td>0.00000</td>\n",
              "      <td>88.00000</td>\n",
              "      <td>0.00000</td>\n",
              "      <td>0.00000</td>\n",
              "      <td>0.00000</td>\n",
              "      <td>0.00000</td>\n",
              "      <td>0.00000</td>\n",
              "      <td>0.00000</td>\n",
              "    </tr>\n",
              "    <tr>\n",
              "      <th>25%</th>\n",
              "      <td>74.25000</td>\n",
              "      <td>48.00000</td>\n",
              "      <td>0.00000</td>\n",
              "      <td>0.00000</td>\n",
              "      <td>120.00000</td>\n",
              "      <td>212.00000</td>\n",
              "      <td>0.00000</td>\n",
              "      <td>0.00000</td>\n",
              "      <td>136.00000</td>\n",
              "      <td>0.00000</td>\n",
              "      <td>0.00000</td>\n",
              "      <td>1.00000</td>\n",
              "      <td>0.00000</td>\n",
              "      <td>2.00000</td>\n",
              "      <td>0.00000</td>\n",
              "    </tr>\n",
              "    <tr>\n",
              "      <th>50%</th>\n",
              "      <td>152.00000</td>\n",
              "      <td>55.50000</td>\n",
              "      <td>1.00000</td>\n",
              "      <td>1.00000</td>\n",
              "      <td>130.00000</td>\n",
              "      <td>239.50000</td>\n",
              "      <td>0.00000</td>\n",
              "      <td>1.00000</td>\n",
              "      <td>154.00000</td>\n",
              "      <td>0.00000</td>\n",
              "      <td>0.80000</td>\n",
              "      <td>1.00000</td>\n",
              "      <td>0.00000</td>\n",
              "      <td>2.00000</td>\n",
              "      <td>1.00000</td>\n",
              "    </tr>\n",
              "    <tr>\n",
              "      <th>75%</th>\n",
              "      <td>221.75000</td>\n",
              "      <td>61.00000</td>\n",
              "      <td>1.00000</td>\n",
              "      <td>2.00000</td>\n",
              "      <td>140.00000</td>\n",
              "      <td>274.75000</td>\n",
              "      <td>0.00000</td>\n",
              "      <td>1.00000</td>\n",
              "      <td>165.75000</td>\n",
              "      <td>1.00000</td>\n",
              "      <td>1.60000</td>\n",
              "      <td>2.00000</td>\n",
              "      <td>1.00000</td>\n",
              "      <td>3.00000</td>\n",
              "      <td>1.00000</td>\n",
              "    </tr>\n",
              "    <tr>\n",
              "      <th>max</th>\n",
              "      <td>302.00000</td>\n",
              "      <td>77.00000</td>\n",
              "      <td>1.00000</td>\n",
              "      <td>3.00000</td>\n",
              "      <td>192.00000</td>\n",
              "      <td>564.00000</td>\n",
              "      <td>1.00000</td>\n",
              "      <td>2.00000</td>\n",
              "      <td>202.00000</td>\n",
              "      <td>1.00000</td>\n",
              "      <td>5.60000</td>\n",
              "      <td>2.00000</td>\n",
              "      <td>4.00000</td>\n",
              "      <td>3.00000</td>\n",
              "      <td>1.00000</td>\n",
              "    </tr>\n",
              "  </tbody>\n",
              "</table>\n",
              "</div>\n",
              "      <button class=\"colab-df-convert\" onclick=\"convertToInteractive('df-f9937182-8662-4a4a-be66-c06518cd27c5')\"\n",
              "              title=\"Convert this dataframe to an interactive table.\"\n",
              "              style=\"display:none;\">\n",
              "        \n",
              "  <svg xmlns=\"http://www.w3.org/2000/svg\" height=\"24px\"viewBox=\"0 0 24 24\"\n",
              "       width=\"24px\">\n",
              "    <path d=\"M0 0h24v24H0V0z\" fill=\"none\"/>\n",
              "    <path d=\"M18.56 5.44l.94 2.06.94-2.06 2.06-.94-2.06-.94-.94-2.06-.94 2.06-2.06.94zm-11 1L8.5 8.5l.94-2.06 2.06-.94-2.06-.94L8.5 2.5l-.94 2.06-2.06.94zm10 10l.94 2.06.94-2.06 2.06-.94-2.06-.94-.94-2.06-.94 2.06-2.06.94z\"/><path d=\"M17.41 7.96l-1.37-1.37c-.4-.4-.92-.59-1.43-.59-.52 0-1.04.2-1.43.59L10.3 9.45l-7.72 7.72c-.78.78-.78 2.05 0 2.83L4 21.41c.39.39.9.59 1.41.59.51 0 1.02-.2 1.41-.59l7.78-7.78 2.81-2.81c.8-.78.8-2.07 0-2.86zM5.41 20L4 18.59l7.72-7.72 1.47 1.35L5.41 20z\"/>\n",
              "  </svg>\n",
              "      </button>\n",
              "      \n",
              "  <style>\n",
              "    .colab-df-container {\n",
              "      display:flex;\n",
              "      flex-wrap:wrap;\n",
              "      gap: 12px;\n",
              "    }\n",
              "\n",
              "    .colab-df-convert {\n",
              "      background-color: #E8F0FE;\n",
              "      border: none;\n",
              "      border-radius: 50%;\n",
              "      cursor: pointer;\n",
              "      display: none;\n",
              "      fill: #1967D2;\n",
              "      height: 32px;\n",
              "      padding: 0 0 0 0;\n",
              "      width: 32px;\n",
              "    }\n",
              "\n",
              "    .colab-df-convert:hover {\n",
              "      background-color: #E2EBFA;\n",
              "      box-shadow: 0px 1px 2px rgba(60, 64, 67, 0.3), 0px 1px 3px 1px rgba(60, 64, 67, 0.15);\n",
              "      fill: #174EA6;\n",
              "    }\n",
              "\n",
              "    [theme=dark] .colab-df-convert {\n",
              "      background-color: #3B4455;\n",
              "      fill: #D2E3FC;\n",
              "    }\n",
              "\n",
              "    [theme=dark] .colab-df-convert:hover {\n",
              "      background-color: #434B5C;\n",
              "      box-shadow: 0px 1px 3px 1px rgba(0, 0, 0, 0.15);\n",
              "      filter: drop-shadow(0px 1px 2px rgba(0, 0, 0, 0.3));\n",
              "      fill: #FFFFFF;\n",
              "    }\n",
              "  </style>\n",
              "\n",
              "      <script>\n",
              "        const buttonEl =\n",
              "          document.querySelector('#df-f9937182-8662-4a4a-be66-c06518cd27c5 button.colab-df-convert');\n",
              "        buttonEl.style.display =\n",
              "          google.colab.kernel.accessAllowed ? 'block' : 'none';\n",
              "\n",
              "        async function convertToInteractive(key) {\n",
              "          const element = document.querySelector('#df-f9937182-8662-4a4a-be66-c06518cd27c5');\n",
              "          const dataTable =\n",
              "            await google.colab.kernel.invokeFunction('convertToInteractive',\n",
              "                                                     [key], {});\n",
              "          if (!dataTable) return;\n",
              "\n",
              "          const docLinkHtml = 'Like what you see? Visit the ' +\n",
              "            '<a target=\"_blank\" href=https://colab.research.google.com/notebooks/data_table.ipynb>data table notebook</a>'\n",
              "            + ' to learn more about interactive tables.';\n",
              "          element.innerHTML = '';\n",
              "          dataTable['output_type'] = 'display_data';\n",
              "          await google.colab.output.renderOutput(dataTable, element);\n",
              "          const docLink = document.createElement('div');\n",
              "          docLink.innerHTML = docLinkHtml;\n",
              "          element.appendChild(docLink);\n",
              "        }\n",
              "      </script>\n",
              "    </div>\n",
              "  </div>\n",
              "  "
            ]
          },
          "metadata": {},
          "execution_count": 97
        },
        {
          "output_type": "stream",
          "name": "stdout",
          "text": [
            "time: 62.2 ms (started: 2023-02-04 07:39:28 +00:00)\n"
          ]
        }
      ],
      "source": [
        "had.describe()"
      ]
    },
    {
      "cell_type": "code",
      "execution_count": 98,
      "metadata": {
        "id": "YeEta2crnux2",
        "colab": {
          "base_uri": "https://localhost:8080/"
        },
        "outputId": "57cab04d-4518-4ecc-abee-400ce93c65f0"
      },
      "outputs": [
        {
          "output_type": "execute_result",
          "data": {
            "text/plain": [
              "Number      242\n",
              "age          40\n",
              "sex           2\n",
              "cp            4\n",
              "trtbps       45\n",
              "chol        137\n",
              "fbs           2\n",
              "restecg       3\n",
              "thalachh     83\n",
              "exng          2\n",
              "oldpeak      38\n",
              "slp           3\n",
              "caa           5\n",
              "thall         4\n",
              "output        2\n",
              "dtype: int64"
            ]
          },
          "metadata": {},
          "execution_count": 98
        },
        {
          "output_type": "stream",
          "name": "stdout",
          "text": [
            "time: 10.3 ms (started: 2023-02-04 07:39:28 +00:00)\n"
          ]
        }
      ],
      "source": [
        "had.nunique()"
      ]
    },
    {
      "cell_type": "markdown",
      "metadata": {
        "id": "ggwK6iq9sHf2"
      },
      "source": [
        "**Observation:**\n",
        "\n",
        "- The Train Data consists of 300,000 rows, with no missing values.\n",
        "- There are total 11 columns\n",
        "- 3 Columns are of Object Datatype, Gender, Vehicle_Age, Veehicle_Damage\n",
        "- Other than Age, Region, Annual_Premium, Policy Sales Channel & Vintage, the rest are categorical with Binary code\n",
        "- Response is the Target Variable\n",
        "\n",
        "- The Test Data contains 81109 rows\n",
        "\n"
      ]
    },
    {
      "cell_type": "markdown",
      "metadata": {
        "id": "bOPDAA_Ny33-"
      },
      "source": [
        "<a name = Section51></a>\n",
        "### **5.1 Handling of Missing Data**\n",
        "\n",
        "- In this section, we will identify missing data and check the proportion of it and take appropriate measures."
      ]
    },
    {
      "cell_type": "code",
      "execution_count": 99,
      "metadata": {
        "id": "5cEyZzGUoefk",
        "colab": {
          "base_uri": "https://localhost:8080/"
        },
        "outputId": "352e0f60-8eba-4fa9-f811-90a49d9bc575"
      },
      "outputs": [
        {
          "output_type": "execute_result",
          "data": {
            "text/plain": [
              "Number      0\n",
              "age         0\n",
              "sex         0\n",
              "cp          0\n",
              "trtbps      0\n",
              "chol        0\n",
              "fbs         0\n",
              "restecg     0\n",
              "thalachh    0\n",
              "exng        0\n",
              "oldpeak     0\n",
              "slp         0\n",
              "caa         0\n",
              "thall       0\n",
              "output      0\n",
              "dtype: int64"
            ]
          },
          "metadata": {},
          "execution_count": 99
        },
        {
          "output_type": "stream",
          "name": "stdout",
          "text": [
            "time: 10.4 ms (started: 2023-02-04 07:39:28 +00:00)\n"
          ]
        }
      ],
      "source": [
        "had.isnull().sum()"
      ]
    },
    {
      "cell_type": "code",
      "execution_count": 100,
      "metadata": {
        "id": "2IFWikzmpSHv",
        "colab": {
          "base_uri": "https://localhost:8080/"
        },
        "outputId": "d2b093ab-5d33-4bce-d542-1b4156803596"
      },
      "outputs": [
        {
          "output_type": "stream",
          "name": "stdout",
          "text": [
            "time: 6.86 ms (started: 2023-02-04 07:39:28 +00:00)\n"
          ]
        }
      ],
      "source": [
        "duplicate=had[had.duplicated()]"
      ]
    },
    {
      "cell_type": "markdown",
      "metadata": {
        "id": "BNYA4dTelk4f"
      },
      "source": [
        "**Observation:**\n",
        "\n",
        "- There are no missing Values\n",
        "\n",
        "- There are no duplicates\n",
        "\n",
        "The Data is clear and good for ** EDA**\n"
      ]
    },
    {
      "cell_type": "markdown",
      "metadata": {
        "id": "F-Xk463w-yw2"
      },
      "source": [
        "<a name = Section53></a>\n",
        "### **5.2 Data Profiling**\n",
        "\n",
        "- In this section, we will run the Profile Report \n",
        "\n"
      ]
    },
    {
      "cell_type": "markdown",
      "metadata": {
        "id": "kkBoQ6FgGC_g"
      },
      "source": [
        "[*Go Back to Index*](#Section0)<br>"
      ]
    },
    {
      "cell_type": "markdown",
      "metadata": {
        "id": "H1dTrDuMbZxi"
      },
      "source": [
        "<a name = Section6></a>\n",
        "\n",
        "---\n",
        "# **6. Exploratory Data Analysis**\n",
        "---\n",
        "In this section we will check the following.\n",
        "\n",
        "- Correlation between the features"
      ]
    },
    {
      "cell_type": "code",
      "execution_count": 101,
      "metadata": {
        "id": "TUeCdkfIkBEy",
        "colab": {
          "base_uri": "https://localhost:8080/",
          "height": 676
        },
        "outputId": "2aa85421-3f99-4825-f606-df5739de2730"
      },
      "outputs": [
        {
          "output_type": "execute_result",
          "data": {
            "text/plain": [
              "Text(0.5, 1.0, 'Correlation between features')"
            ]
          },
          "metadata": {},
          "execution_count": 101
        },
        {
          "output_type": "display_data",
          "data": {
            "text/plain": [
              "<Figure size 1080x720 with 2 Axes>"
            ],
            "image/png": "[encoded data removed]"
          },
          "metadata": {
            "needs_background": "light"
          }
        },
        {
          "output_type": "stream",
          "name": "stdout",
          "text": [
            "time: 1.82 s (started: 2023-02-04 07:39:28 +00:00)\n"
          ]
        }
      ],
      "source": [
        "corr = had.corr()\n",
        "plt.figure(figsize=(15,10))\n",
        "sns.heatmap(corr, vmax=.8, linewidth=.01, square = True, annot = True,cmap='Accent',linecolor ='black')\n",
        "plt.title('Correlation between features')"
      ]
    },
    {
      "cell_type": "markdown",
      "metadata": {
        "id": "NFG7g5nZPK9V"
      },
      "source": [
        "**OUTPUT**\n",
        "\n",
        "*Correlation between the features*\n",
        "- There is a Negative Correlation between Output & Number but as indicated the Number is unique No.\n"
      ]
    },
    {
      "cell_type": "markdown",
      "metadata": {
        "id": "_B8STYSvQEal"
      },
      "source": [
        "**HISTOGRAM**\n",
        "\n",
        "We will be plotting the Histogram of the Variables which would provide us insigth"
      ]
    },
    {
      "cell_type": "code",
      "execution_count": 102,
      "metadata": {
        "id": "QDixIrHjkNXP",
        "colab": {
          "base_uri": "https://localhost:8080/",
          "height": 746
        },
        "outputId": "1df2f473-b5d7-41bb-c5e6-204cc7149b13"
      },
      "outputs": [
        {
          "output_type": "display_data",
          "data": {
            "text/plain": [
              "<Figure size 1080x720 with 16 Axes>"
            ],
            "image/png": "[encoded data removed]"
          },
          "metadata": {
            "needs_background": "light"
          }
        },
        {
          "output_type": "stream",
          "name": "stdout",
          "text": [
            "time: 2.59 s (started: 2023-02-04 07:39:30 +00:00)\n"
          ]
        }
      ],
      "source": [
        "had.hist(figsize=(15,10))\n",
        "plt.tight_layout()\n",
        "plt.show()"
      ]
    },
    {
      "cell_type": "markdown",
      "metadata": {
        "id": "opkez_mwQUf-"
      },
      "source": [
        "**OUTPUT**\n",
        "\n",
        "Based on Histogram and nunique values,\n",
        "- 8 Variables are categorical in nature with all values in int\n",
        "- 5 Variables are continuous in nature "
      ]
    },
    {
      "cell_type": "markdown",
      "metadata": {
        "id": "iR40ANvgQ3Ta"
      },
      "source": [
        "**CATEGORICAL VARIABLES**\n",
        "\n",
        "We will be creating plots for the Categorical feastures, with respect to the output.\n",
        "With this we can evaluate the relation of the values and the trends based on Output\n",
        "The first Plot for each Category will be w.r.t 0: i.e Low Risk\n",
        "The Second Plot for each Category will be w.r.t 1: i.e. High Risk"
      ]
    },
    {
      "cell_type": "code",
      "execution_count": 103,
      "metadata": {
        "id": "2tpNfrFU-vCm",
        "colab": {
          "base_uri": "https://localhost:8080/"
        },
        "outputId": "94036630-1de1-4451-ac7c-7d0190043b47"
      },
      "outputs": [
        {
          "output_type": "execute_result",
          "data": {
            "text/plain": [
              "Index(['Number', 'age', 'sex', 'cp', 'trtbps', 'chol', 'fbs', 'restecg',\n",
              "       'thalachh', 'exng', 'oldpeak', 'slp', 'caa', 'thall', 'output'],\n",
              "      dtype='object')"
            ]
          },
          "metadata": {},
          "execution_count": 103
        },
        {
          "output_type": "stream",
          "name": "stdout",
          "text": [
            "time: 5.34 ms (started: 2023-02-04 07:39:32 +00:00)\n"
          ]
        }
      ],
      "source": [
        "had.columns"
      ]
    },
    {
      "cell_type": "code",
      "execution_count": 104,
      "metadata": {
        "id": "wVaNlPuzLLVf",
        "colab": {
          "base_uri": "https://localhost:8080/",
          "height": 988
        },
        "outputId": "c60effc8-4b54-4cf1-fce0-76f0ebafa291"
      },
      "outputs": [
        {
          "output_type": "execute_result",
          "data": {
            "text/plain": [
              "<matplotlib.axes._subplots.AxesSubplot at 0x7f8255814e50>"
            ]
          },
          "metadata": {},
          "execution_count": 104
        },
        {
          "output_type": "display_data",
          "data": {
            "text/plain": [
              "<Figure size 1080x1080 with 16 Axes>"
            ],
            "image/png": "[encoded data removed]"
          },
          "metadata": {
            "needs_background": "light"
          }
        },
        {
          "output_type": "stream",
          "name": "stdout",
          "text": [
            "time: 2 s (started: 2023-02-04 07:39:32 +00:00)\n"
          ]
        }
      ],
      "source": [
        "from tables.utils import count_logged_instances\n",
        "figure, axes=plt.subplots (4,4, figsize=(15,15))\n",
        "figure.suptitle(\"Output(0/1) vs Categorical Features\", fontsize=18, y=0.95)\n",
        "\n",
        "S1=had['sex'][had['output']==0]\n",
        "S2=had['sex'][had['output']==1]\n",
        "sns.countplot(S1, ax=axes[0,0])\n",
        "sns.countplot(S2, ax=axes[0,1],)\n",
        "\n",
        "CP1=had['cp'][had['output']==0]\n",
        "CP2=had['cp'][had['output']==1]\n",
        "sns.countplot(CP1, ax=axes[0,2] )\n",
        "sns.countplot(CP2, ax=axes[0,3] )\n",
        "\n",
        "FBS1=had['fbs'][had['output']==0]\n",
        "FBS2=had['fbs'][had['output']==1]\n",
        "sns.countplot(FBS1, ax=axes[1,0] )\n",
        "sns.countplot(FBS2, ax=axes[1,1] )\n",
        "\n",
        "RE1=had['restecg'][had['output']==0]\n",
        "RE2=had['restecg'][had['output']==1]\n",
        "sns.countplot(RE1, ax=axes[1,2] )\n",
        "sns.countplot(RE2, ax=axes[1,3] )\n",
        "\n",
        "SLP1=had['slp'][had['output']==0]\n",
        "SLP2=had['slp'][had['output']==1]\n",
        "sns.countplot(SLP1, ax=axes[2,0])\n",
        "sns.countplot(SLP2, ax=axes[2,1])\n",
        "\n",
        "CA1=had['caa'][had['output']==0]\n",
        "CA2=had['caa'][had['output']==1]\n",
        "sns.countplot(CA1, ax=axes[2,2])\n",
        "sns.countplot(CA2, ax=axes[2,3])\n",
        "\n",
        "TH1=had['thall'][had['output']==0]\n",
        "TH2=had['thall'][had['output']==1]\n",
        "sns.countplot(TH1, ax=axes[3,0])\n",
        "sns.countplot(TH2, ax=axes[3,1])\n",
        "\n",
        "\n",
        "\n",
        "\n",
        "\n"
      ]
    },
    {
      "cell_type": "markdown",
      "metadata": {
        "id": "jqXJSYq6Rfgs"
      },
      "source": [
        "**OUTPUT**\n",
        "\n",
        "**CATEGORICAL FEATURES**\n",
        "\n",
        "1. **SEX** : 66% are Male and 34% are Female. Total 54% are Low Risk 45% are High Risk. Male: 50% approx are in both low and high Risk. Female: 75% are high Risk 25% are low Risk\n",
        "1. **CP** : 0: 75% in Low Risk a and 25% in High Risk, 1-3: 25% in Low Risk a and 75% in High Risk. HenceOther than 0 rest are all in High Risk\n",
        "1. **FBS** : The distribution is equal in both 0 & 1, with slightly higher count in 0,\n",
        "1. **restecg** : 0: is even in both 0&1, 1: is with higher risk, 2 is low\n",
        "1. **slp** : 1: is more with Low risk, 2:is with higher risk\n",
        "1. **caa** : 0: is more inclined with count towards high risk\n",
        "1. **thall**: 0&1 is low risk, 2:is higher risk, whereas 3 is only high Risk\n",
        "\n",
        "                "
      ]
    },
    {
      "cell_type": "markdown",
      "metadata": {
        "id": "wPF4W8H5dk71"
      },
      "source": [
        "**Continuous VARIABLES**\n",
        "\n",
        "We will be creating distribution plots for the Continuous feastures, with respect to the output.\n",
        "With this we can evaluate the relation of the values and the trends based on Output\n",
        "The first Plot for each Category will be w.r.t 0: i.e Low Risk\n",
        "The Second Plot for each Category will be w.r.t 1: i.e. High Risk"
      ]
    },
    {
      "cell_type": "code",
      "execution_count": 105,
      "metadata": {
        "id": "X2JSkCJDWvNJ",
        "colab": {
          "base_uri": "https://localhost:8080/",
          "height": 691
        },
        "outputId": "26c43c41-316d-4c99-8262-ea6697a28a90"
      },
      "outputs": [
        {
          "output_type": "execute_result",
          "data": {
            "text/plain": [
              "<matplotlib.axes._subplots.AxesSubplot at 0x7f8254cfd0d0>"
            ]
          },
          "metadata": {},
          "execution_count": 105
        },
        {
          "output_type": "display_data",
          "data": {
            "text/plain": [
              "<Figure size 1080x720 with 12 Axes>"
            ],
            "image/png": "[encoded data removed]"
          },
          "metadata": {
            "needs_background": "light"
          }
        },
        {
          "output_type": "stream",
          "name": "stdout",
          "text": [
            "time: 2.05 s (started: 2023-02-04 07:39:34 +00:00)\n"
          ]
        }
      ],
      "source": [
        "figure, axes=plt.subplots (3,4, figsize=(15,10))\n",
        "figure.suptitle(\"Output(0/1) vs Continuous Features\", fontsize=18, y=0.95)\n",
        "\n",
        "A1=had['age'][had['output']==0]\n",
        "A2=had['age'][had['output']==1]\n",
        "sns.histplot(data=had,x=A1,kde=True, ax=axes[0,0], color='red' )\n",
        "sns.histplot(data=had,x=A2,kde=True, ax=axes[0,1], color='Green' )\n",
        "\n",
        "T1=had['trtbps'][had['output']==0]\n",
        "T2=had['trtbps'][had['output']==1]\n",
        "sns.histplot(data=had,x=T1,kde=True, ax=axes[0,2], color='salmon'  )\n",
        "sns.histplot(data=had,x=T2,kde=True, ax=axes[0,3] )\n",
        "\n",
        "C1=had['chol'][had['output']==0]\n",
        "C2=had['chol'][had['output']==1]\n",
        "sns.histplot(data=had,x=C1,kde=True, ax=axes[1,0],color='darkorange' )\n",
        "sns.histplot(data=had,x=C2,kde=True, ax=axes[1,1], color='Greenyellow' )\n",
        "\n",
        "TH1=had['thalachh'][had['output']==0]\n",
        "TH2=had['thalachh'][had['output']==1]\n",
        "sns.histplot(data=had,x=TH1,kde=True, ax=axes[1,2], color='maroon' )\n",
        "sns.histplot(data=had,x=TH2,kde=True, ax=axes[1,3], color='navy' )\n",
        "\n",
        "OP1=had['oldpeak'][had['output']==0]\n",
        "OP2=had['oldpeak'][had['output']==1]\n",
        "sns.histplot(data=had,x=OP1,kde=True, ax=axes[2,0],color='gold' )\n",
        "sns.histplot(data=had,x=OP2,kde=True, ax=axes[2,1],color='olive' )\n"
      ]
    },
    {
      "cell_type": "code",
      "source": [
        "had['age']=pd.cut(x=had['age'], bins=[20, 40, 60, 99],labels=[0, 1, 2])\n"
      ],
      "metadata": {
        "id": "CRj3oFKfinpx",
        "colab": {
          "base_uri": "https://localhost:8080/"
        },
        "outputId": "2562c385-5854-481b-c5e7-43e5106c4915"
      },
      "execution_count": 106,
      "outputs": [
        {
          "output_type": "stream",
          "name": "stdout",
          "text": [
            "time: 8.3 ms (started: 2023-02-04 07:39:36 +00:00)\n"
          ]
        }
      ]
    },
    {
      "cell_type": "code",
      "source": [
        "figure, axes=plt.subplots (2,2, figsize=(15,10))\n",
        "figure.suptitle('Age vs Rest')\n",
        "sns.boxplot(x=had['age'],y=had['trtbps'],data=had, ax=axes [0,0])\n",
        "sns.boxplot(x=had['age'],y=had['thalachh'],data=had, ax=axes [0,1])\n",
        "sns.boxplot(x=had['age'],y=had['chol'],data=had, ax=axes [1,0])\n",
        "sns.boxplot(x=had['age'],y=had['oldpeak'],data=had, ax=axes [1,1])"
      ],
      "metadata": {
        "colab": {
          "base_uri": "https://localhost:8080/",
          "height": 712
        },
        "id": "3CFZkxKBjceP",
        "outputId": "85cd534a-33e0-4b59-8939-6285abbd88b4"
      },
      "execution_count": 107,
      "outputs": [
        {
          "output_type": "execute_result",
          "data": {
            "text/plain": [
              "<matplotlib.axes._subplots.AxesSubplot at 0x7f82545e39d0>"
            ]
          },
          "metadata": {},
          "execution_count": 107
        },
        {
          "output_type": "display_data",
          "data": {
            "text/plain": [
              "<Figure size 1080x720 with 4 Axes>"
            ],
            "image/png": "[encoded data removed]"
          },
          "metadata": {
            "needs_background": "light"
          }
        },
        {
          "output_type": "stream",
          "name": "stdout",
          "text": [
            "time: 826 ms (started: 2023-02-04 07:39:37 +00:00)\n"
          ]
        }
      ]
    },
    {
      "cell_type": "markdown",
      "metadata": {
        "id": "MeCStsj9eAvj"
      },
      "source": [
        "**OUTPUT**\n",
        "\n",
        "**CONTINUOUS FEATURES**\n",
        "\n",
        "1. **AGE** : AGE is evenly distribute in both Outputs, should covert the same to categorical feature\n",
        "1. **trtbps**:  resting BP as per medical standards above 120 is of risk, hence we will convert the same to categorical feature\n",
        "With respect to Age the range remains same till 1 and increases with 2\n",
        "1. **chol** : Cholestroal levels above 200mg/l is considered a probable risk with higher the levels higher the risk, hence would be better to categorise the same\n",
        "AS age increased the Value of Chol increases\n",
        "1. **thallach**: The Maximum heart beat rate, varies as per the age 20-70 @ 200-150 bpm hence first we will check the same and the would be appropriate to be converted to categorical feature\n",
        "As age increased the thalachh decreases\n",
        "1. **oldpeak**: Lower the oldpeak better more than 2.55 is very High Risk, hence considering the range should be first converted to categorical feature.\n",
        "with age no significant difference in oldpeak though there are outliers and above 60 is more than 2 in few cases                "
      ]
    },
    {
      "cell_type": "markdown",
      "metadata": {
        "id": "n7Ag5dWPGJDN"
      },
      "source": [
        "[*Go Back to Index*](#Section0)<br>"
      ]
    },
    {
      "cell_type": "markdown",
      "metadata": {
        "id": "J4F1EvtbaHoq"
      },
      "source": [
        "<a name = Section7></a>\n",
        "\n",
        "---\n",
        "# **7. Post Data Processing & Feature Selection**\n",
        "---\n",
        "- We will convert the Continous Data to **Categorical Data**\n",
        "- Now we will **perform encoding of the categorical columns** and **feed it** to the **LogisticRegression**."
      ]
    },
    {
      "cell_type": "markdown",
      "metadata": {
        "id": "rBrKZwrmHz8u"
      },
      "source": [
        "<a name = Section71></a>\n",
        "### **7.1 Feature Selection**\n",
        "\n",
        "- Will Drop Number since it is Unique No.\n",
        "- Age will be converted to Categorical data\n",
        "- trtbps to be converted to Categorical data as above 120 the risk increases\n",
        "- Chol to be converted to categorical data as above 200 the risk is higher\n",
        "- old peak need not be coverted to categorical data with range of 1-2-3-7\n"
      ]
    },
    {
      "cell_type": "code",
      "source": [
        "had['chol']=pd.cut(x=had['chol'], bins=[50, 200, 300, 400, 990],labels=['L', 'M', 'H', 'VH'])\n",
        "had['thalachh']=pd.cut(x=had['thalachh'], bins=[0, 60, 120, 180, 250],labels=['L', 'M', 'H', 'VH'])\n",
        "had['trtbps']=pd.cut(x=had['trtbps'], bins=[0, 60, 120, 180, 250],labels=['L', 'M', 'H', 'VH'])\n",
        "had['oldpeak']=pd.cut(x=had['oldpeak'], bins=[0, 1, 2, 3 , 6],labels=['L', 'M', 'H', 'VH'])"
      ],
      "metadata": {
        "id": "U8rGY5HnmqJP",
        "colab": {
          "base_uri": "https://localhost:8080/"
        },
        "outputId": "d083b649-33f3-4c3e-d6a8-9815f966ee7c"
      },
      "execution_count": 108,
      "outputs": [
        {
          "output_type": "stream",
          "name": "stdout",
          "text": [
            "time: 11.6 ms (started: 2023-02-04 07:39:37 +00:00)\n"
          ]
        }
      ]
    },
    {
      "cell_type": "code",
      "source": [
        "had.drop(['Number'], axis=1, inplace=True)"
      ],
      "metadata": {
        "id": "EABshw5rpsew",
        "colab": {
          "base_uri": "https://localhost:8080/"
        },
        "outputId": "cc19ac56-192c-4adf-f76a-21f346b679d4"
      },
      "execution_count": 109,
      "outputs": [
        {
          "output_type": "stream",
          "name": "stdout",
          "text": [
            "time: 2.2 ms (started: 2023-02-04 07:39:37 +00:00)\n"
          ]
        }
      ]
    },
    {
      "cell_type": "code",
      "source": [
        "had.head()"
      ],
      "metadata": {
        "colab": {
          "base_uri": "https://localhost:8080/",
          "height": 224
        },
        "id": "GOCLdFt1rsKh",
        "outputId": "d17f3924-d58e-4b0d-f32e-c718312bfb21"
      },
      "execution_count": 110,
      "outputs": [
        {
          "output_type": "execute_result",
          "data": {
            "text/plain": [
              "  age     sex      cp trtbps chol     fbs  restecg thalachh    exng oldpeak  \\\n",
              "0   1 1.00000 1.00000      M    M 0.00000  1.00000        H 0.00000     NaN   \n",
              "1   1 1.00000 0.00000      H    M 0.00000  0.00000        M 1.00000       L   \n",
              "2   1 1.00000 2.00000      H    M 0.00000  1.00000        H 0.00000      VH   \n",
              "3   1 0.00000 1.00000      H    M 0.00000  0.00000        H 0.00000       M   \n",
              "4   1 1.00000 0.00000      M    M 1.00000  1.00000        H 1.00000       M   \n",
              "\n",
              "      slp     caa   thall  output  \n",
              "0 2.00000 0.00000 2.00000 1.00000  \n",
              "1 2.00000 0.00000 3.00000 0.00000  \n",
              "2 1.00000 0.00000 2.00000 0.00000  \n",
              "3 1.00000 0.00000 2.00000 1.00000  \n",
              "4 2.00000 2.00000 3.00000 0.00000  "
            ],
            "text/html": [
              "\n",
              "  <div id=\"df-dfafd946-1815-463b-a66c-1348e6b5410b\">\n",
              "    <div class=\"colab-df-container\">\n",
              "      <div>\n",
              "<style scoped>\n",
              "    .dataframe tbody tr th:only-of-type {\n",
              "        vertical-align: middle;\n",
              "    }\n",
              "\n",
              "    .dataframe tbody tr th {\n",
              "        vertical-align: top;\n",
              "    }\n",
              "\n",
              "    .dataframe thead th {\n",
              "        text-align: right;\n",
              "    }\n",
              "</style>\n",
              "<table border=\"1\" class=\"dataframe\">\n",
              "  <thead>\n",
              "    <tr style=\"text-align: right;\">\n",
              "      <th></th>\n",
              "      <th>age</th>\n",
              "      <th>sex</th>\n",
              "      <th>cp</th>\n",
              "      <th>trtbps</th>\n",
              "      <th>chol</th>\n",
              "      <th>fbs</th>\n",
              "      <th>restecg</th>\n",
              "      <th>thalachh</th>\n",
              "      <th>exng</th>\n",
              "      <th>oldpeak</th>\n",
              "      <th>slp</th>\n",
              "      <th>caa</th>\n",
              "      <th>thall</th>\n",
              "      <th>output</th>\n",
              "    </tr>\n",
              "  </thead>\n",
              "  <tbody>\n",
              "    <tr>\n",
              "      <th>0</th>\n",
              "      <td>1</td>\n",
              "      <td>1.00000</td>\n",
              "      <td>1.00000</td>\n",
              "      <td>M</td>\n",
              "      <td>M</td>\n",
              "      <td>0.00000</td>\n",
              "      <td>1.00000</td>\n",
              "      <td>H</td>\n",
              "      <td>0.00000</td>\n",
              "      <td>NaN</td>\n",
              "      <td>2.00000</td>\n",
              "      <td>0.00000</td>\n",
              "      <td>2.00000</td>\n",
              "      <td>1.00000</td>\n",
              "    </tr>\n",
              "    <tr>\n",
              "      <th>1</th>\n",
              "      <td>1</td>\n",
              "      <td>1.00000</td>\n",
              "      <td>0.00000</td>\n",
              "      <td>H</td>\n",
              "      <td>M</td>\n",
              "      <td>0.00000</td>\n",
              "      <td>0.00000</td>\n",
              "      <td>M</td>\n",
              "      <td>1.00000</td>\n",
              "      <td>L</td>\n",
              "      <td>2.00000</td>\n",
              "      <td>0.00000</td>\n",
              "      <td>3.00000</td>\n",
              "      <td>0.00000</td>\n",
              "    </tr>\n",
              "    <tr>\n",
              "      <th>2</th>\n",
              "      <td>1</td>\n",
              "      <td>1.00000</td>\n",
              "      <td>2.00000</td>\n",
              "      <td>H</td>\n",
              "      <td>M</td>\n",
              "      <td>0.00000</td>\n",
              "      <td>1.00000</td>\n",
              "      <td>H</td>\n",
              "      <td>0.00000</td>\n",
              "      <td>VH</td>\n",
              "      <td>1.00000</td>\n",
              "      <td>0.00000</td>\n",
              "      <td>2.00000</td>\n",
              "      <td>0.00000</td>\n",
              "    </tr>\n",
              "    <tr>\n",
              "      <th>3</th>\n",
              "      <td>1</td>\n",
              "      <td>0.00000</td>\n",
              "      <td>1.00000</td>\n",
              "      <td>H</td>\n",
              "      <td>M</td>\n",
              "      <td>0.00000</td>\n",
              "      <td>0.00000</td>\n",
              "      <td>H</td>\n",
              "      <td>0.00000</td>\n",
              "      <td>M</td>\n",
              "      <td>1.00000</td>\n",
              "      <td>0.00000</td>\n",
              "      <td>2.00000</td>\n",
              "      <td>1.00000</td>\n",
              "    </tr>\n",
              "    <tr>\n",
              "      <th>4</th>\n",
              "      <td>1</td>\n",
              "      <td>1.00000</td>\n",
              "      <td>0.00000</td>\n",
              "      <td>M</td>\n",
              "      <td>M</td>\n",
              "      <td>1.00000</td>\n",
              "      <td>1.00000</td>\n",
              "      <td>H</td>\n",
              "      <td>1.00000</td>\n",
              "      <td>M</td>\n",
              "      <td>2.00000</td>\n",
              "      <td>2.00000</td>\n",
              "      <td>3.00000</td>\n",
              "      <td>0.00000</td>\n",
              "    </tr>\n",
              "  </tbody>\n",
              "</table>\n",
              "</div>\n",
              "      <button class=\"colab-df-convert\" onclick=\"convertToInteractive('df-dfafd946-1815-463b-a66c-1348e6b5410b')\"\n",
              "              title=\"Convert this dataframe to an interactive table.\"\n",
              "              style=\"display:none;\">\n",
              "        \n",
              "  <svg xmlns=\"http://www.w3.org/2000/svg\" height=\"24px\"viewBox=\"0 0 24 24\"\n",
              "       width=\"24px\">\n",
              "    <path d=\"M0 0h24v24H0V0z\" fill=\"none\"/>\n",
              "    <path d=\"M18.56 5.44l.94 2.06.94-2.06 2.06-.94-2.06-.94-.94-2.06-.94 2.06-2.06.94zm-11 1L8.5 8.5l.94-2.06 2.06-.94-2.06-.94L8.5 2.5l-.94 2.06-2.06.94zm10 10l.94 2.06.94-2.06 2.06-.94-2.06-.94-.94-2.06-.94 2.06-2.06.94z\"/><path d=\"M17.41 7.96l-1.37-1.37c-.4-.4-.92-.59-1.43-.59-.52 0-1.04.2-1.43.59L10.3 9.45l-7.72 7.72c-.78.78-.78 2.05 0 2.83L4 21.41c.39.39.9.59 1.41.59.51 0 1.02-.2 1.41-.59l7.78-7.78 2.81-2.81c.8-.78.8-2.07 0-2.86zM5.41 20L4 18.59l7.72-7.72 1.47 1.35L5.41 20z\"/>\n",
              "  </svg>\n",
              "      </button>\n",
              "      \n",
              "  <style>\n",
              "    .colab-df-container {\n",
              "      display:flex;\n",
              "      flex-wrap:wrap;\n",
              "      gap: 12px;\n",
              "    }\n",
              "\n",
              "    .colab-df-convert {\n",
              "      background-color: #E8F0FE;\n",
              "      border: none;\n",
              "      border-radius: 50%;\n",
              "      cursor: pointer;\n",
              "      display: none;\n",
              "      fill: #1967D2;\n",
              "      height: 32px;\n",
              "      padding: 0 0 0 0;\n",
              "      width: 32px;\n",
              "    }\n",
              "\n",
              "    .colab-df-convert:hover {\n",
              "      background-color: #E2EBFA;\n",
              "      box-shadow: 0px 1px 2px rgba(60, 64, 67, 0.3), 0px 1px 3px 1px rgba(60, 64, 67, 0.15);\n",
              "      fill: #174EA6;\n",
              "    }\n",
              "\n",
              "    [theme=dark] .colab-df-convert {\n",
              "      background-color: #3B4455;\n",
              "      fill: #D2E3FC;\n",
              "    }\n",
              "\n",
              "    [theme=dark] .colab-df-convert:hover {\n",
              "      background-color: #434B5C;\n",
              "      box-shadow: 0px 1px 3px 1px rgba(0, 0, 0, 0.15);\n",
              "      filter: drop-shadow(0px 1px 2px rgba(0, 0, 0, 0.3));\n",
              "      fill: #FFFFFF;\n",
              "    }\n",
              "  </style>\n",
              "\n",
              "      <script>\n",
              "        const buttonEl =\n",
              "          document.querySelector('#df-dfafd946-1815-463b-a66c-1348e6b5410b button.colab-df-convert');\n",
              "        buttonEl.style.display =\n",
              "          google.colab.kernel.accessAllowed ? 'block' : 'none';\n",
              "\n",
              "        async function convertToInteractive(key) {\n",
              "          const element = document.querySelector('#df-dfafd946-1815-463b-a66c-1348e6b5410b');\n",
              "          const dataTable =\n",
              "            await google.colab.kernel.invokeFunction('convertToInteractive',\n",
              "                                                     [key], {});\n",
              "          if (!dataTable) return;\n",
              "\n",
              "          const docLinkHtml = 'Like what you see? Visit the ' +\n",
              "            '<a target=\"_blank\" href=https://colab.research.google.com/notebooks/data_table.ipynb>data table notebook</a>'\n",
              "            + ' to learn more about interactive tables.';\n",
              "          element.innerHTML = '';\n",
              "          dataTable['output_type'] = 'display_data';\n",
              "          await google.colab.output.renderOutput(dataTable, element);\n",
              "          const docLink = document.createElement('div');\n",
              "          docLink.innerHTML = docLinkHtml;\n",
              "          element.appendChild(docLink);\n",
              "        }\n",
              "      </script>\n",
              "    </div>\n",
              "  </div>\n",
              "  "
            ]
          },
          "metadata": {},
          "execution_count": 110
        },
        {
          "output_type": "stream",
          "name": "stdout",
          "text": [
            "time: 21.6 ms (started: 2023-02-04 07:39:37 +00:00)\n"
          ]
        }
      ]
    },
    {
      "cell_type": "markdown",
      "metadata": {
        "id": "2Jp-qXcOfMsw"
      },
      "source": [
        "\n",
        "<a name = Section72></a>\n",
        "### **7.4 Data Preparation**\n",
        "\n",
        "- Now we will **split** our **data** in **training** and **testing** part for further development."
      ]
    },
    {
      "cell_type": "code",
      "execution_count": 111,
      "metadata": {
        "id": "FKzvR-7iD01w",
        "colab": {
          "base_uri": "https://localhost:8080/"
        },
        "outputId": "a27cdfd8-e2c0-408b-86ff-920323f6d451"
      },
      "outputs": [
        {
          "output_type": "stream",
          "name": "stdout",
          "text": [
            "time: 4.88 ms (started: 2023-02-04 07:39:37 +00:00)\n"
          ]
        }
      ],
      "source": [
        "X = had.drop(['output'],axis=1)\n",
        "y = had['output']"
      ]
    },
    {
      "cell_type": "code",
      "source": [
        "X=pd.get_dummies(X, columns=['age','trtbps', 'chol', 'thalachh', 'oldpeak'], drop_first=True)"
      ],
      "metadata": {
        "id": "Mr8f-wOhUTRM",
        "colab": {
          "base_uri": "https://localhost:8080/"
        },
        "outputId": "3a844376-de13-4360-d14e-24db8600465c"
      },
      "execution_count": 112,
      "outputs": [
        {
          "output_type": "stream",
          "name": "stdout",
          "text": [
            "time: 8.33 ms (started: 2023-02-04 07:39:37 +00:00)\n"
          ]
        }
      ]
    },
    {
      "cell_type": "code",
      "source": [
        "X.head(1)"
      ],
      "metadata": {
        "colab": {
          "base_uri": "https://localhost:8080/",
          "height": 162
        },
        "id": "f72aDkVsPc1n",
        "outputId": "bda5e350-ae59-4c7c-9d7d-4cfe778873e2"
      },
      "execution_count": 113,
      "outputs": [
        {
          "output_type": "execute_result",
          "data": {
            "text/plain": [
              "      sex      cp     fbs  restecg    exng     slp     caa   thall  age_1  \\\n",
              "0 1.00000 1.00000 0.00000  1.00000 0.00000 2.00000 0.00000 2.00000      1   \n",
              "\n",
              "   age_2  trtbps_M  trtbps_H  trtbps_VH  chol_M  chol_H  chol_VH  thalachh_M  \\\n",
              "0      0         1         0          0       1       0        0           0   \n",
              "\n",
              "   thalachh_H  thalachh_VH  oldpeak_M  oldpeak_H  oldpeak_VH  \n",
              "0           1            0          0          0           0  "
            ],
            "text/html": [
              "\n",
              "  <div id=\"df-6ced3982-7c3e-4f88-be19-5b801f9885c1\">\n",
              "    <div class=\"colab-df-container\">\n",
              "      <div>\n",
              "<style scoped>\n",
              "    .dataframe tbody tr th:only-of-type {\n",
              "        vertical-align: middle;\n",
              "    }\n",
              "\n",
              "    .dataframe tbody tr th {\n",
              "        vertical-align: top;\n",
              "    }\n",
              "\n",
              "    .dataframe thead th {\n",
              "        text-align: right;\n",
              "    }\n",
              "</style>\n",
              "<table border=\"1\" class=\"dataframe\">\n",
              "  <thead>\n",
              "    <tr style=\"text-align: right;\">\n",
              "      <th></th>\n",
              "      <th>sex</th>\n",
              "      <th>cp</th>\n",
              "      <th>fbs</th>\n",
              "      <th>restecg</th>\n",
              "      <th>exng</th>\n",
              "      <th>slp</th>\n",
              "      <th>caa</th>\n",
              "      <th>thall</th>\n",
              "      <th>age_1</th>\n",
              "      <th>age_2</th>\n",
              "      <th>trtbps_M</th>\n",
              "      <th>trtbps_H</th>\n",
              "      <th>trtbps_VH</th>\n",
              "      <th>chol_M</th>\n",
              "      <th>chol_H</th>\n",
              "      <th>chol_VH</th>\n",
              "      <th>thalachh_M</th>\n",
              "      <th>thalachh_H</th>\n",
              "      <th>thalachh_VH</th>\n",
              "      <th>oldpeak_M</th>\n",
              "      <th>oldpeak_H</th>\n",
              "      <th>oldpeak_VH</th>\n",
              "    </tr>\n",
              "  </thead>\n",
              "  <tbody>\n",
              "    <tr>\n",
              "      <th>0</th>\n",
              "      <td>1.00000</td>\n",
              "      <td>1.00000</td>\n",
              "      <td>0.00000</td>\n",
              "      <td>1.00000</td>\n",
              "      <td>0.00000</td>\n",
              "      <td>2.00000</td>\n",
              "      <td>0.00000</td>\n",
              "      <td>2.00000</td>\n",
              "      <td>1</td>\n",
              "      <td>0</td>\n",
              "      <td>1</td>\n",
              "      <td>0</td>\n",
              "      <td>0</td>\n",
              "      <td>1</td>\n",
              "      <td>0</td>\n",
              "      <td>0</td>\n",
              "      <td>0</td>\n",
              "      <td>1</td>\n",
              "      <td>0</td>\n",
              "      <td>0</td>\n",
              "      <td>0</td>\n",
              "      <td>0</td>\n",
              "    </tr>\n",
              "  </tbody>\n",
              "</table>\n",
              "</div>\n",
              "      <button class=\"colab-df-convert\" onclick=\"convertToInteractive('df-6ced3982-7c3e-4f88-be19-5b801f9885c1')\"\n",
              "              title=\"Convert this dataframe to an interactive table.\"\n",
              "              style=\"display:none;\">\n",
              "        \n",
              "  <svg xmlns=\"http://www.w3.org/2000/svg\" height=\"24px\"viewBox=\"0 0 24 24\"\n",
              "       width=\"24px\">\n",
              "    <path d=\"M0 0h24v24H0V0z\" fill=\"none\"/>\n",
              "    <path d=\"M18.56 5.44l.94 2.06.94-2.06 2.06-.94-2.06-.94-.94-2.06-.94 2.06-2.06.94zm-11 1L8.5 8.5l.94-2.06 2.06-.94-2.06-.94L8.5 2.5l-.94 2.06-2.06.94zm10 10l.94 2.06.94-2.06 2.06-.94-2.06-.94-.94-2.06-.94 2.06-2.06.94z\"/><path d=\"M17.41 7.96l-1.37-1.37c-.4-.4-.92-.59-1.43-.59-.52 0-1.04.2-1.43.59L10.3 9.45l-7.72 7.72c-.78.78-.78 2.05 0 2.83L4 21.41c.39.39.9.59 1.41.59.51 0 1.02-.2 1.41-.59l7.78-7.78 2.81-2.81c.8-.78.8-2.07 0-2.86zM5.41 20L4 18.59l7.72-7.72 1.47 1.35L5.41 20z\"/>\n",
              "  </svg>\n",
              "      </button>\n",
              "      \n",
              "  <style>\n",
              "    .colab-df-container {\n",
              "      display:flex;\n",
              "      flex-wrap:wrap;\n",
              "      gap: 12px;\n",
              "    }\n",
              "\n",
              "    .colab-df-convert {\n",
              "      background-color: #E8F0FE;\n",
              "      border: none;\n",
              "      border-radius: 50%;\n",
              "      cursor: pointer;\n",
              "      display: none;\n",
              "      fill: #1967D2;\n",
              "      height: 32px;\n",
              "      padding: 0 0 0 0;\n",
              "      width: 32px;\n",
              "    }\n",
              "\n",
              "    .colab-df-convert:hover {\n",
              "      background-color: #E2EBFA;\n",
              "      box-shadow: 0px 1px 2px rgba(60, 64, 67, 0.3), 0px 1px 3px 1px rgba(60, 64, 67, 0.15);\n",
              "      fill: #174EA6;\n",
              "    }\n",
              "\n",
              "    [theme=dark] .colab-df-convert {\n",
              "      background-color: #3B4455;\n",
              "      fill: #D2E3FC;\n",
              "    }\n",
              "\n",
              "    [theme=dark] .colab-df-convert:hover {\n",
              "      background-color: #434B5C;\n",
              "      box-shadow: 0px 1px 3px 1px rgba(0, 0, 0, 0.15);\n",
              "      filter: drop-shadow(0px 1px 2px rgba(0, 0, 0, 0.3));\n",
              "      fill: #FFFFFF;\n",
              "    }\n",
              "  </style>\n",
              "\n",
              "      <script>\n",
              "        const buttonEl =\n",
              "          document.querySelector('#df-6ced3982-7c3e-4f88-be19-5b801f9885c1 button.colab-df-convert');\n",
              "        buttonEl.style.display =\n",
              "          google.colab.kernel.accessAllowed ? 'block' : 'none';\n",
              "\n",
              "        async function convertToInteractive(key) {\n",
              "          const element = document.querySelector('#df-6ced3982-7c3e-4f88-be19-5b801f9885c1');\n",
              "          const dataTable =\n",
              "            await google.colab.kernel.invokeFunction('convertToInteractive',\n",
              "                                                     [key], {});\n",
              "          if (!dataTable) return;\n",
              "\n",
              "          const docLinkHtml = 'Like what you see? Visit the ' +\n",
              "            '<a target=\"_blank\" href=https://colab.research.google.com/notebooks/data_table.ipynb>data table notebook</a>'\n",
              "            + ' to learn more about interactive tables.';\n",
              "          element.innerHTML = '';\n",
              "          dataTable['output_type'] = 'display_data';\n",
              "          await google.colab.output.renderOutput(dataTable, element);\n",
              "          const docLink = document.createElement('div');\n",
              "          docLink.innerHTML = docLinkHtml;\n",
              "          element.appendChild(docLink);\n",
              "        }\n",
              "      </script>\n",
              "    </div>\n",
              "  </div>\n",
              "  "
            ]
          },
          "metadata": {},
          "execution_count": 113
        },
        {
          "output_type": "stream",
          "name": "stdout",
          "text": [
            "time: 18.9 ms (started: 2023-02-04 07:39:37 +00:00)\n"
          ]
        }
      ]
    },
    {
      "cell_type": "code",
      "execution_count": 114,
      "metadata": {
        "colab": {
          "base_uri": "https://localhost:8080/"
        },
        "id": "cymDaBBUD7DA",
        "outputId": "e6a176c2-3b48-4c5d-89fe-86fb2a215381"
      },
      "outputs": [
        {
          "output_type": "stream",
          "name": "stdout",
          "text": [
            "Training Data Shape: (217, 22) (217,)\n",
            "Testing Data Shape: (25, 22) (25,)\n",
            "time: 4.99 ms (started: 2023-02-04 07:39:38 +00:00)\n"
          ]
        }
      ],
      "source": [
        "X_train, X_test, y_train, y_test = train_test_split(X, y, test_size = 0.1, random_state = 42)\n",
        "\n",
        "print('Training Data Shape:', X_train.shape, y_train.shape)\n",
        "print('Testing Data Shape:', X_test.shape, y_test.shape)"
      ]
    },
    {
      "cell_type": "markdown",
      "metadata": {
        "id": "gO3ZsHGcGpCx"
      },
      "source": [
        "[*Go Back to Index*](#Section0)<br>"
      ]
    },
    {
      "cell_type": "markdown",
      "metadata": {
        "id": "v5JC7kL2eelS"
      },
      "source": [
        "<a name = Section8></a>\n",
        "\n",
        "---\n",
        "# **8. Model Development & Evaluation**\n",
        "---\n",
        "\n",
        "- In this section we will **develop Logistic Regression using input features** and **tune** our **model if required**.\n",
        "\n",
        "- Then we will **analyze the results** obtained and **make our observation**.\n",
        "\n",
        "- For **evaluation purpose** we will **focus** on **Accuracy**, also we will check for **Precision**, **Recall**, **F1-Score**, **Roc-Auc-Curve** and **Precision-Recall Score**.\n",
        "\n"
      ]
    },
    {
      "cell_type": "code",
      "source": [
        "from sklearn.metrics import accuracy_score, confusion_matrix, classification_report\n",
        "\n",
        "def print_score(clf, X_train, y_train, X_test, y_test, train=True):\n",
        "    if train:\n",
        "        pred = clf.predict(X_train)\n",
        "        clf_report = pd.DataFrame(classification_report(y_train, pred, output_dict=True))\n",
        "        print(\"Train Result:\\n================================================\")\n",
        "        print(f\"Accuracy Score: {accuracy_score(y_train, pred) * 100:.2f}%\")\n",
        "        print(\"_______________________________________________\")\n",
        "        print(f\"CLASSIFICATION REPORT:\\n{clf_report}\")\n",
        "        print(\"_______________________________________________\")\n",
        "        print(f\"Confusion Matrix: \\n {confusion_matrix(y_train, pred)}\\n\")\n",
        "   \n",
        "        \n",
        "    elif train==False:\n",
        "        pred = clf.predict(X_test)\n",
        "        clf_report = pd.DataFrame(classification_report(y_test, pred, output_dict=True))\n",
        "        print(\"Test Result:\\n================================================\")        \n",
        "        print(f\"Accuracy Score: {accuracy_score(y_test, pred) * 100:.2f}%\")\n",
        "        print(\"_______________________________________________\")\n",
        "        print(f\"CLASSIFICATION REPORT:\\n{clf_report}\")\n",
        "        print(\"_______________________________________________\")\n",
        "        print(f\"Confusion Matrix: \\n {confusion_matrix(y_test, pred)}\\n\")\n"
      ],
      "metadata": {
        "id": "g-OPe7ilAQ83",
        "colab": {
          "base_uri": "https://localhost:8080/"
        },
        "outputId": "b826d922-3e4d-4a05-b5ba-1164388b6e60"
      },
      "execution_count": 115,
      "outputs": [
        {
          "output_type": "stream",
          "name": "stdout",
          "text": [
            "time: 2.01 ms (started: 2023-02-04 07:39:38 +00:00)\n"
          ]
        }
      ]
    },
    {
      "cell_type": "markdown",
      "metadata": {
        "id": "3BtZN3IiG5Id"
      },
      "source": [
        "\n",
        "<a name = Section81></a>\n",
        "### **8.1 Logistic Regression**\n",
        "\n",
        "- Create Logistic Regression Model and evaluate the metrics"
      ]
    },
    {
      "cell_type": "code",
      "source": [
        "from sklearn.linear_model import LogisticRegression\n",
        "lr_clf = LogisticRegression(random_state=0)\n",
        "lr_clf.fit(X_train, y_train)\n",
        "lr_clf\n",
        "\n",
        "#print_score(lr_clf, X_train, y_train, X_test, y_test, train=True)\n",
        "#print_score(lr_clf, X_train, y_train, X_test, y_test, train=False)"
      ],
      "metadata": {
        "colab": {
          "base_uri": "https://localhost:8080/"
        },
        "outputId": "9a22b164-4373-4718-8f7b-ac9f519262ed",
        "id": "BBt8dNSd01tp"
      },
      "execution_count": 116,
      "outputs": [
        {
          "output_type": "execute_result",
          "data": {
            "text/plain": [
              "LogisticRegression(random_state=0)"
            ]
          },
          "metadata": {},
          "execution_count": 116
        },
        {
          "output_type": "stream",
          "name": "stdout",
          "text": [
            "time: 36.7 ms (started: 2023-02-04 07:39:38 +00:00)\n"
          ]
        }
      ]
    },
    {
      "cell_type": "code",
      "source": [
        "from sklearn.model_selection import cross_val_score"
      ],
      "metadata": {
        "colab": {
          "base_uri": "https://localhost:8080/"
        },
        "id": "H8IFyTNmR558",
        "outputId": "95162007-5a66-4d2e-9afc-de5f754ef9ce"
      },
      "execution_count": 117,
      "outputs": [
        {
          "output_type": "stream",
          "name": "stdout",
          "text": [
            "time: 934 µs (started: 2023-02-04 07:39:38 +00:00)\n"
          ]
        }
      ]
    },
    {
      "cell_type": "code",
      "source": [
        "test_score = (accuracy_score(y_test, lr_clf.predict(X_test)) * 100).astype(int)\n",
        "train_score = (accuracy_score(y_train, lr_clf.predict(X_train)) * 100).astype(int)\n",
        "test_f1 = (f1_score(y_test, lr_clf.predict(X_test) , average='weighted') * 100).astype(int)\n",
        "train_f1 = (f1_score(y_train, lr_clf.predict(X_train), average='weighted') * 100).astype(int)\n",
        "scores = cross_val_score(lr_clf, X, y, cv=10, scoring='accuracy')\n",
        "\n",
        "results_df = pd.DataFrame(data=[[\"LogisticRegression\", train_score, test_score, train_f1,test_f1,\"%0.2f\" %scores.mean(),]],\n",
        "                          columns=['Model', 'Acc. Tr', 'Acc. Tst','F1 Tr', 'F1 tst', 'CV'])\n",
        "results_df"
      ],
      "metadata": {
        "colab": {
          "base_uri": "https://localhost:8080/",
          "height": 98
        },
        "outputId": "362938bc-3e6e-4fb2-f3f2-e99ce58e6972",
        "id": "CZdzpU2p01tq"
      },
      "execution_count": 118,
      "outputs": [
        {
          "output_type": "execute_result",
          "data": {
            "text/plain": [
              "                Model  Acc. Tr  Acc. Tst  F1 Tr  F1 tst    CV\n",
              "0  LogisticRegression       85        72     85      71  0.80"
            ],
            "text/html": [
              "\n",
              "  <div id=\"df-37b9f506-7d07-4ff5-9bd9-84bc10e42888\">\n",
              "    <div class=\"colab-df-container\">\n",
              "      <div>\n",
              "<style scoped>\n",
              "    .dataframe tbody tr th:only-of-type {\n",
              "        vertical-align: middle;\n",
              "    }\n",
              "\n",
              "    .dataframe tbody tr th {\n",
              "        vertical-align: top;\n",
              "    }\n",
              "\n",
              "    .dataframe thead th {\n",
              "        text-align: right;\n",
              "    }\n",
              "</style>\n",
              "<table border=\"1\" class=\"dataframe\">\n",
              "  <thead>\n",
              "    <tr style=\"text-align: right;\">\n",
              "      <th></th>\n",
              "      <th>Model</th>\n",
              "      <th>Acc. Tr</th>\n",
              "      <th>Acc. Tst</th>\n",
              "      <th>F1 Tr</th>\n",
              "      <th>F1 tst</th>\n",
              "      <th>CV</th>\n",
              "    </tr>\n",
              "  </thead>\n",
              "  <tbody>\n",
              "    <tr>\n",
              "      <th>0</th>\n",
              "      <td>LogisticRegression</td>\n",
              "      <td>85</td>\n",
              "      <td>72</td>\n",
              "      <td>85</td>\n",
              "      <td>71</td>\n",
              "      <td>0.80</td>\n",
              "    </tr>\n",
              "  </tbody>\n",
              "</table>\n",
              "</div>\n",
              "      <button class=\"colab-df-convert\" onclick=\"convertToInteractive('df-37b9f506-7d07-4ff5-9bd9-84bc10e42888')\"\n",
              "              title=\"Convert this dataframe to an interactive table.\"\n",
              "              style=\"display:none;\">\n",
              "        \n",
              "  <svg xmlns=\"http://www.w3.org/2000/svg\" height=\"24px\"viewBox=\"0 0 24 24\"\n",
              "       width=\"24px\">\n",
              "    <path d=\"M0 0h24v24H0V0z\" fill=\"none\"/>\n",
              "    <path d=\"M18.56 5.44l.94 2.06.94-2.06 2.06-.94-2.06-.94-.94-2.06-.94 2.06-2.06.94zm-11 1L8.5 8.5l.94-2.06 2.06-.94-2.06-.94L8.5 2.5l-.94 2.06-2.06.94zm10 10l.94 2.06.94-2.06 2.06-.94-2.06-.94-.94-2.06-.94 2.06-2.06.94z\"/><path d=\"M17.41 7.96l-1.37-1.37c-.4-.4-.92-.59-1.43-.59-.52 0-1.04.2-1.43.59L10.3 9.45l-7.72 7.72c-.78.78-.78 2.05 0 2.83L4 21.41c.39.39.9.59 1.41.59.51 0 1.02-.2 1.41-.59l7.78-7.78 2.81-2.81c.8-.78.8-2.07 0-2.86zM5.41 20L4 18.59l7.72-7.72 1.47 1.35L5.41 20z\"/>\n",
              "  </svg>\n",
              "      </button>\n",
              "      \n",
              "  <style>\n",
              "    .colab-df-container {\n",
              "      display:flex;\n",
              "      flex-wrap:wrap;\n",
              "      gap: 12px;\n",
              "    }\n",
              "\n",
              "    .colab-df-convert {\n",
              "      background-color: #E8F0FE;\n",
              "      border: none;\n",
              "      border-radius: 50%;\n",
              "      cursor: pointer;\n",
              "      display: none;\n",
              "      fill: #1967D2;\n",
              "      height: 32px;\n",
              "      padding: 0 0 0 0;\n",
              "      width: 32px;\n",
              "    }\n",
              "\n",
              "    .colab-df-convert:hover {\n",
              "      background-color: #E2EBFA;\n",
              "      box-shadow: 0px 1px 2px rgba(60, 64, 67, 0.3), 0px 1px 3px 1px rgba(60, 64, 67, 0.15);\n",
              "      fill: #174EA6;\n",
              "    }\n",
              "\n",
              "    [theme=dark] .colab-df-convert {\n",
              "      background-color: #3B4455;\n",
              "      fill: #D2E3FC;\n",
              "    }\n",
              "\n",
              "    [theme=dark] .colab-df-convert:hover {\n",
              "      background-color: #434B5C;\n",
              "      box-shadow: 0px 1px 3px 1px rgba(0, 0, 0, 0.15);\n",
              "      filter: drop-shadow(0px 1px 2px rgba(0, 0, 0, 0.3));\n",
              "      fill: #FFFFFF;\n",
              "    }\n",
              "  </style>\n",
              "\n",
              "      <script>\n",
              "        const buttonEl =\n",
              "          document.querySelector('#df-37b9f506-7d07-4ff5-9bd9-84bc10e42888 button.colab-df-convert');\n",
              "        buttonEl.style.display =\n",
              "          google.colab.kernel.accessAllowed ? 'block' : 'none';\n",
              "\n",
              "        async function convertToInteractive(key) {\n",
              "          const element = document.querySelector('#df-37b9f506-7d07-4ff5-9bd9-84bc10e42888');\n",
              "          const dataTable =\n",
              "            await google.colab.kernel.invokeFunction('convertToInteractive',\n",
              "                                                     [key], {});\n",
              "          if (!dataTable) return;\n",
              "\n",
              "          const docLinkHtml = 'Like what you see? Visit the ' +\n",
              "            '<a target=\"_blank\" href=https://colab.research.google.com/notebooks/data_table.ipynb>data table notebook</a>'\n",
              "            + ' to learn more about interactive tables.';\n",
              "          element.innerHTML = '';\n",
              "          dataTable['output_type'] = 'display_data';\n",
              "          await google.colab.output.renderOutput(dataTable, element);\n",
              "          const docLink = document.createElement('div');\n",
              "          docLink.innerHTML = docLinkHtml;\n",
              "          element.appendChild(docLink);\n",
              "        }\n",
              "      </script>\n",
              "    </div>\n",
              "  </div>\n",
              "  "
            ]
          },
          "metadata": {},
          "execution_count": 118
        },
        {
          "output_type": "stream",
          "name": "stdout",
          "text": [
            "time: 230 ms (started: 2023-02-04 07:39:38 +00:00)\n"
          ]
        }
      ]
    },
    {
      "cell_type": "markdown",
      "metadata": {
        "id": "Ip96fjgQHGdG"
      },
      "source": [
        "\n",
        "<a name = Section82></a>\n",
        "### **8.2 Decision Tree**\n",
        "\n",
        "- Create Decision Tree Model and evaluate the metrics"
      ]
    },
    {
      "cell_type": "code",
      "source": [
        "from sklearn.tree import DecisionTreeClassifier\n",
        "dectree_clf = DecisionTreeClassifier(random_state=0)\n",
        "dectree_clf.fit(X_train, y_train)\n",
        "dectree_clf\n",
        "\n",
        "#print_score(dectree_clf, X_train, y_train, X_test, y_test, train=True)\n",
        "#print_score(dectree_clf, X_train, y_train, X_test, y_test, train=False)"
      ],
      "metadata": {
        "colab": {
          "base_uri": "https://localhost:8080/"
        },
        "id": "hPhmNKDvEvAt",
        "outputId": "95287099-6fff-44c1-a809-cdfd27aafba2"
      },
      "execution_count": 119,
      "outputs": [
        {
          "output_type": "execute_result",
          "data": {
            "text/plain": [
              "DecisionTreeClassifier(random_state=0)"
            ]
          },
          "metadata": {},
          "execution_count": 119
        },
        {
          "output_type": "stream",
          "name": "stdout",
          "text": [
            "time: 13.1 ms (started: 2023-02-04 07:39:38 +00:00)\n"
          ]
        }
      ]
    },
    {
      "cell_type": "code",
      "source": [
        "test_score = (accuracy_score(y_test, dectree_clf.predict(X_test)) * 100).astype(int)\n",
        "train_score = (accuracy_score(y_train, dectree_clf.predict(X_train)) * 100).astype(int)\n",
        "test_f1 = (f1_score(y_test, dectree_clf.predict(X_test) , average='weighted') * 100).astype(int)\n",
        "train_f1 = (f1_score(y_train, dectree_clf.predict(X_train), average='weighted') * 100).astype(int)\n",
        "scores = cross_val_score(dectree_clf, X, y, cv=10, scoring='accuracy')\n",
        "\n",
        "results_df_2 = pd.DataFrame(data=[[\"Decision Tree\",  train_score, test_score, train_f1,test_f1,\"%0.2f\" %scores.mean()]],\n",
        "                           columns=['Model', 'Acc. Tr', 'Acc. Tst','F1 Tr', 'F1 tst', 'CV'])\n",
        "\n",
        "results_df = results_df.append(results_df_2, ignore_index=True)\n",
        "\n",
        "results_df"
      ],
      "metadata": {
        "colab": {
          "base_uri": "https://localhost:8080/",
          "height": 129
        },
        "id": "qzcQ0L9_FmDx",
        "outputId": "3f59281e-5770-4102-f38a-5bc002a45228"
      },
      "execution_count": 120,
      "outputs": [
        {
          "output_type": "execute_result",
          "data": {
            "text/plain": [
              "                Model  Acc. Tr  Acc. Tst  F1 Tr  F1 tst    CV\n",
              "0  LogisticRegression       85        72     85      71  0.80\n",
              "1       Decision Tree       99        76     99      76  0.71"
            ],
            "text/html": [
              "\n",
              "  <div id=\"df-07891881-61a3-452b-b171-08b53596bf83\">\n",
              "    <div class=\"colab-df-container\">\n",
              "      <div>\n",
              "<style scoped>\n",
              "    .dataframe tbody tr th:only-of-type {\n",
              "        vertical-align: middle;\n",
              "    }\n",
              "\n",
              "    .dataframe tbody tr th {\n",
              "        vertical-align: top;\n",
              "    }\n",
              "\n",
              "    .dataframe thead th {\n",
              "        text-align: right;\n",
              "    }\n",
              "</style>\n",
              "<table border=\"1\" class=\"dataframe\">\n",
              "  <thead>\n",
              "    <tr style=\"text-align: right;\">\n",
              "      <th></th>\n",
              "      <th>Model</th>\n",
              "      <th>Acc. Tr</th>\n",
              "      <th>Acc. Tst</th>\n",
              "      <th>F1 Tr</th>\n",
              "      <th>F1 tst</th>\n",
              "      <th>CV</th>\n",
              "    </tr>\n",
              "  </thead>\n",
              "  <tbody>\n",
              "    <tr>\n",
              "      <th>0</th>\n",
              "      <td>LogisticRegression</td>\n",
              "      <td>85</td>\n",
              "      <td>72</td>\n",
              "      <td>85</td>\n",
              "      <td>71</td>\n",
              "      <td>0.80</td>\n",
              "    </tr>\n",
              "    <tr>\n",
              "      <th>1</th>\n",
              "      <td>Decision Tree</td>\n",
              "      <td>99</td>\n",
              "      <td>76</td>\n",
              "      <td>99</td>\n",
              "      <td>76</td>\n",
              "      <td>0.71</td>\n",
              "    </tr>\n",
              "  </tbody>\n",
              "</table>\n",
              "</div>\n",
              "      <button class=\"colab-df-convert\" onclick=\"convertToInteractive('df-07891881-61a3-452b-b171-08b53596bf83')\"\n",
              "              title=\"Convert this dataframe to an interactive table.\"\n",
              "              style=\"display:none;\">\n",
              "        \n",
              "  <svg xmlns=\"http://www.w3.org/2000/svg\" height=\"24px\"viewBox=\"0 0 24 24\"\n",
              "       width=\"24px\">\n",
              "    <path d=\"M0 0h24v24H0V0z\" fill=\"none\"/>\n",
              "    <path d=\"M18.56 5.44l.94 2.06.94-2.06 2.06-.94-2.06-.94-.94-2.06-.94 2.06-2.06.94zm-11 1L8.5 8.5l.94-2.06 2.06-.94-2.06-.94L8.5 2.5l-.94 2.06-2.06.94zm10 10l.94 2.06.94-2.06 2.06-.94-2.06-.94-.94-2.06-.94 2.06-2.06.94z\"/><path d=\"M17.41 7.96l-1.37-1.37c-.4-.4-.92-.59-1.43-.59-.52 0-1.04.2-1.43.59L10.3 9.45l-7.72 7.72c-.78.78-.78 2.05 0 2.83L4 21.41c.39.39.9.59 1.41.59.51 0 1.02-.2 1.41-.59l7.78-7.78 2.81-2.81c.8-.78.8-2.07 0-2.86zM5.41 20L4 18.59l7.72-7.72 1.47 1.35L5.41 20z\"/>\n",
              "  </svg>\n",
              "      </button>\n",
              "      \n",
              "  <style>\n",
              "    .colab-df-container {\n",
              "      display:flex;\n",
              "      flex-wrap:wrap;\n",
              "      gap: 12px;\n",
              "    }\n",
              "\n",
              "    .colab-df-convert {\n",
              "      background-color: #E8F0FE;\n",
              "      border: none;\n",
              "      border-radius: 50%;\n",
              "      cursor: pointer;\n",
              "      display: none;\n",
              "      fill: #1967D2;\n",
              "      height: 32px;\n",
              "      padding: 0 0 0 0;\n",
              "      width: 32px;\n",
              "    }\n",
              "\n",
              "    .colab-df-convert:hover {\n",
              "      background-color: #E2EBFA;\n",
              "      box-shadow: 0px 1px 2px rgba(60, 64, 67, 0.3), 0px 1px 3px 1px rgba(60, 64, 67, 0.15);\n",
              "      fill: #174EA6;\n",
              "    }\n",
              "\n",
              "    [theme=dark] .colab-df-convert {\n",
              "      background-color: #3B4455;\n",
              "      fill: #D2E3FC;\n",
              "    }\n",
              "\n",
              "    [theme=dark] .colab-df-convert:hover {\n",
              "      background-color: #434B5C;\n",
              "      box-shadow: 0px 1px 3px 1px rgba(0, 0, 0, 0.15);\n",
              "      filter: drop-shadow(0px 1px 2px rgba(0, 0, 0, 0.3));\n",
              "      fill: #FFFFFF;\n",
              "    }\n",
              "  </style>\n",
              "\n",
              "      <script>\n",
              "        const buttonEl =\n",
              "          document.querySelector('#df-07891881-61a3-452b-b171-08b53596bf83 button.colab-df-convert');\n",
              "        buttonEl.style.display =\n",
              "          google.colab.kernel.accessAllowed ? 'block' : 'none';\n",
              "\n",
              "        async function convertToInteractive(key) {\n",
              "          const element = document.querySelector('#df-07891881-61a3-452b-b171-08b53596bf83');\n",
              "          const dataTable =\n",
              "            await google.colab.kernel.invokeFunction('convertToInteractive',\n",
              "                                                     [key], {});\n",
              "          if (!dataTable) return;\n",
              "\n",
              "          const docLinkHtml = 'Like what you see? Visit the ' +\n",
              "            '<a target=\"_blank\" href=https://colab.research.google.com/notebooks/data_table.ipynb>data table notebook</a>'\n",
              "            + ' to learn more about interactive tables.';\n",
              "          element.innerHTML = '';\n",
              "          dataTable['output_type'] = 'display_data';\n",
              "          await google.colab.output.renderOutput(dataTable, element);\n",
              "          const docLink = document.createElement('div');\n",
              "          docLink.innerHTML = docLinkHtml;\n",
              "          element.appendChild(docLink);\n",
              "        }\n",
              "      </script>\n",
              "    </div>\n",
              "  </div>\n",
              "  "
            ]
          },
          "metadata": {},
          "execution_count": 120
        },
        {
          "output_type": "stream",
          "name": "stdout",
          "text": [
            "time: 75.7 ms (started: 2023-02-04 07:39:38 +00:00)\n"
          ]
        }
      ]
    },
    {
      "cell_type": "markdown",
      "metadata": {
        "id": "hj9kLLoNHTP-"
      },
      "source": [
        "\n",
        "<a name = Section83></a>\n",
        "### **8.3 Random Forest Classifier**\n",
        "\n",
        "- Create Random Forest Model and evaluate the metrics"
      ]
    },
    {
      "cell_type": "code",
      "source": [
        "from sklearn.ensemble import RandomForestClassifier\n",
        "rfc_clf = RandomForestClassifier(n_estimators=1000,random_state=0)\n",
        "rfc_clf.fit(X_train, y_train)\n",
        "rfc_clf\n",
        "\n",
        "#print_score(rfc_clf, X_train, y_train, X_test, y_test, train=True)\n",
        "#print_score(rfc_clf, X_train, y_train, X_test, y_test, train=False)"
      ],
      "metadata": {
        "colab": {
          "base_uri": "https://localhost:8080/"
        },
        "outputId": "1a0aa9d1-88af-4dd7-d210-22db801e9e01",
        "id": "HNIRdMB4GfIB"
      },
      "execution_count": 121,
      "outputs": [
        {
          "output_type": "execute_result",
          "data": {
            "text/plain": [
              "RandomForestClassifier(n_estimators=1000, random_state=0)"
            ]
          },
          "metadata": {},
          "execution_count": 121
        },
        {
          "output_type": "stream",
          "name": "stdout",
          "text": [
            "time: 1.51 s (started: 2023-02-04 07:39:38 +00:00)\n"
          ]
        }
      ]
    },
    {
      "cell_type": "code",
      "source": [
        "test_score = (accuracy_score(y_test, rfc_clf.predict(X_test)) * 100).astype(int)\n",
        "train_score = (accuracy_score(y_train, rfc_clf.predict(X_train)) * 100).astype(int)\n",
        "test_f1 = (f1_score(y_test, rfc_clf.predict(X_test) , average='weighted') * 100).astype(int)\n",
        "train_f1 = (f1_score(y_train, rfc_clf.predict(X_train), average='weighted') * 100).astype(int)\n",
        "scores = cross_val_score(rfc_clf, X, y, cv=10, scoring='accuracy')\n",
        "\n",
        "results_df_2 = pd.DataFrame(data=[[\"Random Forest\",  train_score, test_score, train_f1,test_f1,\"%0.2f\" %scores.mean()]],\n",
        "                           columns=['Model', 'Acc. Tr', 'Acc. Tst','F1 Tr', 'F1 tst', 'CV'])\n",
        "\n",
        "results_df = results_df.append(results_df_2, ignore_index=True)\n",
        "results_df"
      ],
      "metadata": {
        "colab": {
          "base_uri": "https://localhost:8080/",
          "height": 161
        },
        "outputId": "96c347e6-93d7-49c9-c441-066e0be93d77",
        "id": "K7LEwfkaGfID"
      },
      "execution_count": 122,
      "outputs": [
        {
          "output_type": "execute_result",
          "data": {
            "text/plain": [
              "                Model  Acc. Tr  Acc. Tst  F1 Tr  F1 tst    CV\n",
              "0  LogisticRegression       85        72     85      71  0.80\n",
              "1       Decision Tree       99        76     99      76  0.71\n",
              "2       Random Forest       99        80     99      79  0.81"
            ],
            "text/html": [
              "\n",
              "  <div id=\"df-2bc5f2f0-082d-4539-ae92-3e39280ff24e\">\n",
              "    <div class=\"colab-df-container\">\n",
              "      <div>\n",
              "<style scoped>\n",
              "    .dataframe tbody tr th:only-of-type {\n",
              "        vertical-align: middle;\n",
              "    }\n",
              "\n",
              "    .dataframe tbody tr th {\n",
              "        vertical-align: top;\n",
              "    }\n",
              "\n",
              "    .dataframe thead th {\n",
              "        text-align: right;\n",
              "    }\n",
              "</style>\n",
              "<table border=\"1\" class=\"dataframe\">\n",
              "  <thead>\n",
              "    <tr style=\"text-align: right;\">\n",
              "      <th></th>\n",
              "      <th>Model</th>\n",
              "      <th>Acc. Tr</th>\n",
              "      <th>Acc. Tst</th>\n",
              "      <th>F1 Tr</th>\n",
              "      <th>F1 tst</th>\n",
              "      <th>CV</th>\n",
              "    </tr>\n",
              "  </thead>\n",
              "  <tbody>\n",
              "    <tr>\n",
              "      <th>0</th>\n",
              "      <td>LogisticRegression</td>\n",
              "      <td>85</td>\n",
              "      <td>72</td>\n",
              "      <td>85</td>\n",
              "      <td>71</td>\n",
              "      <td>0.80</td>\n",
              "    </tr>\n",
              "    <tr>\n",
              "      <th>1</th>\n",
              "      <td>Decision Tree</td>\n",
              "      <td>99</td>\n",
              "      <td>76</td>\n",
              "      <td>99</td>\n",
              "      <td>76</td>\n",
              "      <td>0.71</td>\n",
              "    </tr>\n",
              "    <tr>\n",
              "      <th>2</th>\n",
              "      <td>Random Forest</td>\n",
              "      <td>99</td>\n",
              "      <td>80</td>\n",
              "      <td>99</td>\n",
              "      <td>79</td>\n",
              "      <td>0.81</td>\n",
              "    </tr>\n",
              "  </tbody>\n",
              "</table>\n",
              "</div>\n",
              "      <button class=\"colab-df-convert\" onclick=\"convertToInteractive('df-2bc5f2f0-082d-4539-ae92-3e39280ff24e')\"\n",
              "              title=\"Convert this dataframe to an interactive table.\"\n",
              "              style=\"display:none;\">\n",
              "        \n",
              "  <svg xmlns=\"http://www.w3.org/2000/svg\" height=\"24px\"viewBox=\"0 0 24 24\"\n",
              "       width=\"24px\">\n",
              "    <path d=\"M0 0h24v24H0V0z\" fill=\"none\"/>\n",
              "    <path d=\"M18.56 5.44l.94 2.06.94-2.06 2.06-.94-2.06-.94-.94-2.06-.94 2.06-2.06.94zm-11 1L8.5 8.5l.94-2.06 2.06-.94-2.06-.94L8.5 2.5l-.94 2.06-2.06.94zm10 10l.94 2.06.94-2.06 2.06-.94-2.06-.94-.94-2.06-.94 2.06-2.06.94z\"/><path d=\"M17.41 7.96l-1.37-1.37c-.4-.4-.92-.59-1.43-.59-.52 0-1.04.2-1.43.59L10.3 9.45l-7.72 7.72c-.78.78-.78 2.05 0 2.83L4 21.41c.39.39.9.59 1.41.59.51 0 1.02-.2 1.41-.59l7.78-7.78 2.81-2.81c.8-.78.8-2.07 0-2.86zM5.41 20L4 18.59l7.72-7.72 1.47 1.35L5.41 20z\"/>\n",
              "  </svg>\n",
              "      </button>\n",
              "      \n",
              "  <style>\n",
              "    .colab-df-container {\n",
              "      display:flex;\n",
              "      flex-wrap:wrap;\n",
              "      gap: 12px;\n",
              "    }\n",
              "\n",
              "    .colab-df-convert {\n",
              "      background-color: #E8F0FE;\n",
              "      border: none;\n",
              "      border-radius: 50%;\n",
              "      cursor: pointer;\n",
              "      display: none;\n",
              "      fill: #1967D2;\n",
              "      height: 32px;\n",
              "      padding: 0 0 0 0;\n",
              "      width: 32px;\n",
              "    }\n",
              "\n",
              "    .colab-df-convert:hover {\n",
              "      background-color: #E2EBFA;\n",
              "      box-shadow: 0px 1px 2px rgba(60, 64, 67, 0.3), 0px 1px 3px 1px rgba(60, 64, 67, 0.15);\n",
              "      fill: #174EA6;\n",
              "    }\n",
              "\n",
              "    [theme=dark] .colab-df-convert {\n",
              "      background-color: #3B4455;\n",
              "      fill: #D2E3FC;\n",
              "    }\n",
              "\n",
              "    [theme=dark] .colab-df-convert:hover {\n",
              "      background-color: #434B5C;\n",
              "      box-shadow: 0px 1px 3px 1px rgba(0, 0, 0, 0.15);\n",
              "      filter: drop-shadow(0px 1px 2px rgba(0, 0, 0, 0.3));\n",
              "      fill: #FFFFFF;\n",
              "    }\n",
              "  </style>\n",
              "\n",
              "      <script>\n",
              "        const buttonEl =\n",
              "          document.querySelector('#df-2bc5f2f0-082d-4539-ae92-3e39280ff24e button.colab-df-convert');\n",
              "        buttonEl.style.display =\n",
              "          google.colab.kernel.accessAllowed ? 'block' : 'none';\n",
              "\n",
              "        async function convertToInteractive(key) {\n",
              "          const element = document.querySelector('#df-2bc5f2f0-082d-4539-ae92-3e39280ff24e');\n",
              "          const dataTable =\n",
              "            await google.colab.kernel.invokeFunction('convertToInteractive',\n",
              "                                                     [key], {});\n",
              "          if (!dataTable) return;\n",
              "\n",
              "          const docLinkHtml = 'Like what you see? Visit the ' +\n",
              "            '<a target=\"_blank\" href=https://colab.research.google.com/notebooks/data_table.ipynb>data table notebook</a>'\n",
              "            + ' to learn more about interactive tables.';\n",
              "          element.innerHTML = '';\n",
              "          dataTable['output_type'] = 'display_data';\n",
              "          await google.colab.output.renderOutput(dataTable, element);\n",
              "          const docLink = document.createElement('div');\n",
              "          docLink.innerHTML = docLinkHtml;\n",
              "          element.appendChild(docLink);\n",
              "        }\n",
              "      </script>\n",
              "    </div>\n",
              "  </div>\n",
              "  "
            ]
          },
          "metadata": {},
          "execution_count": 122
        },
        {
          "output_type": "stream",
          "name": "stdout",
          "text": [
            "time: 15.5 s (started: 2023-02-04 07:39:40 +00:00)\n"
          ]
        }
      ]
    },
    {
      "cell_type": "markdown",
      "metadata": {
        "id": "uj3_KQCLHgI8"
      },
      "source": [
        "\n",
        "<a name = Section84></a>\n",
        "### **8.4 K-Nearest Neighbour Classifier**\n",
        "\n",
        "- Create KNearest Neighbour and evaluate the metrics"
      ]
    },
    {
      "cell_type": "code",
      "source": [
        "from sklearn.neighbors import KNeighborsClassifier\n",
        "knn_clf = KNeighborsClassifier( )\n",
        "knn_clf.fit(X_train, y_train)\n",
        "knn_clf\n",
        "\n",
        "#print_score(knn_clf, X_train, y_train, X_test, y_test, train=True)\n",
        "#print_score(knn_clf, X_train, y_train, X_test, y_test, train=False)"
      ],
      "metadata": {
        "colab": {
          "base_uri": "https://localhost:8080/"
        },
        "outputId": "93708554-f1cf-423f-8ebf-74a8a8f6e335",
        "id": "PcdX6MXWHWeI"
      },
      "execution_count": 123,
      "outputs": [
        {
          "output_type": "execute_result",
          "data": {
            "text/plain": [
              "KNeighborsClassifier()"
            ]
          },
          "metadata": {},
          "execution_count": 123
        },
        {
          "output_type": "stream",
          "name": "stdout",
          "text": [
            "time: 10.7 ms (started: 2023-02-04 07:39:55 +00:00)\n"
          ]
        }
      ]
    },
    {
      "cell_type": "code",
      "source": [
        "test_score = (accuracy_score(y_test, knn_clf.predict(X_test)) * 100).astype(int)\n",
        "train_score = (accuracy_score(y_train, knn_clf.predict(X_train)) * 100).astype(int)\n",
        "test_f1 = (f1_score(y_test, knn_clf.predict(X_test) , average='weighted') * 100).astype(int)\n",
        "train_f1 = (f1_score(y_train, knn_clf.predict(X_train), average='weighted') * 100).astype(int)\n",
        "scores = cross_val_score(knn_clf, X, y, cv=10, scoring='accuracy')\n",
        "\n",
        "results_df_2 = pd.DataFrame(data=[[\"KNearest Neighbour\",  train_score, test_score, train_f1,test_f1,\"%0.2f\" %scores.mean()]],\n",
        "                           columns=['Model', 'Acc. Tr', 'Acc. Tst','F1 Tr', 'F1 tst', 'CV'])\n",
        "\n",
        "results_df = results_df.append(results_df_2, ignore_index=True)\n",
        "\n",
        "results_df"
      ],
      "metadata": {
        "colab": {
          "base_uri": "https://localhost:8080/",
          "height": 192
        },
        "outputId": "e4588ac8-6eb0-475b-80eb-003deefa3472",
        "id": "2zZzHP_PHWeJ"
      },
      "execution_count": 124,
      "outputs": [
        {
          "output_type": "execute_result",
          "data": {
            "text/plain": [
              "                Model  Acc. Tr  Acc. Tst  F1 Tr  F1 tst    CV\n",
              "0  LogisticRegression       85        72     85      71  0.80\n",
              "1       Decision Tree       99        76     99      76  0.71\n",
              "2       Random Forest       99        80     99      79  0.81\n",
              "3  KNearest Neighbour       86        72     85      72  0.79"
            ],
            "text/html": [
              "\n",
              "  <div id=\"df-c3f45aab-059d-43c2-9830-841ef4c5ec64\">\n",
              "    <div class=\"colab-df-container\">\n",
              "      <div>\n",
              "<style scoped>\n",
              "    .dataframe tbody tr th:only-of-type {\n",
              "        vertical-align: middle;\n",
              "    }\n",
              "\n",
              "    .dataframe tbody tr th {\n",
              "        vertical-align: top;\n",
              "    }\n",
              "\n",
              "    .dataframe thead th {\n",
              "        text-align: right;\n",
              "    }\n",
              "</style>\n",
              "<table border=\"1\" class=\"dataframe\">\n",
              "  <thead>\n",
              "    <tr style=\"text-align: right;\">\n",
              "      <th></th>\n",
              "      <th>Model</th>\n",
              "      <th>Acc. Tr</th>\n",
              "      <th>Acc. Tst</th>\n",
              "      <th>F1 Tr</th>\n",
              "      <th>F1 tst</th>\n",
              "      <th>CV</th>\n",
              "    </tr>\n",
              "  </thead>\n",
              "  <tbody>\n",
              "    <tr>\n",
              "      <th>0</th>\n",
              "      <td>LogisticRegression</td>\n",
              "      <td>85</td>\n",
              "      <td>72</td>\n",
              "      <td>85</td>\n",
              "      <td>71</td>\n",
              "      <td>0.80</td>\n",
              "    </tr>\n",
              "    <tr>\n",
              "      <th>1</th>\n",
              "      <td>Decision Tree</td>\n",
              "      <td>99</td>\n",
              "      <td>76</td>\n",
              "      <td>99</td>\n",
              "      <td>76</td>\n",
              "      <td>0.71</td>\n",
              "    </tr>\n",
              "    <tr>\n",
              "      <th>2</th>\n",
              "      <td>Random Forest</td>\n",
              "      <td>99</td>\n",
              "      <td>80</td>\n",
              "      <td>99</td>\n",
              "      <td>79</td>\n",
              "      <td>0.81</td>\n",
              "    </tr>\n",
              "    <tr>\n",
              "      <th>3</th>\n",
              "      <td>KNearest Neighbour</td>\n",
              "      <td>86</td>\n",
              "      <td>72</td>\n",
              "      <td>85</td>\n",
              "      <td>72</td>\n",
              "      <td>0.79</td>\n",
              "    </tr>\n",
              "  </tbody>\n",
              "</table>\n",
              "</div>\n",
              "      <button class=\"colab-df-convert\" onclick=\"convertToInteractive('df-c3f45aab-059d-43c2-9830-841ef4c5ec64')\"\n",
              "              title=\"Convert this dataframe to an interactive table.\"\n",
              "              style=\"display:none;\">\n",
              "        \n",
              "  <svg xmlns=\"http://www.w3.org/2000/svg\" height=\"24px\"viewBox=\"0 0 24 24\"\n",
              "       width=\"24px\">\n",
              "    <path d=\"M0 0h24v24H0V0z\" fill=\"none\"/>\n",
              "    <path d=\"M18.56 5.44l.94 2.06.94-2.06 2.06-.94-2.06-.94-.94-2.06-.94 2.06-2.06.94zm-11 1L8.5 8.5l.94-2.06 2.06-.94-2.06-.94L8.5 2.5l-.94 2.06-2.06.94zm10 10l.94 2.06.94-2.06 2.06-.94-2.06-.94-.94-2.06-.94 2.06-2.06.94z\"/><path d=\"M17.41 7.96l-1.37-1.37c-.4-.4-.92-.59-1.43-.59-.52 0-1.04.2-1.43.59L10.3 9.45l-7.72 7.72c-.78.78-.78 2.05 0 2.83L4 21.41c.39.39.9.59 1.41.59.51 0 1.02-.2 1.41-.59l7.78-7.78 2.81-2.81c.8-.78.8-2.07 0-2.86zM5.41 20L4 18.59l7.72-7.72 1.47 1.35L5.41 20z\"/>\n",
              "  </svg>\n",
              "      </button>\n",
              "      \n",
              "  <style>\n",
              "    .colab-df-container {\n",
              "      display:flex;\n",
              "      flex-wrap:wrap;\n",
              "      gap: 12px;\n",
              "    }\n",
              "\n",
              "    .colab-df-convert {\n",
              "      background-color: #E8F0FE;\n",
              "      border: none;\n",
              "      border-radius: 50%;\n",
              "      cursor: pointer;\n",
              "      display: none;\n",
              "      fill: #1967D2;\n",
              "      height: 32px;\n",
              "      padding: 0 0 0 0;\n",
              "      width: 32px;\n",
              "    }\n",
              "\n",
              "    .colab-df-convert:hover {\n",
              "      background-color: #E2EBFA;\n",
              "      box-shadow: 0px 1px 2px rgba(60, 64, 67, 0.3), 0px 1px 3px 1px rgba(60, 64, 67, 0.15);\n",
              "      fill: #174EA6;\n",
              "    }\n",
              "\n",
              "    [theme=dark] .colab-df-convert {\n",
              "      background-color: #3B4455;\n",
              "      fill: #D2E3FC;\n",
              "    }\n",
              "\n",
              "    [theme=dark] .colab-df-convert:hover {\n",
              "      background-color: #434B5C;\n",
              "      box-shadow: 0px 1px 3px 1px rgba(0, 0, 0, 0.15);\n",
              "      filter: drop-shadow(0px 1px 2px rgba(0, 0, 0, 0.3));\n",
              "      fill: #FFFFFF;\n",
              "    }\n",
              "  </style>\n",
              "\n",
              "      <script>\n",
              "        const buttonEl =\n",
              "          document.querySelector('#df-c3f45aab-059d-43c2-9830-841ef4c5ec64 button.colab-df-convert');\n",
              "        buttonEl.style.display =\n",
              "          google.colab.kernel.accessAllowed ? 'block' : 'none';\n",
              "\n",
              "        async function convertToInteractive(key) {\n",
              "          const element = document.querySelector('#df-c3f45aab-059d-43c2-9830-841ef4c5ec64');\n",
              "          const dataTable =\n",
              "            await google.colab.kernel.invokeFunction('convertToInteractive',\n",
              "                                                     [key], {});\n",
              "          if (!dataTable) return;\n",
              "\n",
              "          const docLinkHtml = 'Like what you see? Visit the ' +\n",
              "            '<a target=\"_blank\" href=https://colab.research.google.com/notebooks/data_table.ipynb>data table notebook</a>'\n",
              "            + ' to learn more about interactive tables.';\n",
              "          element.innerHTML = '';\n",
              "          dataTable['output_type'] = 'display_data';\n",
              "          await google.colab.output.renderOutput(dataTable, element);\n",
              "          const docLink = document.createElement('div');\n",
              "          docLink.innerHTML = docLinkHtml;\n",
              "          element.appendChild(docLink);\n",
              "        }\n",
              "      </script>\n",
              "    </div>\n",
              "  </div>\n",
              "  "
            ]
          },
          "metadata": {},
          "execution_count": 124
        },
        {
          "output_type": "stream",
          "name": "stdout",
          "text": [
            "time: 148 ms (started: 2023-02-04 07:39:55 +00:00)\n"
          ]
        }
      ]
    },
    {
      "cell_type": "markdown",
      "metadata": {
        "id": "wrXF-Nf2Hvbc"
      },
      "source": [
        "\n",
        "<a name = Section85></a>\n",
        "### **8.5 ADA Boost Classifier**\n",
        "\n",
        "- Create ADA Boost and evaluate the metrics"
      ]
    },
    {
      "cell_type": "code",
      "execution_count": 125,
      "metadata": {
        "colab": {
          "base_uri": "https://localhost:8080/"
        },
        "outputId": "a7319917-c645-4554-fed5-8548e1319423",
        "id": "okZpd2nmfYYd"
      },
      "outputs": [
        {
          "output_type": "execute_result",
          "data": {
            "text/plain": [
              "AdaBoostClassifier(learning_rate=1, random_state=42)"
            ]
          },
          "metadata": {},
          "execution_count": 125
        },
        {
          "output_type": "stream",
          "name": "stdout",
          "text": [
            "time: 90.6 ms (started: 2023-02-04 07:39:55 +00:00)\n"
          ]
        }
      ],
      "source": [
        "from sklearn.ensemble import AdaBoostClassifier\n",
        "adb_clf = AdaBoostClassifier(n_estimators=50, learning_rate=1, random_state=42)\n",
        "adb_clf.fit(X_train, y_train)\n",
        "adb_clf\n",
        "\n"
      ]
    },
    {
      "cell_type": "code",
      "execution_count": 126,
      "metadata": {
        "colab": {
          "base_uri": "https://localhost:8080/",
          "height": 224
        },
        "outputId": "46fda373-6cda-41b7-ed81-9ba3b14adb4d",
        "id": "_YG4nKO0fYYe"
      },
      "outputs": [
        {
          "output_type": "execute_result",
          "data": {
            "text/plain": [
              "                Model  Acc. Tr  Acc. Tst  F1 Tr  F1 tst    CV\n",
              "0  LogisticRegression       85        72     85      71  0.80\n",
              "1       Decision Tree       99        76     99      76  0.71\n",
              "2       Random Forest       99        80     99      79  0.81\n",
              "3  KNearest Neighbour       86        72     85      72  0.79\n",
              "4            AdaBoost       88        84     88      83  0.82"
            ],
            "text/html": [
              "\n",
              "  <div id=\"df-13852fea-5916-4c3d-bfa8-c038a1ce3a18\">\n",
              "    <div class=\"colab-df-container\">\n",
              "      <div>\n",
              "<style scoped>\n",
              "    .dataframe tbody tr th:only-of-type {\n",
              "        vertical-align: middle;\n",
              "    }\n",
              "\n",
              "    .dataframe tbody tr th {\n",
              "        vertical-align: top;\n",
              "    }\n",
              "\n",
              "    .dataframe thead th {\n",
              "        text-align: right;\n",
              "    }\n",
              "</style>\n",
              "<table border=\"1\" class=\"dataframe\">\n",
              "  <thead>\n",
              "    <tr style=\"text-align: right;\">\n",
              "      <th></th>\n",
              "      <th>Model</th>\n",
              "      <th>Acc. Tr</th>\n",
              "      <th>Acc. Tst</th>\n",
              "      <th>F1 Tr</th>\n",
              "      <th>F1 tst</th>\n",
              "      <th>CV</th>\n",
              "    </tr>\n",
              "  </thead>\n",
              "  <tbody>\n",
              "    <tr>\n",
              "      <th>0</th>\n",
              "      <td>LogisticRegression</td>\n",
              "      <td>85</td>\n",
              "      <td>72</td>\n",
              "      <td>85</td>\n",
              "      <td>71</td>\n",
              "      <td>0.80</td>\n",
              "    </tr>\n",
              "    <tr>\n",
              "      <th>1</th>\n",
              "      <td>Decision Tree</td>\n",
              "      <td>99</td>\n",
              "      <td>76</td>\n",
              "      <td>99</td>\n",
              "      <td>76</td>\n",
              "      <td>0.71</td>\n",
              "    </tr>\n",
              "    <tr>\n",
              "      <th>2</th>\n",
              "      <td>Random Forest</td>\n",
              "      <td>99</td>\n",
              "      <td>80</td>\n",
              "      <td>99</td>\n",
              "      <td>79</td>\n",
              "      <td>0.81</td>\n",
              "    </tr>\n",
              "    <tr>\n",
              "      <th>3</th>\n",
              "      <td>KNearest Neighbour</td>\n",
              "      <td>86</td>\n",
              "      <td>72</td>\n",
              "      <td>85</td>\n",
              "      <td>72</td>\n",
              "      <td>0.79</td>\n",
              "    </tr>\n",
              "    <tr>\n",
              "      <th>4</th>\n",
              "      <td>AdaBoost</td>\n",
              "      <td>88</td>\n",
              "      <td>84</td>\n",
              "      <td>88</td>\n",
              "      <td>83</td>\n",
              "      <td>0.82</td>\n",
              "    </tr>\n",
              "  </tbody>\n",
              "</table>\n",
              "</div>\n",
              "      <button class=\"colab-df-convert\" onclick=\"convertToInteractive('df-13852fea-5916-4c3d-bfa8-c038a1ce3a18')\"\n",
              "              title=\"Convert this dataframe to an interactive table.\"\n",
              "              style=\"display:none;\">\n",
              "        \n",
              "  <svg xmlns=\"http://www.w3.org/2000/svg\" height=\"24px\"viewBox=\"0 0 24 24\"\n",
              "       width=\"24px\">\n",
              "    <path d=\"M0 0h24v24H0V0z\" fill=\"none\"/>\n",
              "    <path d=\"M18.56 5.44l.94 2.06.94-2.06 2.06-.94-2.06-.94-.94-2.06-.94 2.06-2.06.94zm-11 1L8.5 8.5l.94-2.06 2.06-.94-2.06-.94L8.5 2.5l-.94 2.06-2.06.94zm10 10l.94 2.06.94-2.06 2.06-.94-2.06-.94-.94-2.06-.94 2.06-2.06.94z\"/><path d=\"M17.41 7.96l-1.37-1.37c-.4-.4-.92-.59-1.43-.59-.52 0-1.04.2-1.43.59L10.3 9.45l-7.72 7.72c-.78.78-.78 2.05 0 2.83L4 21.41c.39.39.9.59 1.41.59.51 0 1.02-.2 1.41-.59l7.78-7.78 2.81-2.81c.8-.78.8-2.07 0-2.86zM5.41 20L4 18.59l7.72-7.72 1.47 1.35L5.41 20z\"/>\n",
              "  </svg>\n",
              "      </button>\n",
              "      \n",
              "  <style>\n",
              "    .colab-df-container {\n",
              "      display:flex;\n",
              "      flex-wrap:wrap;\n",
              "      gap: 12px;\n",
              "    }\n",
              "\n",
              "    .colab-df-convert {\n",
              "      background-color: #E8F0FE;\n",
              "      border: none;\n",
              "      border-radius: 50%;\n",
              "      cursor: pointer;\n",
              "      display: none;\n",
              "      fill: #1967D2;\n",
              "      height: 32px;\n",
              "      padding: 0 0 0 0;\n",
              "      width: 32px;\n",
              "    }\n",
              "\n",
              "    .colab-df-convert:hover {\n",
              "      background-color: #E2EBFA;\n",
              "      box-shadow: 0px 1px 2px rgba(60, 64, 67, 0.3), 0px 1px 3px 1px rgba(60, 64, 67, 0.15);\n",
              "      fill: #174EA6;\n",
              "    }\n",
              "\n",
              "    [theme=dark] .colab-df-convert {\n",
              "      background-color: #3B4455;\n",
              "      fill: #D2E3FC;\n",
              "    }\n",
              "\n",
              "    [theme=dark] .colab-df-convert:hover {\n",
              "      background-color: #434B5C;\n",
              "      box-shadow: 0px 1px 3px 1px rgba(0, 0, 0, 0.15);\n",
              "      filter: drop-shadow(0px 1px 2px rgba(0, 0, 0, 0.3));\n",
              "      fill: #FFFFFF;\n",
              "    }\n",
              "  </style>\n",
              "\n",
              "      <script>\n",
              "        const buttonEl =\n",
              "          document.querySelector('#df-13852fea-5916-4c3d-bfa8-c038a1ce3a18 button.colab-df-convert');\n",
              "        buttonEl.style.display =\n",
              "          google.colab.kernel.accessAllowed ? 'block' : 'none';\n",
              "\n",
              "        async function convertToInteractive(key) {\n",
              "          const element = document.querySelector('#df-13852fea-5916-4c3d-bfa8-c038a1ce3a18');\n",
              "          const dataTable =\n",
              "            await google.colab.kernel.invokeFunction('convertToInteractive',\n",
              "                                                     [key], {});\n",
              "          if (!dataTable) return;\n",
              "\n",
              "          const docLinkHtml = 'Like what you see? Visit the ' +\n",
              "            '<a target=\"_blank\" href=https://colab.research.google.com/notebooks/data_table.ipynb>data table notebook</a>'\n",
              "            + ' to learn more about interactive tables.';\n",
              "          element.innerHTML = '';\n",
              "          dataTable['output_type'] = 'display_data';\n",
              "          await google.colab.output.renderOutput(dataTable, element);\n",
              "          const docLink = document.createElement('div');\n",
              "          docLink.innerHTML = docLinkHtml;\n",
              "          element.appendChild(docLink);\n",
              "        }\n",
              "      </script>\n",
              "    </div>\n",
              "  </div>\n",
              "  "
            ]
          },
          "metadata": {},
          "execution_count": 126
        },
        {
          "output_type": "stream",
          "name": "stdout",
          "text": [
            "time: 954 ms (started: 2023-02-04 07:39:55 +00:00)\n"
          ]
        }
      ],
      "source": [
        "test_score = (accuracy_score(y_test, adb_clf.predict(X_test)) * 100).astype(int)\n",
        "train_score = (accuracy_score(y_train, adb_clf.predict(X_train)) * 100).astype(int)\n",
        "test_f1 = (f1_score(y_test, adb_clf.predict(X_test),average='weighted') * 100).astype(int)\n",
        "train_f1 = (f1_score(y_train, adb_clf.predict(X_train),average='weighted') * 100).astype(int)\n",
        "scores = cross_val_score(adb_clf, X, y, cv=10, scoring='accuracy')\n",
        "\n",
        "results_df2 = pd.DataFrame(data=[[\"AdaBoost\", train_score, test_score, train_f1, test_f1,\"%0.2f\" %scores.mean()]], \n",
        "                          columns=['Model', 'Acc. Tr', 'Acc. Tst','F1 Tr', 'F1 tst', 'CV'])\n",
        "\n",
        "results_df = results_df.append(results_df2, ignore_index=True)\n",
        "results_df"
      ]
    },
    {
      "cell_type": "markdown",
      "metadata": {
        "id": "vK7T7kZefePP"
      },
      "source": [
        "\n",
        "<a name = Section86></a>\n",
        "### **8.6 XGBoost**\n",
        "\n",
        "- Create XG Boost model and evaluate the metrics"
      ]
    },
    {
      "cell_type": "code",
      "execution_count": 127,
      "metadata": {
        "colab": {
          "base_uri": "https://localhost:8080/"
        },
        "outputId": "cdfc0d02-852a-44f2-9e5d-5384aca77117",
        "id": "hFi8oNKzfePQ"
      },
      "outputs": [
        {
          "output_type": "execute_result",
          "data": {
            "text/plain": [
              "XGBClassifier(use_label_encoder=False)"
            ]
          },
          "metadata": {},
          "execution_count": 127
        },
        {
          "output_type": "stream",
          "name": "stdout",
          "text": [
            "time: 38.9 ms (started: 2023-02-04 07:39:56 +00:00)\n"
          ]
        }
      ],
      "source": [
        "from xgboost import XGBClassifier\n",
        "\n",
        "xgb_clf = XGBClassifier(use_label_encoder=False)\n",
        "xgb_clf.fit(X_train, y_train)\n",
        "xgb_clf\n",
        "\n"
      ]
    },
    {
      "cell_type": "code",
      "execution_count": 128,
      "metadata": {
        "colab": {
          "base_uri": "https://localhost:8080/",
          "height": 255
        },
        "outputId": "7543a3f1-a0e9-438f-c374-a05d1ae5f805",
        "id": "WulCdwrBfePR"
      },
      "outputs": [
        {
          "output_type": "execute_result",
          "data": {
            "text/plain": [
              "                Model  Acc. Tr  Acc. Tst  F1 Tr  F1 tst    CV\n",
              "0  LogisticRegression       85        72     85      71  0.80\n",
              "1       Decision Tree       99        76     99      76  0.71\n",
              "2       Random Forest       99        80     99      79  0.81\n",
              "3  KNearest Neighbour       86        72     85      72  0.79\n",
              "4            AdaBoost       88        84     88      83  0.82\n",
              "5             XGBoost       92        80     92      80  0.82"
            ],
            "text/html": [
              "\n",
              "  <div id=\"df-9190857c-b39c-48a5-ae3c-b2712f8dceaf\">\n",
              "    <div class=\"colab-df-container\">\n",
              "      <div>\n",
              "<style scoped>\n",
              "    .dataframe tbody tr th:only-of-type {\n",
              "        vertical-align: middle;\n",
              "    }\n",
              "\n",
              "    .dataframe tbody tr th {\n",
              "        vertical-align: top;\n",
              "    }\n",
              "\n",
              "    .dataframe thead th {\n",
              "        text-align: right;\n",
              "    }\n",
              "</style>\n",
              "<table border=\"1\" class=\"dataframe\">\n",
              "  <thead>\n",
              "    <tr style=\"text-align: right;\">\n",
              "      <th></th>\n",
              "      <th>Model</th>\n",
              "      <th>Acc. Tr</th>\n",
              "      <th>Acc. Tst</th>\n",
              "      <th>F1 Tr</th>\n",
              "      <th>F1 tst</th>\n",
              "      <th>CV</th>\n",
              "    </tr>\n",
              "  </thead>\n",
              "  <tbody>\n",
              "    <tr>\n",
              "      <th>0</th>\n",
              "      <td>LogisticRegression</td>\n",
              "      <td>85</td>\n",
              "      <td>72</td>\n",
              "      <td>85</td>\n",
              "      <td>71</td>\n",
              "      <td>0.80</td>\n",
              "    </tr>\n",
              "    <tr>\n",
              "      <th>1</th>\n",
              "      <td>Decision Tree</td>\n",
              "      <td>99</td>\n",
              "      <td>76</td>\n",
              "      <td>99</td>\n",
              "      <td>76</td>\n",
              "      <td>0.71</td>\n",
              "    </tr>\n",
              "    <tr>\n",
              "      <th>2</th>\n",
              "      <td>Random Forest</td>\n",
              "      <td>99</td>\n",
              "      <td>80</td>\n",
              "      <td>99</td>\n",
              "      <td>79</td>\n",
              "      <td>0.81</td>\n",
              "    </tr>\n",
              "    <tr>\n",
              "      <th>3</th>\n",
              "      <td>KNearest Neighbour</td>\n",
              "      <td>86</td>\n",
              "      <td>72</td>\n",
              "      <td>85</td>\n",
              "      <td>72</td>\n",
              "      <td>0.79</td>\n",
              "    </tr>\n",
              "    <tr>\n",
              "      <th>4</th>\n",
              "      <td>AdaBoost</td>\n",
              "      <td>88</td>\n",
              "      <td>84</td>\n",
              "      <td>88</td>\n",
              "      <td>83</td>\n",
              "      <td>0.82</td>\n",
              "    </tr>\n",
              "    <tr>\n",
              "      <th>5</th>\n",
              "      <td>XGBoost</td>\n",
              "      <td>92</td>\n",
              "      <td>80</td>\n",
              "      <td>92</td>\n",
              "      <td>80</td>\n",
              "      <td>0.82</td>\n",
              "    </tr>\n",
              "  </tbody>\n",
              "</table>\n",
              "</div>\n",
              "      <button class=\"colab-df-convert\" onclick=\"convertToInteractive('df-9190857c-b39c-48a5-ae3c-b2712f8dceaf')\"\n",
              "              title=\"Convert this dataframe to an interactive table.\"\n",
              "              style=\"display:none;\">\n",
              "        \n",
              "  <svg xmlns=\"http://www.w3.org/2000/svg\" height=\"24px\"viewBox=\"0 0 24 24\"\n",
              "       width=\"24px\">\n",
              "    <path d=\"M0 0h24v24H0V0z\" fill=\"none\"/>\n",
              "    <path d=\"M18.56 5.44l.94 2.06.94-2.06 2.06-.94-2.06-.94-.94-2.06-.94 2.06-2.06.94zm-11 1L8.5 8.5l.94-2.06 2.06-.94-2.06-.94L8.5 2.5l-.94 2.06-2.06.94zm10 10l.94 2.06.94-2.06 2.06-.94-2.06-.94-.94-2.06-.94 2.06-2.06.94z\"/><path d=\"M17.41 7.96l-1.37-1.37c-.4-.4-.92-.59-1.43-.59-.52 0-1.04.2-1.43.59L10.3 9.45l-7.72 7.72c-.78.78-.78 2.05 0 2.83L4 21.41c.39.39.9.59 1.41.59.51 0 1.02-.2 1.41-.59l7.78-7.78 2.81-2.81c.8-.78.8-2.07 0-2.86zM5.41 20L4 18.59l7.72-7.72 1.47 1.35L5.41 20z\"/>\n",
              "  </svg>\n",
              "      </button>\n",
              "      \n",
              "  <style>\n",
              "    .colab-df-container {\n",
              "      display:flex;\n",
              "      flex-wrap:wrap;\n",
              "      gap: 12px;\n",
              "    }\n",
              "\n",
              "    .colab-df-convert {\n",
              "      background-color: #E8F0FE;\n",
              "      border: none;\n",
              "      border-radius: 50%;\n",
              "      cursor: pointer;\n",
              "      display: none;\n",
              "      fill: #1967D2;\n",
              "      height: 32px;\n",
              "      padding: 0 0 0 0;\n",
              "      width: 32px;\n",
              "    }\n",
              "\n",
              "    .colab-df-convert:hover {\n",
              "      background-color: #E2EBFA;\n",
              "      box-shadow: 0px 1px 2px rgba(60, 64, 67, 0.3), 0px 1px 3px 1px rgba(60, 64, 67, 0.15);\n",
              "      fill: #174EA6;\n",
              "    }\n",
              "\n",
              "    [theme=dark] .colab-df-convert {\n",
              "      background-color: #3B4455;\n",
              "      fill: #D2E3FC;\n",
              "    }\n",
              "\n",
              "    [theme=dark] .colab-df-convert:hover {\n",
              "      background-color: #434B5C;\n",
              "      box-shadow: 0px 1px 3px 1px rgba(0, 0, 0, 0.15);\n",
              "      filter: drop-shadow(0px 1px 2px rgba(0, 0, 0, 0.3));\n",
              "      fill: #FFFFFF;\n",
              "    }\n",
              "  </style>\n",
              "\n",
              "      <script>\n",
              "        const buttonEl =\n",
              "          document.querySelector('#df-9190857c-b39c-48a5-ae3c-b2712f8dceaf button.colab-df-convert');\n",
              "        buttonEl.style.display =\n",
              "          google.colab.kernel.accessAllowed ? 'block' : 'none';\n",
              "\n",
              "        async function convertToInteractive(key) {\n",
              "          const element = document.querySelector('#df-9190857c-b39c-48a5-ae3c-b2712f8dceaf');\n",
              "          const dataTable =\n",
              "            await google.colab.kernel.invokeFunction('convertToInteractive',\n",
              "                                                     [key], {});\n",
              "          if (!dataTable) return;\n",
              "\n",
              "          const docLinkHtml = 'Like what you see? Visit the ' +\n",
              "            '<a target=\"_blank\" href=https://colab.research.google.com/notebooks/data_table.ipynb>data table notebook</a>'\n",
              "            + ' to learn more about interactive tables.';\n",
              "          element.innerHTML = '';\n",
              "          dataTable['output_type'] = 'display_data';\n",
              "          await google.colab.output.renderOutput(dataTable, element);\n",
              "          const docLink = document.createElement('div');\n",
              "          docLink.innerHTML = docLinkHtml;\n",
              "          element.appendChild(docLink);\n",
              "        }\n",
              "      </script>\n",
              "    </div>\n",
              "  </div>\n",
              "  "
            ]
          },
          "metadata": {},
          "execution_count": 128
        },
        {
          "output_type": "stream",
          "name": "stdout",
          "text": [
            "time: 387 ms (started: 2023-02-04 07:39:56 +00:00)\n"
          ]
        }
      ],
      "source": [
        "test_score = (accuracy_score(y_test, xgb_clf.predict(X_test)) * 100).astype(int)\n",
        "train_score = (accuracy_score(y_train,xgb_clf.predict(X_train)) * 100).astype(int)\n",
        "test_f1 = (f1_score(y_test, xgb_clf.predict(X_test),average='weighted') * 100).astype(int)\n",
        "train_f1 = (f1_score(y_train, xgb_clf.predict(X_train),average='weighted') * 100).astype(int)\n",
        "scores = cross_val_score(xgb_clf, X, y, cv=10, scoring='accuracy')\n",
        "\n",
        "results_df2 = pd.DataFrame(data=[[\"XGBoost\", train_score, test_score, train_f1, test_f1,\"%0.2f\" %scores.mean()]], \n",
        "                          columns=['Model', 'Acc. Tr', 'Acc. Tst','F1 Tr', 'F1 tst', 'CV'])\n",
        "\n",
        "results_df = results_df.append(results_df2, ignore_index=True)\n",
        "results_df"
      ]
    },
    {
      "cell_type": "markdown",
      "metadata": {
        "id": "CWTsncLHCkIe"
      },
      "source": [
        "[*Go Back to Index*](#Section0)<br>"
      ]
    },
    {
      "cell_type": "markdown",
      "metadata": {
        "id": "w5-8KrfQJjNA"
      },
      "source": [
        "<a name = Section9></a>\n",
        "\n",
        "---\n",
        "# **9. Hyper Parameter Tuning of Model & Evaluation with Grid Search SCV**\n",
        "---\n",
        "\n",
        "- In this section we will Evaluate different Models by tuning Parameters using Grid Search CV\n",
        "\n",
        "\n",
        "\n",
        "\n",
        "\n"
      ]
    },
    {
      "cell_type": "markdown",
      "metadata": {
        "id": "KcmVH_moJ5nk"
      },
      "source": [
        "\n",
        "<a name = Section91></a>\n",
        "### **9.1 Tuned Logistic Regression Model**\n",
        "\n",
        "- Tuning of Logistic Regression using Grid Search CV and evaluate the metrics"
      ]
    },
    {
      "cell_type": "code",
      "source": [
        "from sklearn.model_selection import GridSearchCV"
      ],
      "metadata": {
        "id": "a2fENRcq3CCP",
        "colab": {
          "base_uri": "https://localhost:8080/"
        },
        "outputId": "3bb1e439-bc32-406b-c9fd-1319fa98f954"
      },
      "execution_count": 129,
      "outputs": [
        {
          "output_type": "stream",
          "name": "stdout",
          "text": [
            "time: 879 µs (started: 2023-02-04 07:39:57 +00:00)\n"
          ]
        }
      ]
    },
    {
      "cell_type": "code",
      "source": [
        "param_grid_lr= {\n",
        "    \"C\": np.logspace(-4, 4, 20),\n",
        "          \"solver\": [\"liblinear\"]\n",
        "}"
      ],
      "metadata": {
        "id": "J64OkC5S2o-e",
        "colab": {
          "base_uri": "https://localhost:8080/"
        },
        "outputId": "2531de52-11eb-46a5-f863-1b0edeab8d31"
      },
      "execution_count": 130,
      "outputs": [
        {
          "output_type": "stream",
          "name": "stdout",
          "text": [
            "time: 906 µs (started: 2023-02-04 07:39:57 +00:00)\n"
          ]
        }
      ]
    },
    {
      "cell_type": "code",
      "source": [
        "lr_cv=GridSearchCV(lr_clf,param_grid_lr,n_jobs=-1,cv=5)\n",
        "lr_cv.fit(X_train,y_train)\n",
        "best_params=lr_cv.best_params_\n",
        "print(f\"Best Params: {best_params}\")\n",
        "lr_cvg = LogisticRegression(**best_params)\n",
        "\n",
        "lr_cvg.fit(X_train, y_train)\n",
        "\n",
        "#print_score(lr_clf, X_train, y_train, X_test, y_test, train=True)\n",
        "#print_score(lr_clf, X_train, y_train, X_test, y_test, train=False)"
      ],
      "metadata": {
        "id": "5VfHftiHPnY3",
        "colab": {
          "base_uri": "https://localhost:8080/"
        },
        "outputId": "176ec65f-08d6-46e4-82f5-b0869befc178"
      },
      "execution_count": 131,
      "outputs": [
        {
          "output_type": "stream",
          "name": "stdout",
          "text": [
            "Best Params: {'C': 0.08858667904100823, 'solver': 'liblinear'}\n"
          ]
        },
        {
          "output_type": "execute_result",
          "data": {
            "text/plain": [
              "LogisticRegression(C=0.08858667904100823, solver='liblinear')"
            ]
          },
          "metadata": {},
          "execution_count": 131
        },
        {
          "output_type": "stream",
          "name": "stdout",
          "text": [
            "time: 2.25 s (started: 2023-02-04 07:39:57 +00:00)\n"
          ]
        }
      ]
    },
    {
      "cell_type": "code",
      "source": [
        "test_score = (accuracy_score(y_test, lr_cvg.predict(X_test)) * 100).astype(int)\n",
        "train_score = (accuracy_score(y_train, lr_cvg.predict(X_train)) * 100).astype(int)\n",
        "test_f1 = (f1_score(y_test, lr_cvg.predict(X_test) , average='weighted') * 100).astype(int)\n",
        "train_f1 = (f1_score(y_train, lr_cvg.predict(X_train), average='weighted') * 100).astype(int)\n",
        "scores = cross_val_score(lr_cvg, X, y, cv=10, scoring='accuracy')\n",
        "\n",
        "results_dfg = pd.DataFrame(data=[[\"HTG LogisticRegression\", train_score, test_score, train_f1,test_f1,\"%0.2f\" %scores.mean(),]],\n",
        "                          columns=['Model', 'Acc. Tr', 'Acc. Tst','F1 Tr', 'F1 tst', 'CV'])\n",
        "results_dfg"
      ],
      "metadata": {
        "colab": {
          "base_uri": "https://localhost:8080/",
          "height": 98
        },
        "id": "XqnCqGso68ur",
        "outputId": "0fd61f03-030b-421d-b81f-70a0692bb351"
      },
      "execution_count": 132,
      "outputs": [
        {
          "output_type": "execute_result",
          "data": {
            "text/plain": [
              "                    Model  Acc. Tr  Acc. Tst  F1 Tr  F1 tst    CV\n",
              "0  HTG LogisticRegression       84        72     84      71  0.79"
            ],
            "text/html": [
              "\n",
              "  <div id=\"df-7190a6c3-9629-4ae1-8e81-f4e0dc4576fb\">\n",
              "    <div class=\"colab-df-container\">\n",
              "      <div>\n",
              "<style scoped>\n",
              "    .dataframe tbody tr th:only-of-type {\n",
              "        vertical-align: middle;\n",
              "    }\n",
              "\n",
              "    .dataframe tbody tr th {\n",
              "        vertical-align: top;\n",
              "    }\n",
              "\n",
              "    .dataframe thead th {\n",
              "        text-align: right;\n",
              "    }\n",
              "</style>\n",
              "<table border=\"1\" class=\"dataframe\">\n",
              "  <thead>\n",
              "    <tr style=\"text-align: right;\">\n",
              "      <th></th>\n",
              "      <th>Model</th>\n",
              "      <th>Acc. Tr</th>\n",
              "      <th>Acc. Tst</th>\n",
              "      <th>F1 Tr</th>\n",
              "      <th>F1 tst</th>\n",
              "      <th>CV</th>\n",
              "    </tr>\n",
              "  </thead>\n",
              "  <tbody>\n",
              "    <tr>\n",
              "      <th>0</th>\n",
              "      <td>HTG LogisticRegression</td>\n",
              "      <td>84</td>\n",
              "      <td>72</td>\n",
              "      <td>84</td>\n",
              "      <td>71</td>\n",
              "      <td>0.79</td>\n",
              "    </tr>\n",
              "  </tbody>\n",
              "</table>\n",
              "</div>\n",
              "      <button class=\"colab-df-convert\" onclick=\"convertToInteractive('df-7190a6c3-9629-4ae1-8e81-f4e0dc4576fb')\"\n",
              "              title=\"Convert this dataframe to an interactive table.\"\n",
              "              style=\"display:none;\">\n",
              "        \n",
              "  <svg xmlns=\"http://www.w3.org/2000/svg\" height=\"24px\"viewBox=\"0 0 24 24\"\n",
              "       width=\"24px\">\n",
              "    <path d=\"M0 0h24v24H0V0z\" fill=\"none\"/>\n",
              "    <path d=\"M18.56 5.44l.94 2.06.94-2.06 2.06-.94-2.06-.94-.94-2.06-.94 2.06-2.06.94zm-11 1L8.5 8.5l.94-2.06 2.06-.94-2.06-.94L8.5 2.5l-.94 2.06-2.06.94zm10 10l.94 2.06.94-2.06 2.06-.94-2.06-.94-.94-2.06-.94 2.06-2.06.94z\"/><path d=\"M17.41 7.96l-1.37-1.37c-.4-.4-.92-.59-1.43-.59-.52 0-1.04.2-1.43.59L10.3 9.45l-7.72 7.72c-.78.78-.78 2.05 0 2.83L4 21.41c.39.39.9.59 1.41.59.51 0 1.02-.2 1.41-.59l7.78-7.78 2.81-2.81c.8-.78.8-2.07 0-2.86zM5.41 20L4 18.59l7.72-7.72 1.47 1.35L5.41 20z\"/>\n",
              "  </svg>\n",
              "      </button>\n",
              "      \n",
              "  <style>\n",
              "    .colab-df-container {\n",
              "      display:flex;\n",
              "      flex-wrap:wrap;\n",
              "      gap: 12px;\n",
              "    }\n",
              "\n",
              "    .colab-df-convert {\n",
              "      background-color: #E8F0FE;\n",
              "      border: none;\n",
              "      border-radius: 50%;\n",
              "      cursor: pointer;\n",
              "      display: none;\n",
              "      fill: #1967D2;\n",
              "      height: 32px;\n",
              "      padding: 0 0 0 0;\n",
              "      width: 32px;\n",
              "    }\n",
              "\n",
              "    .colab-df-convert:hover {\n",
              "      background-color: #E2EBFA;\n",
              "      box-shadow: 0px 1px 2px rgba(60, 64, 67, 0.3), 0px 1px 3px 1px rgba(60, 64, 67, 0.15);\n",
              "      fill: #174EA6;\n",
              "    }\n",
              "\n",
              "    [theme=dark] .colab-df-convert {\n",
              "      background-color: #3B4455;\n",
              "      fill: #D2E3FC;\n",
              "    }\n",
              "\n",
              "    [theme=dark] .colab-df-convert:hover {\n",
              "      background-color: #434B5C;\n",
              "      box-shadow: 0px 1px 3px 1px rgba(0, 0, 0, 0.15);\n",
              "      filter: drop-shadow(0px 1px 2px rgba(0, 0, 0, 0.3));\n",
              "      fill: #FFFFFF;\n",
              "    }\n",
              "  </style>\n",
              "\n",
              "      <script>\n",
              "        const buttonEl =\n",
              "          document.querySelector('#df-7190a6c3-9629-4ae1-8e81-f4e0dc4576fb button.colab-df-convert');\n",
              "        buttonEl.style.display =\n",
              "          google.colab.kernel.accessAllowed ? 'block' : 'none';\n",
              "\n",
              "        async function convertToInteractive(key) {\n",
              "          const element = document.querySelector('#df-7190a6c3-9629-4ae1-8e81-f4e0dc4576fb');\n",
              "          const dataTable =\n",
              "            await google.colab.kernel.invokeFunction('convertToInteractive',\n",
              "                                                     [key], {});\n",
              "          if (!dataTable) return;\n",
              "\n",
              "          const docLinkHtml = 'Like what you see? Visit the ' +\n",
              "            '<a target=\"_blank\" href=https://colab.research.google.com/notebooks/data_table.ipynb>data table notebook</a>'\n",
              "            + ' to learn more about interactive tables.';\n",
              "          element.innerHTML = '';\n",
              "          dataTable['output_type'] = 'display_data';\n",
              "          await google.colab.output.renderOutput(dataTable, element);\n",
              "          const docLink = document.createElement('div');\n",
              "          docLink.innerHTML = docLinkHtml;\n",
              "          element.appendChild(docLink);\n",
              "        }\n",
              "      </script>\n",
              "    </div>\n",
              "  </div>\n",
              "  "
            ]
          },
          "metadata": {},
          "execution_count": 132
        },
        {
          "output_type": "stream",
          "name": "stdout",
          "text": [
            "time: 84.3 ms (started: 2023-02-04 07:39:59 +00:00)\n"
          ]
        }
      ]
    },
    {
      "cell_type": "markdown",
      "metadata": {
        "id": "TgXusqVPKdPf"
      },
      "source": [
        "\n",
        "<a name = Section92></a>\n",
        "### **9.2 Tuned Decision Tree Model**\n",
        "\n",
        "- Tuning of Decision Tree using Grid Search CV and evaluate the metrics"
      ]
    },
    {
      "cell_type": "code",
      "source": [
        "param_grid_dectree = {\"criterion\":(\"gini\", \"entropy\"),  \n",
        "          \"max_depth\":(list(range(1, 20))), \n",
        "          \"min_samples_split\":[2, 3, 4,6], \n",
        "          \"min_samples_leaf\":list(range(1, 20))\n",
        "          }"
      ],
      "metadata": {
        "id": "jN8N8_267Pjd",
        "colab": {
          "base_uri": "https://localhost:8080/"
        },
        "outputId": "93e5a284-e2c7-4fca-8881-e6f4c02cec2c"
      },
      "execution_count": 133,
      "outputs": [
        {
          "output_type": "stream",
          "name": "stdout",
          "text": [
            "time: 1.26 ms (started: 2023-02-04 07:39:59 +00:00)\n"
          ]
        }
      ]
    },
    {
      "cell_type": "code",
      "source": [
        "dectree_cv=GridSearchCV(dectree_clf,param_grid_dectree,n_jobs=-1,cv=5)\n",
        "dectree_cv.fit(X_train,y_train)\n",
        "best_params=dectree_cv.best_params_\n",
        "print(f\"Best Params: {best_params}\")\n",
        "dectree_cvg = DecisionTreeClassifier(**best_params)\n",
        "\n",
        "dectree_cvg.fit(X_train, y_train)\n",
        "\n",
        "#print_score(dectree_clf, X_train, y_train, X_test, y_test, train=True)\n",
        "#print_score(dectree_clf, X_train, y_train, X_test, y_test, train=False)"
      ],
      "metadata": {
        "colab": {
          "base_uri": "https://localhost:8080/"
        },
        "outputId": "53dcace8-29d7-495e-da7e-cc427d7de7b9",
        "id": "Xsjp8YnD7Pje"
      },
      "execution_count": 134,
      "outputs": [
        {
          "output_type": "stream",
          "name": "stdout",
          "text": [
            "Best Params: {'criterion': 'entropy', 'max_depth': 6, 'min_samples_leaf': 8, 'min_samples_split': 2}\n"
          ]
        },
        {
          "output_type": "execute_result",
          "data": {
            "text/plain": [
              "DecisionTreeClassifier(criterion='entropy', max_depth=6, min_samples_leaf=8)"
            ]
          },
          "metadata": {},
          "execution_count": 134
        },
        {
          "output_type": "stream",
          "name": "stdout",
          "text": [
            "time: 56.1 s (started: 2023-02-04 07:39:59 +00:00)\n"
          ]
        }
      ]
    },
    {
      "cell_type": "code",
      "source": [
        "test_score = (accuracy_score(y_test, dectree_cvg.predict(X_test)) * 100).astype(int)\n",
        "train_score = (accuracy_score(y_train,dectree_cvg.predict(X_train)) * 100).astype(int)\n",
        "test_f1 = (f1_score(y_test, dectree_cvg.predict(X_test),average='weighted') * 100).astype(int)\n",
        "train_f1 = (f1_score(y_train, dectree_cvg.predict(X_train),average='weighted') * 100).astype(int)\n",
        "scores = cross_val_score(dectree_cvg, X, y, cv=10, scoring='accuracy')\n",
        "\n",
        "results_df2 = pd.DataFrame(data=[[\"HTG Dec Tree\", train_score, test_score, train_f1, test_f1,\"%0.2f\" %scores.mean()]], \n",
        "                          columns=['Model', 'Acc. Tr', 'Acc. Tst','F1 Tr', 'F1 tst', 'CV'])\n",
        "\n",
        "results_dfg = results_dfg.append(results_df2, ignore_index=True)\n",
        "results_dfg"
      ],
      "metadata": {
        "colab": {
          "base_uri": "https://localhost:8080/",
          "height": 129
        },
        "outputId": "9132e168-5d31-4b87-ef1e-dd8a19763a38",
        "id": "HzQOeRxv7Pjg"
      },
      "execution_count": 135,
      "outputs": [
        {
          "output_type": "execute_result",
          "data": {
            "text/plain": [
              "                    Model  Acc. Tr  Acc. Tst  F1 Tr  F1 tst    CV\n",
              "0  HTG LogisticRegression       84        72     84      71  0.79\n",
              "1            HTG Dec Tree       85        76     85      75  0.80"
            ],
            "text/html": [
              "\n",
              "  <div id=\"df-f3bea9e4-3d9c-46e7-a1d9-3ff8eda72cac\">\n",
              "    <div class=\"colab-df-container\">\n",
              "      <div>\n",
              "<style scoped>\n",
              "    .dataframe tbody tr th:only-of-type {\n",
              "        vertical-align: middle;\n",
              "    }\n",
              "\n",
              "    .dataframe tbody tr th {\n",
              "        vertical-align: top;\n",
              "    }\n",
              "\n",
              "    .dataframe thead th {\n",
              "        text-align: right;\n",
              "    }\n",
              "</style>\n",
              "<table border=\"1\" class=\"dataframe\">\n",
              "  <thead>\n",
              "    <tr style=\"text-align: right;\">\n",
              "      <th></th>\n",
              "      <th>Model</th>\n",
              "      <th>Acc. Tr</th>\n",
              "      <th>Acc. Tst</th>\n",
              "      <th>F1 Tr</th>\n",
              "      <th>F1 tst</th>\n",
              "      <th>CV</th>\n",
              "    </tr>\n",
              "  </thead>\n",
              "  <tbody>\n",
              "    <tr>\n",
              "      <th>0</th>\n",
              "      <td>HTG LogisticRegression</td>\n",
              "      <td>84</td>\n",
              "      <td>72</td>\n",
              "      <td>84</td>\n",
              "      <td>71</td>\n",
              "      <td>0.79</td>\n",
              "    </tr>\n",
              "    <tr>\n",
              "      <th>1</th>\n",
              "      <td>HTG Dec Tree</td>\n",
              "      <td>85</td>\n",
              "      <td>76</td>\n",
              "      <td>85</td>\n",
              "      <td>75</td>\n",
              "      <td>0.80</td>\n",
              "    </tr>\n",
              "  </tbody>\n",
              "</table>\n",
              "</div>\n",
              "      <button class=\"colab-df-convert\" onclick=\"convertToInteractive('df-f3bea9e4-3d9c-46e7-a1d9-3ff8eda72cac')\"\n",
              "              title=\"Convert this dataframe to an interactive table.\"\n",
              "              style=\"display:none;\">\n",
              "        \n",
              "  <svg xmlns=\"http://www.w3.org/2000/svg\" height=\"24px\"viewBox=\"0 0 24 24\"\n",
              "       width=\"24px\">\n",
              "    <path d=\"M0 0h24v24H0V0z\" fill=\"none\"/>\n",
              "    <path d=\"M18.56 5.44l.94 2.06.94-2.06 2.06-.94-2.06-.94-.94-2.06-.94 2.06-2.06.94zm-11 1L8.5 8.5l.94-2.06 2.06-.94-2.06-.94L8.5 2.5l-.94 2.06-2.06.94zm10 10l.94 2.06.94-2.06 2.06-.94-2.06-.94-.94-2.06-.94 2.06-2.06.94z\"/><path d=\"M17.41 7.96l-1.37-1.37c-.4-.4-.92-.59-1.43-.59-.52 0-1.04.2-1.43.59L10.3 9.45l-7.72 7.72c-.78.78-.78 2.05 0 2.83L4 21.41c.39.39.9.59 1.41.59.51 0 1.02-.2 1.41-.59l7.78-7.78 2.81-2.81c.8-.78.8-2.07 0-2.86zM5.41 20L4 18.59l7.72-7.72 1.47 1.35L5.41 20z\"/>\n",
              "  </svg>\n",
              "      </button>\n",
              "      \n",
              "  <style>\n",
              "    .colab-df-container {\n",
              "      display:flex;\n",
              "      flex-wrap:wrap;\n",
              "      gap: 12px;\n",
              "    }\n",
              "\n",
              "    .colab-df-convert {\n",
              "      background-color: #E8F0FE;\n",
              "      border: none;\n",
              "      border-radius: 50%;\n",
              "      cursor: pointer;\n",
              "      display: none;\n",
              "      fill: #1967D2;\n",
              "      height: 32px;\n",
              "      padding: 0 0 0 0;\n",
              "      width: 32px;\n",
              "    }\n",
              "\n",
              "    .colab-df-convert:hover {\n",
              "      background-color: #E2EBFA;\n",
              "      box-shadow: 0px 1px 2px rgba(60, 64, 67, 0.3), 0px 1px 3px 1px rgba(60, 64, 67, 0.15);\n",
              "      fill: #174EA6;\n",
              "    }\n",
              "\n",
              "    [theme=dark] .colab-df-convert {\n",
              "      background-color: #3B4455;\n",
              "      fill: #D2E3FC;\n",
              "    }\n",
              "\n",
              "    [theme=dark] .colab-df-convert:hover {\n",
              "      background-color: #434B5C;\n",
              "      box-shadow: 0px 1px 3px 1px rgba(0, 0, 0, 0.15);\n",
              "      filter: drop-shadow(0px 1px 2px rgba(0, 0, 0, 0.3));\n",
              "      fill: #FFFFFF;\n",
              "    }\n",
              "  </style>\n",
              "\n",
              "      <script>\n",
              "        const buttonEl =\n",
              "          document.querySelector('#df-f3bea9e4-3d9c-46e7-a1d9-3ff8eda72cac button.colab-df-convert');\n",
              "        buttonEl.style.display =\n",
              "          google.colab.kernel.accessAllowed ? 'block' : 'none';\n",
              "\n",
              "        async function convertToInteractive(key) {\n",
              "          const element = document.querySelector('#df-f3bea9e4-3d9c-46e7-a1d9-3ff8eda72cac');\n",
              "          const dataTable =\n",
              "            await google.colab.kernel.invokeFunction('convertToInteractive',\n",
              "                                                     [key], {});\n",
              "          if (!dataTable) return;\n",
              "\n",
              "          const docLinkHtml = 'Like what you see? Visit the ' +\n",
              "            '<a target=\"_blank\" href=https://colab.research.google.com/notebooks/data_table.ipynb>data table notebook</a>'\n",
              "            + ' to learn more about interactive tables.';\n",
              "          element.innerHTML = '';\n",
              "          dataTable['output_type'] = 'display_data';\n",
              "          await google.colab.output.renderOutput(dataTable, element);\n",
              "          const docLink = document.createElement('div');\n",
              "          docLink.innerHTML = docLinkHtml;\n",
              "          element.appendChild(docLink);\n",
              "        }\n",
              "      </script>\n",
              "    </div>\n",
              "  </div>\n",
              "  "
            ]
          },
          "metadata": {},
          "execution_count": 135
        },
        {
          "output_type": "stream",
          "name": "stdout",
          "text": [
            "time: 121 ms (started: 2023-02-04 07:40:55 +00:00)\n"
          ]
        }
      ]
    },
    {
      "cell_type": "markdown",
      "metadata": {
        "id": "rs6XETBwKuYk"
      },
      "source": [
        "\n",
        "<a name = Section93></a>\n",
        "### **9.3 Tuned Random Forest Tree Model**\n",
        "\n",
        "- Tuning of Random Forest Tree using Grid Search CV and evaluate the metrics"
      ]
    },
    {
      "cell_type": "code",
      "source": [
        "param_grid_rfc = {\n",
        "    'n_estimators' : [50,100],\n",
        "    'max_depth' : [2,3,5,7],\n",
        "    'min_samples_split' : [2,5,10],\n",
        "    'min_samples_leaf' : [1,2,3,4,5], \n",
        "}"
      ],
      "metadata": {
        "id": "1hHaXkyQ-rF1",
        "colab": {
          "base_uri": "https://localhost:8080/"
        },
        "outputId": "f1a785a9-eae1-4555-b89e-9b00dbfd9917"
      },
      "execution_count": 136,
      "outputs": [
        {
          "output_type": "stream",
          "name": "stdout",
          "text": [
            "time: 1.82 ms (started: 2023-02-04 07:40:55 +00:00)\n"
          ]
        }
      ]
    },
    {
      "cell_type": "code",
      "source": [
        "rfc_cv=GridSearchCV(rfc_clf,param_grid_rfc,n_jobs=-1,cv=5)\n",
        "rfc_cv.fit(X_train,y_train)\n",
        "best_params=dectree_cv.best_params_\n",
        "print(f\"Best Params: {best_params}\")\n",
        "rfc_cvg = RandomForestClassifier(**best_params)\n",
        "\n",
        "rfc_cvg.fit(X_train, y_train)\n",
        "\n",
        "#print_score(rfc_clf, X_train, y_train, X_test, y_test, train=True)\n",
        "#print_score(rfc_clf, X_train, y_train, X_test, y_test, train=False)"
      ],
      "metadata": {
        "colab": {
          "base_uri": "https://localhost:8080/"
        },
        "outputId": "f7925575-4cc5-4f6e-fad3-28ffddf24159",
        "id": "bG-EYkS--rF3"
      },
      "execution_count": 137,
      "outputs": [
        {
          "output_type": "stream",
          "name": "stdout",
          "text": [
            "Best Params: {'criterion': 'entropy', 'max_depth': 6, 'min_samples_leaf': 8, 'min_samples_split': 2}\n"
          ]
        },
        {
          "output_type": "execute_result",
          "data": {
            "text/plain": [
              "RandomForestClassifier(criterion='entropy', max_depth=6, min_samples_leaf=8)"
            ]
          },
          "metadata": {},
          "execution_count": 137
        },
        {
          "output_type": "stream",
          "name": "stdout",
          "text": [
            "time: 52.4 s (started: 2023-02-04 07:40:55 +00:00)\n"
          ]
        }
      ]
    },
    {
      "cell_type": "code",
      "source": [
        "test_score = (accuracy_score(y_test, rfc_cvg.predict(X_test)) * 100).astype(int)\n",
        "train_score = (accuracy_score(y_train,rfc_cvg.predict(X_train)) * 100).astype(int)\n",
        "test_f1 = (f1_score(y_test, rfc_cvg.predict(X_test),average='weighted') * 100).astype(int)\n",
        "train_f1 = (f1_score(y_train, rfc_cvg.predict(X_train),average='weighted') * 100).astype(int)\n",
        "scores = cross_val_score(rfc_cvg, X, y, cv=10, scoring='accuracy')\n",
        "\n",
        "results_df2 = pd.DataFrame(data=[[\"HTG RandForTree\", train_score, test_score, train_f1, test_f1,\"%0.2f\" %scores.mean()]], \n",
        "                          columns=['Model', 'Acc. Tr', 'Acc. Tst','F1 Tr', 'F1 tst', 'CV'])\n",
        "\n",
        "results_dfg = results_dfg.append(results_df2, ignore_index=True)\n",
        "results_dfg"
      ],
      "metadata": {
        "colab": {
          "base_uri": "https://localhost:8080/",
          "height": 161
        },
        "outputId": "aee54bea-6d60-4b71-edd1-883f9d65b16c",
        "id": "FnOwYn-G-rF4"
      },
      "execution_count": 138,
      "outputs": [
        {
          "output_type": "execute_result",
          "data": {
            "text/plain": [
              "                    Model  Acc. Tr  Acc. Tst  F1 Tr  F1 tst    CV\n",
              "0  HTG LogisticRegression       84        72     84      71  0.79\n",
              "1            HTG Dec Tree       85        76     85      75  0.80\n",
              "2         HTG RandForTree       87        88     87      87  0.84"
            ],
            "text/html": [
              "\n",
              "  <div id=\"df-4772070e-a692-4115-a933-a1c3f612f946\">\n",
              "    <div class=\"colab-df-container\">\n",
              "      <div>\n",
              "<style scoped>\n",
              "    .dataframe tbody tr th:only-of-type {\n",
              "        vertical-align: middle;\n",
              "    }\n",
              "\n",
              "    .dataframe tbody tr th {\n",
              "        vertical-align: top;\n",
              "    }\n",
              "\n",
              "    .dataframe thead th {\n",
              "        text-align: right;\n",
              "    }\n",
              "</style>\n",
              "<table border=\"1\" class=\"dataframe\">\n",
              "  <thead>\n",
              "    <tr style=\"text-align: right;\">\n",
              "      <th></th>\n",
              "      <th>Model</th>\n",
              "      <th>Acc. Tr</th>\n",
              "      <th>Acc. Tst</th>\n",
              "      <th>F1 Tr</th>\n",
              "      <th>F1 tst</th>\n",
              "      <th>CV</th>\n",
              "    </tr>\n",
              "  </thead>\n",
              "  <tbody>\n",
              "    <tr>\n",
              "      <th>0</th>\n",
              "      <td>HTG LogisticRegression</td>\n",
              "      <td>84</td>\n",
              "      <td>72</td>\n",
              "      <td>84</td>\n",
              "      <td>71</td>\n",
              "      <td>0.79</td>\n",
              "    </tr>\n",
              "    <tr>\n",
              "      <th>1</th>\n",
              "      <td>HTG Dec Tree</td>\n",
              "      <td>85</td>\n",
              "      <td>76</td>\n",
              "      <td>85</td>\n",
              "      <td>75</td>\n",
              "      <td>0.80</td>\n",
              "    </tr>\n",
              "    <tr>\n",
              "      <th>2</th>\n",
              "      <td>HTG RandForTree</td>\n",
              "      <td>87</td>\n",
              "      <td>88</td>\n",
              "      <td>87</td>\n",
              "      <td>87</td>\n",
              "      <td>0.84</td>\n",
              "    </tr>\n",
              "  </tbody>\n",
              "</table>\n",
              "</div>\n",
              "      <button class=\"colab-df-convert\" onclick=\"convertToInteractive('df-4772070e-a692-4115-a933-a1c3f612f946')\"\n",
              "              title=\"Convert this dataframe to an interactive table.\"\n",
              "              style=\"display:none;\">\n",
              "        \n",
              "  <svg xmlns=\"http://www.w3.org/2000/svg\" height=\"24px\"viewBox=\"0 0 24 24\"\n",
              "       width=\"24px\">\n",
              "    <path d=\"M0 0h24v24H0V0z\" fill=\"none\"/>\n",
              "    <path d=\"M18.56 5.44l.94 2.06.94-2.06 2.06-.94-2.06-.94-.94-2.06-.94 2.06-2.06.94zm-11 1L8.5 8.5l.94-2.06 2.06-.94-2.06-.94L8.5 2.5l-.94 2.06-2.06.94zm10 10l.94 2.06.94-2.06 2.06-.94-2.06-.94-.94-2.06-.94 2.06-2.06.94z\"/><path d=\"M17.41 7.96l-1.37-1.37c-.4-.4-.92-.59-1.43-.59-.52 0-1.04.2-1.43.59L10.3 9.45l-7.72 7.72c-.78.78-.78 2.05 0 2.83L4 21.41c.39.39.9.59 1.41.59.51 0 1.02-.2 1.41-.59l7.78-7.78 2.81-2.81c.8-.78.8-2.07 0-2.86zM5.41 20L4 18.59l7.72-7.72 1.47 1.35L5.41 20z\"/>\n",
              "  </svg>\n",
              "      </button>\n",
              "      \n",
              "  <style>\n",
              "    .colab-df-container {\n",
              "      display:flex;\n",
              "      flex-wrap:wrap;\n",
              "      gap: 12px;\n",
              "    }\n",
              "\n",
              "    .colab-df-convert {\n",
              "      background-color: #E8F0FE;\n",
              "      border: none;\n",
              "      border-radius: 50%;\n",
              "      cursor: pointer;\n",
              "      display: none;\n",
              "      fill: #1967D2;\n",
              "      height: 32px;\n",
              "      padding: 0 0 0 0;\n",
              "      width: 32px;\n",
              "    }\n",
              "\n",
              "    .colab-df-convert:hover {\n",
              "      background-color: #E2EBFA;\n",
              "      box-shadow: 0px 1px 2px rgba(60, 64, 67, 0.3), 0px 1px 3px 1px rgba(60, 64, 67, 0.15);\n",
              "      fill: #174EA6;\n",
              "    }\n",
              "\n",
              "    [theme=dark] .colab-df-convert {\n",
              "      background-color: #3B4455;\n",
              "      fill: #D2E3FC;\n",
              "    }\n",
              "\n",
              "    [theme=dark] .colab-df-convert:hover {\n",
              "      background-color: #434B5C;\n",
              "      box-shadow: 0px 1px 3px 1px rgba(0, 0, 0, 0.15);\n",
              "      filter: drop-shadow(0px 1px 2px rgba(0, 0, 0, 0.3));\n",
              "      fill: #FFFFFF;\n",
              "    }\n",
              "  </style>\n",
              "\n",
              "      <script>\n",
              "        const buttonEl =\n",
              "          document.querySelector('#df-4772070e-a692-4115-a933-a1c3f612f946 button.colab-df-convert');\n",
              "        buttonEl.style.display =\n",
              "          google.colab.kernel.accessAllowed ? 'block' : 'none';\n",
              "\n",
              "        async function convertToInteractive(key) {\n",
              "          const element = document.querySelector('#df-4772070e-a692-4115-a933-a1c3f612f946');\n",
              "          const dataTable =\n",
              "            await google.colab.kernel.invokeFunction('convertToInteractive',\n",
              "                                                     [key], {});\n",
              "          if (!dataTable) return;\n",
              "\n",
              "          const docLinkHtml = 'Like what you see? Visit the ' +\n",
              "            '<a target=\"_blank\" href=https://colab.research.google.com/notebooks/data_table.ipynb>data table notebook</a>'\n",
              "            + ' to learn more about interactive tables.';\n",
              "          element.innerHTML = '';\n",
              "          dataTable['output_type'] = 'display_data';\n",
              "          await google.colab.output.renderOutput(dataTable, element);\n",
              "          const docLink = document.createElement('div');\n",
              "          docLink.innerHTML = docLinkHtml;\n",
              "          element.appendChild(docLink);\n",
              "        }\n",
              "      </script>\n",
              "    </div>\n",
              "  </div>\n",
              "  "
            ]
          },
          "metadata": {},
          "execution_count": 138
        },
        {
          "output_type": "stream",
          "name": "stdout",
          "text": [
            "time: 1.56 s (started: 2023-02-04 07:41:48 +00:00)\n"
          ]
        }
      ]
    },
    {
      "cell_type": "markdown",
      "metadata": {
        "id": "U2RkmwAfK86U"
      },
      "source": [
        "\n",
        "<a name = Section94></a>\n",
        "### **9.4 Tuned K-Nearest Neighbour Model**\n",
        "\n",
        "- Tuning of Random Forest Tree using Grid Search CV and evaluate the metrics"
      ]
    },
    {
      "cell_type": "code",
      "source": [
        "param_grid_knn = {\n",
        "    'n_neighbors' : list(range(1,30)),\n",
        "     'weights' : ['uniform','distance'],\n",
        "     'metric' : ['minkowski','euclidean','manhattan']\n",
        "}"
      ],
      "metadata": {
        "id": "7RT0h4KP_pfY",
        "colab": {
          "base_uri": "https://localhost:8080/"
        },
        "outputId": "803ba55a-4818-42b4-db36-8ede86a45ea9"
      },
      "execution_count": 139,
      "outputs": [
        {
          "output_type": "stream",
          "name": "stdout",
          "text": [
            "time: 1.31 ms (started: 2023-02-04 07:41:49 +00:00)\n"
          ]
        }
      ]
    },
    {
      "cell_type": "code",
      "source": [
        "knn_cv=GridSearchCV(knn_clf,param_grid_knn,n_jobs=-1,cv=5)\n",
        "knn_cv.fit(X_train,y_train)\n",
        "best_params=knn_cv.best_params_\n",
        "print(f\"Best Params: {best_params}\")\n",
        "knn_cvg = KNeighborsClassifier(**best_params)\n",
        "\n",
        "knn_cvg.fit(X_train, y_train)\n",
        "\n",
        "#print_score(knn_clf, X_train, y_train, X_test, y_test, train=True)\n",
        "#print_score(knn_clf, X_train, y_train, X_test, y_test, train=False)"
      ],
      "metadata": {
        "colab": {
          "base_uri": "https://localhost:8080/"
        },
        "outputId": "1de078ee-8e51-4b29-9119-16f040cbef06",
        "id": "fJqqkG_R_pfZ"
      },
      "execution_count": 140,
      "outputs": [
        {
          "output_type": "stream",
          "name": "stdout",
          "text": [
            "Best Params: {'metric': 'manhattan', 'n_neighbors': 10, 'weights': 'uniform'}\n"
          ]
        },
        {
          "output_type": "execute_result",
          "data": {
            "text/plain": [
              "KNeighborsClassifier(metric='manhattan', n_neighbors=10)"
            ]
          },
          "metadata": {},
          "execution_count": 140
        },
        {
          "output_type": "stream",
          "name": "stdout",
          "text": [
            "time: 4.17 s (started: 2023-02-04 07:41:49 +00:00)\n"
          ]
        }
      ]
    },
    {
      "cell_type": "code",
      "source": [
        "test_score = (accuracy_score(y_test, knn_cvg.predict(X_test)) * 100).astype(int)\n",
        "train_score = (accuracy_score(y_train,knn_cvg.predict(X_train)) * 100).astype(int)\n",
        "test_f1 = (f1_score(y_test, knn_cvg.predict(X_test),average='weighted') * 100).astype(int)\n",
        "train_f1 = (f1_score(y_train, knn_cvg.predict(X_train),average='weighted') * 100).astype(int)\n",
        "scores = cross_val_score(knn_cvg, X, y, cv=10, scoring='accuracy')\n",
        "\n",
        "results_df2 = pd.DataFrame(data=[[\"HTG KNN\", train_score, test_score, train_f1, test_f1,\"%0.2f\" %scores.mean()]], \n",
        "                          columns=['Model', 'Acc. Tr', 'Acc. Tst','F1 Tr', 'F1 tst', 'CV'])\n",
        "\n",
        "results_dfg = results_dfg.append(results_df2, ignore_index=True)\n",
        "results_dfg\n"
      ],
      "metadata": {
        "colab": {
          "base_uri": "https://localhost:8080/",
          "height": 192
        },
        "outputId": "fce03258-75fa-4e6b-c39f-101ebae9d85f",
        "id": "jIuVkog8_pfb"
      },
      "execution_count": 141,
      "outputs": [
        {
          "output_type": "execute_result",
          "data": {
            "text/plain": [
              "                    Model  Acc. Tr  Acc. Tst  F1 Tr  F1 tst    CV\n",
              "0  HTG LogisticRegression       84        72     84      71  0.79\n",
              "1            HTG Dec Tree       85        76     85      75  0.80\n",
              "2         HTG RandForTree       87        88     87      87  0.84\n",
              "3                 HTG KNN       83        76     83      75  0.80"
            ],
            "text/html": [
              "\n",
              "  <div id=\"df-85faa273-78f7-47a1-9966-de97ee726e1c\">\n",
              "    <div class=\"colab-df-container\">\n",
              "      <div>\n",
              "<style scoped>\n",
              "    .dataframe tbody tr th:only-of-type {\n",
              "        vertical-align: middle;\n",
              "    }\n",
              "\n",
              "    .dataframe tbody tr th {\n",
              "        vertical-align: top;\n",
              "    }\n",
              "\n",
              "    .dataframe thead th {\n",
              "        text-align: right;\n",
              "    }\n",
              "</style>\n",
              "<table border=\"1\" class=\"dataframe\">\n",
              "  <thead>\n",
              "    <tr style=\"text-align: right;\">\n",
              "      <th></th>\n",
              "      <th>Model</th>\n",
              "      <th>Acc. Tr</th>\n",
              "      <th>Acc. Tst</th>\n",
              "      <th>F1 Tr</th>\n",
              "      <th>F1 tst</th>\n",
              "      <th>CV</th>\n",
              "    </tr>\n",
              "  </thead>\n",
              "  <tbody>\n",
              "    <tr>\n",
              "      <th>0</th>\n",
              "      <td>HTG LogisticRegression</td>\n",
              "      <td>84</td>\n",
              "      <td>72</td>\n",
              "      <td>84</td>\n",
              "      <td>71</td>\n",
              "      <td>0.79</td>\n",
              "    </tr>\n",
              "    <tr>\n",
              "      <th>1</th>\n",
              "      <td>HTG Dec Tree</td>\n",
              "      <td>85</td>\n",
              "      <td>76</td>\n",
              "      <td>85</td>\n",
              "      <td>75</td>\n",
              "      <td>0.80</td>\n",
              "    </tr>\n",
              "    <tr>\n",
              "      <th>2</th>\n",
              "      <td>HTG RandForTree</td>\n",
              "      <td>87</td>\n",
              "      <td>88</td>\n",
              "      <td>87</td>\n",
              "      <td>87</td>\n",
              "      <td>0.84</td>\n",
              "    </tr>\n",
              "    <tr>\n",
              "      <th>3</th>\n",
              "      <td>HTG KNN</td>\n",
              "      <td>83</td>\n",
              "      <td>76</td>\n",
              "      <td>83</td>\n",
              "      <td>75</td>\n",
              "      <td>0.80</td>\n",
              "    </tr>\n",
              "  </tbody>\n",
              "</table>\n",
              "</div>\n",
              "      <button class=\"colab-df-convert\" onclick=\"convertToInteractive('df-85faa273-78f7-47a1-9966-de97ee726e1c')\"\n",
              "              title=\"Convert this dataframe to an interactive table.\"\n",
              "              style=\"display:none;\">\n",
              "        \n",
              "  <svg xmlns=\"http://www.w3.org/2000/svg\" height=\"24px\"viewBox=\"0 0 24 24\"\n",
              "       width=\"24px\">\n",
              "    <path d=\"M0 0h24v24H0V0z\" fill=\"none\"/>\n",
              "    <path d=\"M18.56 5.44l.94 2.06.94-2.06 2.06-.94-2.06-.94-.94-2.06-.94 2.06-2.06.94zm-11 1L8.5 8.5l.94-2.06 2.06-.94-2.06-.94L8.5 2.5l-.94 2.06-2.06.94zm10 10l.94 2.06.94-2.06 2.06-.94-2.06-.94-.94-2.06-.94 2.06-2.06.94z\"/><path d=\"M17.41 7.96l-1.37-1.37c-.4-.4-.92-.59-1.43-.59-.52 0-1.04.2-1.43.59L10.3 9.45l-7.72 7.72c-.78.78-.78 2.05 0 2.83L4 21.41c.39.39.9.59 1.41.59.51 0 1.02-.2 1.41-.59l7.78-7.78 2.81-2.81c.8-.78.8-2.07 0-2.86zM5.41 20L4 18.59l7.72-7.72 1.47 1.35L5.41 20z\"/>\n",
              "  </svg>\n",
              "      </button>\n",
              "      \n",
              "  <style>\n",
              "    .colab-df-container {\n",
              "      display:flex;\n",
              "      flex-wrap:wrap;\n",
              "      gap: 12px;\n",
              "    }\n",
              "\n",
              "    .colab-df-convert {\n",
              "      background-color: #E8F0FE;\n",
              "      border: none;\n",
              "      border-radius: 50%;\n",
              "      cursor: pointer;\n",
              "      display: none;\n",
              "      fill: #1967D2;\n",
              "      height: 32px;\n",
              "      padding: 0 0 0 0;\n",
              "      width: 32px;\n",
              "    }\n",
              "\n",
              "    .colab-df-convert:hover {\n",
              "      background-color: #E2EBFA;\n",
              "      box-shadow: 0px 1px 2px rgba(60, 64, 67, 0.3), 0px 1px 3px 1px rgba(60, 64, 67, 0.15);\n",
              "      fill: #174EA6;\n",
              "    }\n",
              "\n",
              "    [theme=dark] .colab-df-convert {\n",
              "      background-color: #3B4455;\n",
              "      fill: #D2E3FC;\n",
              "    }\n",
              "\n",
              "    [theme=dark] .colab-df-convert:hover {\n",
              "      background-color: #434B5C;\n",
              "      box-shadow: 0px 1px 3px 1px rgba(0, 0, 0, 0.15);\n",
              "      filter: drop-shadow(0px 1px 2px rgba(0, 0, 0, 0.3));\n",
              "      fill: #FFFFFF;\n",
              "    }\n",
              "  </style>\n",
              "\n",
              "      <script>\n",
              "        const buttonEl =\n",
              "          document.querySelector('#df-85faa273-78f7-47a1-9966-de97ee726e1c button.colab-df-convert');\n",
              "        buttonEl.style.display =\n",
              "          google.colab.kernel.accessAllowed ? 'block' : 'none';\n",
              "\n",
              "        async function convertToInteractive(key) {\n",
              "          const element = document.querySelector('#df-85faa273-78f7-47a1-9966-de97ee726e1c');\n",
              "          const dataTable =\n",
              "            await google.colab.kernel.invokeFunction('convertToInteractive',\n",
              "                                                     [key], {});\n",
              "          if (!dataTable) return;\n",
              "\n",
              "          const docLinkHtml = 'Like what you see? Visit the ' +\n",
              "            '<a target=\"_blank\" href=https://colab.research.google.com/notebooks/data_table.ipynb>data table notebook</a>'\n",
              "            + ' to learn more about interactive tables.';\n",
              "          element.innerHTML = '';\n",
              "          dataTable['output_type'] = 'display_data';\n",
              "          await google.colab.output.renderOutput(dataTable, element);\n",
              "          const docLink = document.createElement('div');\n",
              "          docLink.innerHTML = docLinkHtml;\n",
              "          element.appendChild(docLink);\n",
              "        }\n",
              "      </script>\n",
              "    </div>\n",
              "  </div>\n",
              "  "
            ]
          },
          "metadata": {},
          "execution_count": 141
        },
        {
          "output_type": "stream",
          "name": "stdout",
          "text": [
            "time: 104 ms (started: 2023-02-04 07:41:54 +00:00)\n"
          ]
        }
      ]
    },
    {
      "cell_type": "markdown",
      "metadata": {
        "id": "NBXHashILKk5"
      },
      "source": [
        "\n",
        "<a name = Section95></a>\n",
        "### **9.5 Tuned ADA Boost Model**\n",
        "- Tuning of ADA Boost Model using Grid Search CV and evaluate the metrics"
      ]
    },
    {
      "cell_type": "code",
      "execution_count": 142,
      "metadata": {
        "id": "Y5IrBLNXmGMT",
        "colab": {
          "base_uri": "https://localhost:8080/"
        },
        "outputId": "1eaff1aa-56a1-4e55-91c2-cb5ea6230b07"
      },
      "outputs": [
        {
          "output_type": "stream",
          "name": "stdout",
          "text": [
            "time: 1.37 ms (started: 2023-02-04 07:41:54 +00:00)\n"
          ]
        }
      ],
      "source": [
        "param_grid_adb = {\n",
        "    'n_estimators' : [10, 50, 100, 500],\n",
        "    'learning_rate' : [0.0001, 0.001, 0.01, 0.1, 1.0]\n",
        "}"
      ]
    },
    {
      "cell_type": "code",
      "execution_count": 143,
      "metadata": {
        "colab": {
          "base_uri": "https://localhost:8080/"
        },
        "outputId": "32da917c-fa8e-40dd-bf03-d731f4473fab",
        "id": "zESGfZOdjW1g"
      },
      "outputs": [
        {
          "output_type": "stream",
          "name": "stdout",
          "text": [
            "Best Params: {'learning_rate': 0.01, 'n_estimators': 500}\n"
          ]
        },
        {
          "output_type": "execute_result",
          "data": {
            "text/plain": [
              "AdaBoostClassifier(learning_rate=0.01, n_estimators=500)"
            ]
          },
          "metadata": {},
          "execution_count": 143
        },
        {
          "output_type": "stream",
          "name": "stdout",
          "text": [
            "time: 23.9 s (started: 2023-02-04 07:41:54 +00:00)\n"
          ]
        }
      ],
      "source": [
        "adb_gcv=GridSearchCV(adb_clf,param_grid_adb,n_jobs=-1,cv=5)\n",
        "adb_gcv.fit(X_train,y_train)\n",
        "best_params=adb_gcv.best_params_\n",
        "print(f\"Best Params: {best_params}\")\n",
        "adb_gcv = AdaBoostClassifier(**best_params)\n",
        "\n",
        "adb_gcv.fit(X_train, y_train)\n"
      ]
    },
    {
      "cell_type": "code",
      "execution_count": 144,
      "metadata": {
        "colab": {
          "base_uri": "https://localhost:8080/",
          "height": 224
        },
        "outputId": "203200d9-8dc5-49cb-8012-c70acd546ae2",
        "id": "XqKe7pbWjW1h"
      },
      "outputs": [
        {
          "output_type": "execute_result",
          "data": {
            "text/plain": [
              "                    Model  Acc. Tr  Acc. Tst  F1 Tr  F1 tst    CV\n",
              "0  HTG LogisticRegression       84        72     84      71  0.79\n",
              "1            HTG Dec Tree       85        76     85      75  0.80\n",
              "2         HTG RandForTree       87        88     87      87  0.84\n",
              "3                 HTG KNN       83        76     83      75  0.80\n",
              "4                 HTG ADB       86        88     86      87  0.84"
            ],
            "text/html": [
              "\n",
              "  <div id=\"df-a7cbe717-8d3a-4fbf-9c39-8e87ede79922\">\n",
              "    <div class=\"colab-df-container\">\n",
              "      <div>\n",
              "<style scoped>\n",
              "    .dataframe tbody tr th:only-of-type {\n",
              "        vertical-align: middle;\n",
              "    }\n",
              "\n",
              "    .dataframe tbody tr th {\n",
              "        vertical-align: top;\n",
              "    }\n",
              "\n",
              "    .dataframe thead th {\n",
              "        text-align: right;\n",
              "    }\n",
              "</style>\n",
              "<table border=\"1\" class=\"dataframe\">\n",
              "  <thead>\n",
              "    <tr style=\"text-align: right;\">\n",
              "      <th></th>\n",
              "      <th>Model</th>\n",
              "      <th>Acc. Tr</th>\n",
              "      <th>Acc. Tst</th>\n",
              "      <th>F1 Tr</th>\n",
              "      <th>F1 tst</th>\n",
              "      <th>CV</th>\n",
              "    </tr>\n",
              "  </thead>\n",
              "  <tbody>\n",
              "    <tr>\n",
              "      <th>0</th>\n",
              "      <td>HTG LogisticRegression</td>\n",
              "      <td>84</td>\n",
              "      <td>72</td>\n",
              "      <td>84</td>\n",
              "      <td>71</td>\n",
              "      <td>0.79</td>\n",
              "    </tr>\n",
              "    <tr>\n",
              "      <th>1</th>\n",
              "      <td>HTG Dec Tree</td>\n",
              "      <td>85</td>\n",
              "      <td>76</td>\n",
              "      <td>85</td>\n",
              "      <td>75</td>\n",
              "      <td>0.80</td>\n",
              "    </tr>\n",
              "    <tr>\n",
              "      <th>2</th>\n",
              "      <td>HTG RandForTree</td>\n",
              "      <td>87</td>\n",
              "      <td>88</td>\n",
              "      <td>87</td>\n",
              "      <td>87</td>\n",
              "      <td>0.84</td>\n",
              "    </tr>\n",
              "    <tr>\n",
              "      <th>3</th>\n",
              "      <td>HTG KNN</td>\n",
              "      <td>83</td>\n",
              "      <td>76</td>\n",
              "      <td>83</td>\n",
              "      <td>75</td>\n",
              "      <td>0.80</td>\n",
              "    </tr>\n",
              "    <tr>\n",
              "      <th>4</th>\n",
              "      <td>HTG ADB</td>\n",
              "      <td>86</td>\n",
              "      <td>88</td>\n",
              "      <td>86</td>\n",
              "      <td>87</td>\n",
              "      <td>0.84</td>\n",
              "    </tr>\n",
              "  </tbody>\n",
              "</table>\n",
              "</div>\n",
              "      <button class=\"colab-df-convert\" onclick=\"convertToInteractive('df-a7cbe717-8d3a-4fbf-9c39-8e87ede79922')\"\n",
              "              title=\"Convert this dataframe to an interactive table.\"\n",
              "              style=\"display:none;\">\n",
              "        \n",
              "  <svg xmlns=\"http://www.w3.org/2000/svg\" height=\"24px\"viewBox=\"0 0 24 24\"\n",
              "       width=\"24px\">\n",
              "    <path d=\"M0 0h24v24H0V0z\" fill=\"none\"/>\n",
              "    <path d=\"M18.56 5.44l.94 2.06.94-2.06 2.06-.94-2.06-.94-.94-2.06-.94 2.06-2.06.94zm-11 1L8.5 8.5l.94-2.06 2.06-.94-2.06-.94L8.5 2.5l-.94 2.06-2.06.94zm10 10l.94 2.06.94-2.06 2.06-.94-2.06-.94-.94-2.06-.94 2.06-2.06.94z\"/><path d=\"M17.41 7.96l-1.37-1.37c-.4-.4-.92-.59-1.43-.59-.52 0-1.04.2-1.43.59L10.3 9.45l-7.72 7.72c-.78.78-.78 2.05 0 2.83L4 21.41c.39.39.9.59 1.41.59.51 0 1.02-.2 1.41-.59l7.78-7.78 2.81-2.81c.8-.78.8-2.07 0-2.86zM5.41 20L4 18.59l7.72-7.72 1.47 1.35L5.41 20z\"/>\n",
              "  </svg>\n",
              "      </button>\n",
              "      \n",
              "  <style>\n",
              "    .colab-df-container {\n",
              "      display:flex;\n",
              "      flex-wrap:wrap;\n",
              "      gap: 12px;\n",
              "    }\n",
              "\n",
              "    .colab-df-convert {\n",
              "      background-color: #E8F0FE;\n",
              "      border: none;\n",
              "      border-radius: 50%;\n",
              "      cursor: pointer;\n",
              "      display: none;\n",
              "      fill: #1967D2;\n",
              "      height: 32px;\n",
              "      padding: 0 0 0 0;\n",
              "      width: 32px;\n",
              "    }\n",
              "\n",
              "    .colab-df-convert:hover {\n",
              "      background-color: #E2EBFA;\n",
              "      box-shadow: 0px 1px 2px rgba(60, 64, 67, 0.3), 0px 1px 3px 1px rgba(60, 64, 67, 0.15);\n",
              "      fill: #174EA6;\n",
              "    }\n",
              "\n",
              "    [theme=dark] .colab-df-convert {\n",
              "      background-color: #3B4455;\n",
              "      fill: #D2E3FC;\n",
              "    }\n",
              "\n",
              "    [theme=dark] .colab-df-convert:hover {\n",
              "      background-color: #434B5C;\n",
              "      box-shadow: 0px 1px 3px 1px rgba(0, 0, 0, 0.15);\n",
              "      filter: drop-shadow(0px 1px 2px rgba(0, 0, 0, 0.3));\n",
              "      fill: #FFFFFF;\n",
              "    }\n",
              "  </style>\n",
              "\n",
              "      <script>\n",
              "        const buttonEl =\n",
              "          document.querySelector('#df-a7cbe717-8d3a-4fbf-9c39-8e87ede79922 button.colab-df-convert');\n",
              "        buttonEl.style.display =\n",
              "          google.colab.kernel.accessAllowed ? 'block' : 'none';\n",
              "\n",
              "        async function convertToInteractive(key) {\n",
              "          const element = document.querySelector('#df-a7cbe717-8d3a-4fbf-9c39-8e87ede79922');\n",
              "          const dataTable =\n",
              "            await google.colab.kernel.invokeFunction('convertToInteractive',\n",
              "                                                     [key], {});\n",
              "          if (!dataTable) return;\n",
              "\n",
              "          const docLinkHtml = 'Like what you see? Visit the ' +\n",
              "            '<a target=\"_blank\" href=https://colab.research.google.com/notebooks/data_table.ipynb>data table notebook</a>'\n",
              "            + ' to learn more about interactive tables.';\n",
              "          element.innerHTML = '';\n",
              "          dataTable['output_type'] = 'display_data';\n",
              "          await google.colab.output.renderOutput(dataTable, element);\n",
              "          const docLink = document.createElement('div');\n",
              "          docLink.innerHTML = docLinkHtml;\n",
              "          element.appendChild(docLink);\n",
              "        }\n",
              "      </script>\n",
              "    </div>\n",
              "  </div>\n",
              "  "
            ]
          },
          "metadata": {},
          "execution_count": 144
        },
        {
          "output_type": "stream",
          "name": "stdout",
          "text": [
            "time: 8.6 s (started: 2023-02-04 07:42:18 +00:00)\n"
          ]
        }
      ],
      "source": [
        "test_score = (accuracy_score(y_test, adb_gcv.predict(X_test)) * 100).astype(int)\n",
        "train_score = (accuracy_score(y_train, adb_gcv.predict(X_train)) * 100).astype(int)\n",
        "test_f1 = (f1_score(y_test, adb_gcv.predict(X_test),average='weighted') * 100).astype(int)\n",
        "train_f1 = (f1_score(y_train, adb_gcv.predict(X_train),average='weighted') * 100).astype(int)\n",
        "scores = cross_val_score(adb_gcv, X, y, cv=10, scoring='accuracy')\n",
        "\n",
        "\n",
        "results_df2 = pd.DataFrame(data=[[\"HTG ADB\", train_score, test_score, train_f1, test_f1,\"%0.2f\" %scores.mean()]], \n",
        "                          columns=['Model', 'Acc. Tr', 'Acc. Tst','F1 Tr', 'F1 tst', 'CV'])\n",
        "\n",
        "results_dfg = results_dfg.append(results_df2, ignore_index=True)\n",
        "results_dfg"
      ]
    },
    {
      "cell_type": "markdown",
      "metadata": {
        "id": "XHwUL4j_Ly5h"
      },
      "source": [
        "\n",
        "<a name = Section96></a>\n",
        "### **9.6 Tuned XG Boost Model**\n",
        "- Tuning of XB Boost Model using Grid Search CV and evaluate the metrics"
      ]
    },
    {
      "cell_type": "code",
      "execution_count": 145,
      "metadata": {
        "id": "ijn44iaggSjt",
        "colab": {
          "base_uri": "https://localhost:8080/"
        },
        "outputId": "a632bbdd-8335-4ba3-edf0-90642d7f510c"
      },
      "outputs": [
        {
          "output_type": "stream",
          "name": "stdout",
          "text": [
            "time: 1.14 ms (started: 2023-02-04 07:42:26 +00:00)\n"
          ]
        }
      ],
      "source": [
        "param_grid_xgb = {\n",
        "    'max_depth': range (2, 10, 1),\n",
        "    'n_estimators': range(60, 220, 40),\n",
        "    'learning_rate': [0.1, 0.01, 0.05]\n",
        "}"
      ]
    },
    {
      "cell_type": "code",
      "execution_count": 146,
      "metadata": {
        "colab": {
          "base_uri": "https://localhost:8080/"
        },
        "outputId": "047d3821-5931-41f5-944f-e1a847899c04",
        "id": "xLgV08U-jW1k"
      },
      "outputs": [
        {
          "output_type": "stream",
          "name": "stdout",
          "text": [
            "Best paramters: {'learning_rate': 0.05, 'max_depth': 2, 'n_estimators': 180}\n"
          ]
        },
        {
          "output_type": "execute_result",
          "data": {
            "text/plain": [
              "XGBClassifier(learning_rate=0.05, max_depth=2, n_estimators=180)"
            ]
          },
          "metadata": {},
          "execution_count": 146
        },
        {
          "output_type": "stream",
          "name": "stdout",
          "text": [
            "time: 15.9 s (started: 2023-02-04 07:42:26 +00:00)\n"
          ]
        }
      ],
      "source": [
        "xgb_gcv = GridSearchCV(xgb_clf,param_grid_xgb,scoring='accuracy',n_jobs=-1,cv=5)\n",
        "xgb_gcv.fit(X_train, y_train)\n",
        "best_params = xgb_gcv.best_params_\n",
        "print(f\"Best paramters: {best_params}\")\n",
        "\n",
        "xgb_gcv = XGBClassifier(**best_params)\n",
        "xgb_gcv.fit(X_train, y_train)\n",
        "\n"
      ]
    },
    {
      "cell_type": "code",
      "execution_count": 147,
      "metadata": {
        "colab": {
          "base_uri": "https://localhost:8080/",
          "height": 255
        },
        "outputId": "a3bfe3b0-abb3-49d7-9fd2-268f85bfb145",
        "id": "Mdvw223IjW1l"
      },
      "outputs": [
        {
          "output_type": "execute_result",
          "data": {
            "text/plain": [
              "                    Model  Acc. Tr  Acc. Tst  F1 Tr  F1 tst    CV\n",
              "0  HTG LogisticRegression       84        72     84      71  0.79\n",
              "1            HTG Dec Tree       85        76     85      75  0.80\n",
              "2         HTG RandForTree       87        88     87      87  0.84\n",
              "3                 HTG KNN       83        76     83      75  0.80\n",
              "4                 HTG ADB       86        88     86      87  0.84\n",
              "5                 HTG XGB       88        88     87      88  0.83"
            ],
            "text/html": [
              "\n",
              "  <div id=\"df-e27782ea-df76-4b66-8ed7-17988209c539\">\n",
              "    <div class=\"colab-df-container\">\n",
              "      <div>\n",
              "<style scoped>\n",
              "    .dataframe tbody tr th:only-of-type {\n",
              "        vertical-align: middle;\n",
              "    }\n",
              "\n",
              "    .dataframe tbody tr th {\n",
              "        vertical-align: top;\n",
              "    }\n",
              "\n",
              "    .dataframe thead th {\n",
              "        text-align: right;\n",
              "    }\n",
              "</style>\n",
              "<table border=\"1\" class=\"dataframe\">\n",
              "  <thead>\n",
              "    <tr style=\"text-align: right;\">\n",
              "      <th></th>\n",
              "      <th>Model</th>\n",
              "      <th>Acc. Tr</th>\n",
              "      <th>Acc. Tst</th>\n",
              "      <th>F1 Tr</th>\n",
              "      <th>F1 tst</th>\n",
              "      <th>CV</th>\n",
              "    </tr>\n",
              "  </thead>\n",
              "  <tbody>\n",
              "    <tr>\n",
              "      <th>0</th>\n",
              "      <td>HTG LogisticRegression</td>\n",
              "      <td>84</td>\n",
              "      <td>72</td>\n",
              "      <td>84</td>\n",
              "      <td>71</td>\n",
              "      <td>0.79</td>\n",
              "    </tr>\n",
              "    <tr>\n",
              "      <th>1</th>\n",
              "      <td>HTG Dec Tree</td>\n",
              "      <td>85</td>\n",
              "      <td>76</td>\n",
              "      <td>85</td>\n",
              "      <td>75</td>\n",
              "      <td>0.80</td>\n",
              "    </tr>\n",
              "    <tr>\n",
              "      <th>2</th>\n",
              "      <td>HTG RandForTree</td>\n",
              "      <td>87</td>\n",
              "      <td>88</td>\n",
              "      <td>87</td>\n",
              "      <td>87</td>\n",
              "      <td>0.84</td>\n",
              "    </tr>\n",
              "    <tr>\n",
              "      <th>3</th>\n",
              "      <td>HTG KNN</td>\n",
              "      <td>83</td>\n",
              "      <td>76</td>\n",
              "      <td>83</td>\n",
              "      <td>75</td>\n",
              "      <td>0.80</td>\n",
              "    </tr>\n",
              "    <tr>\n",
              "      <th>4</th>\n",
              "      <td>HTG ADB</td>\n",
              "      <td>86</td>\n",
              "      <td>88</td>\n",
              "      <td>86</td>\n",
              "      <td>87</td>\n",
              "      <td>0.84</td>\n",
              "    </tr>\n",
              "    <tr>\n",
              "      <th>5</th>\n",
              "      <td>HTG XGB</td>\n",
              "      <td>88</td>\n",
              "      <td>88</td>\n",
              "      <td>87</td>\n",
              "      <td>88</td>\n",
              "      <td>0.83</td>\n",
              "    </tr>\n",
              "  </tbody>\n",
              "</table>\n",
              "</div>\n",
              "      <button class=\"colab-df-convert\" onclick=\"convertToInteractive('df-e27782ea-df76-4b66-8ed7-17988209c539')\"\n",
              "              title=\"Convert this dataframe to an interactive table.\"\n",
              "              style=\"display:none;\">\n",
              "        \n",
              "  <svg xmlns=\"http://www.w3.org/2000/svg\" height=\"24px\"viewBox=\"0 0 24 24\"\n",
              "       width=\"24px\">\n",
              "    <path d=\"M0 0h24v24H0V0z\" fill=\"none\"/>\n",
              "    <path d=\"M18.56 5.44l.94 2.06.94-2.06 2.06-.94-2.06-.94-.94-2.06-.94 2.06-2.06.94zm-11 1L8.5 8.5l.94-2.06 2.06-.94-2.06-.94L8.5 2.5l-.94 2.06-2.06.94zm10 10l.94 2.06.94-2.06 2.06-.94-2.06-.94-.94-2.06-.94 2.06-2.06.94z\"/><path d=\"M17.41 7.96l-1.37-1.37c-.4-.4-.92-.59-1.43-.59-.52 0-1.04.2-1.43.59L10.3 9.45l-7.72 7.72c-.78.78-.78 2.05 0 2.83L4 21.41c.39.39.9.59 1.41.59.51 0 1.02-.2 1.41-.59l7.78-7.78 2.81-2.81c.8-.78.8-2.07 0-2.86zM5.41 20L4 18.59l7.72-7.72 1.47 1.35L5.41 20z\"/>\n",
              "  </svg>\n",
              "      </button>\n",
              "      \n",
              "  <style>\n",
              "    .colab-df-container {\n",
              "      display:flex;\n",
              "      flex-wrap:wrap;\n",
              "      gap: 12px;\n",
              "    }\n",
              "\n",
              "    .colab-df-convert {\n",
              "      background-color: #E8F0FE;\n",
              "      border: none;\n",
              "      border-radius: 50%;\n",
              "      cursor: pointer;\n",
              "      display: none;\n",
              "      fill: #1967D2;\n",
              "      height: 32px;\n",
              "      padding: 0 0 0 0;\n",
              "      width: 32px;\n",
              "    }\n",
              "\n",
              "    .colab-df-convert:hover {\n",
              "      background-color: #E2EBFA;\n",
              "      box-shadow: 0px 1px 2px rgba(60, 64, 67, 0.3), 0px 1px 3px 1px rgba(60, 64, 67, 0.15);\n",
              "      fill: #174EA6;\n",
              "    }\n",
              "\n",
              "    [theme=dark] .colab-df-convert {\n",
              "      background-color: #3B4455;\n",
              "      fill: #D2E3FC;\n",
              "    }\n",
              "\n",
              "    [theme=dark] .colab-df-convert:hover {\n",
              "      background-color: #434B5C;\n",
              "      box-shadow: 0px 1px 3px 1px rgba(0, 0, 0, 0.15);\n",
              "      filter: drop-shadow(0px 1px 2px rgba(0, 0, 0, 0.3));\n",
              "      fill: #FFFFFF;\n",
              "    }\n",
              "  </style>\n",
              "\n",
              "      <script>\n",
              "        const buttonEl =\n",
              "          document.querySelector('#df-e27782ea-df76-4b66-8ed7-17988209c539 button.colab-df-convert');\n",
              "        buttonEl.style.display =\n",
              "          google.colab.kernel.accessAllowed ? 'block' : 'none';\n",
              "\n",
              "        async function convertToInteractive(key) {\n",
              "          const element = document.querySelector('#df-e27782ea-df76-4b66-8ed7-17988209c539');\n",
              "          const dataTable =\n",
              "            await google.colab.kernel.invokeFunction('convertToInteractive',\n",
              "                                                     [key], {});\n",
              "          if (!dataTable) return;\n",
              "\n",
              "          const docLinkHtml = 'Like what you see? Visit the ' +\n",
              "            '<a target=\"_blank\" href=https://colab.research.google.com/notebooks/data_table.ipynb>data table notebook</a>'\n",
              "            + ' to learn more about interactive tables.';\n",
              "          element.innerHTML = '';\n",
              "          dataTable['output_type'] = 'display_data';\n",
              "          await google.colab.output.renderOutput(dataTable, element);\n",
              "          const docLink = document.createElement('div');\n",
              "          docLink.innerHTML = docLinkHtml;\n",
              "          element.appendChild(docLink);\n",
              "        }\n",
              "      </script>\n",
              "    </div>\n",
              "  </div>\n",
              "  "
            ]
          },
          "metadata": {},
          "execution_count": 147
        },
        {
          "output_type": "stream",
          "name": "stdout",
          "text": [
            "time: 403 ms (started: 2023-02-04 07:42:42 +00:00)\n"
          ]
        }
      ],
      "source": [
        "test_score = (accuracy_score(y_test, xgb_gcv.predict(X_test)) * 100).astype(int)\n",
        "train_score = (accuracy_score(y_train,xgb_gcv.predict(X_train)) * 100).astype(int)\n",
        "test_f1 = (f1_score(y_test, xgb_gcv.predict(X_test),average='weighted') * 100).astype(int)\n",
        "train_f1 = (f1_score(y_train, xgb_gcv.predict(X_train),average='weighted') * 100).astype(int)\n",
        "scores = cross_val_score(xgb_gcv, X, y, cv=10, scoring='accuracy')\n",
        "\n",
        "\n",
        "results_df2 = pd.DataFrame(data=[[\"HTG XGB\", train_score, test_score, train_f1, test_f1,\"%0.2f\" %scores.mean()]], \n",
        "                          columns=['Model', 'Acc. Tr', 'Acc. Tst','F1 Tr', 'F1 tst', 'CV'])\n",
        "\n",
        "results_dfg = results_dfg.append(results_df2, ignore_index=True)\n",
        "results_dfg"
      ]
    },
    {
      "cell_type": "markdown",
      "metadata": {
        "id": "T4YYfTjrMLSe"
      },
      "source": [
        "[*Go Back to Index*](#Section0)<br>"
      ]
    },
    {
      "cell_type": "markdown",
      "metadata": {
        "id": "8l14BVvkO0Sw"
      },
      "source": [
        "<a name = Section10></a>\n",
        "\n",
        "---\n",
        "# **10. Hyper Parameter Tuning of Model & Evaluation with RandomizedSCV**\n",
        "---\n",
        "\n",
        "\n",
        "\n",
        "\n",
        "\n"
      ]
    },
    {
      "cell_type": "markdown",
      "metadata": {
        "id": "r0utVZ5FQaqU"
      },
      "source": [
        "\n",
        "<a name = Section101></a>\n",
        "### **10.1 Tuned Logistic Regression Model with Randomized Search CV**\n",
        "\n"
      ]
    },
    {
      "cell_type": "code",
      "execution_count": 148,
      "metadata": {
        "id": "zz5kzbODO0Sx",
        "colab": {
          "base_uri": "https://localhost:8080/"
        },
        "outputId": "47d35bbe-f12c-4be0-9ce0-5a8bd7abfd04"
      },
      "outputs": [
        {
          "output_type": "stream",
          "name": "stdout",
          "text": [
            "time: 745 µs (started: 2023-02-04 07:42:43 +00:00)\n"
          ]
        }
      ],
      "source": [
        "from sklearn.model_selection import RandomizedSearchCV"
      ]
    },
    {
      "cell_type": "code",
      "execution_count": 149,
      "metadata": {
        "colab": {
          "base_uri": "https://localhost:8080/"
        },
        "outputId": "b35e3ee5-8f36-4c18-cc18-40eb06eb3623",
        "id": "Qsevkdi1O0Sz"
      },
      "outputs": [
        {
          "output_type": "stream",
          "name": "stdout",
          "text": [
            "Best Params: {'solver': 'liblinear', 'C': 0.08858667904100823}\n"
          ]
        },
        {
          "output_type": "execute_result",
          "data": {
            "text/plain": [
              "LogisticRegression(C=0.08858667904100823, solver='liblinear')"
            ]
          },
          "metadata": {},
          "execution_count": 149
        },
        {
          "output_type": "stream",
          "name": "stdout",
          "text": [
            "time: 288 ms (started: 2023-02-04 07:42:43 +00:00)\n"
          ]
        }
      ],
      "source": [
        "lr_rcv=RandomizedSearchCV(lr_clf,param_grid_lr,n_jobs=-1,cv=5)\n",
        "lr_rcv.fit(X_train,y_train)\n",
        "best_params=lr_rcv.best_params_\n",
        "print(f\"Best Params: {best_params}\")\n",
        "lr_rcv = LogisticRegression(**best_params)\n",
        "\n",
        "lr_rcv.fit(X_train, y_train)\n",
        "\n"
      ]
    },
    {
      "cell_type": "code",
      "execution_count": 150,
      "metadata": {
        "colab": {
          "base_uri": "https://localhost:8080/",
          "height": 98
        },
        "outputId": "d1ae4ed6-2ccb-4cd1-98aa-341fac092493",
        "id": "mW7mvkfyO0S1"
      },
      "outputs": [
        {
          "output_type": "execute_result",
          "data": {
            "text/plain": [
              "    Model  Tr Acc.  Tst Acc.  Tr F1  Tst F1 Cross_Val\n",
              "0  RHT LR       84        72     84      71      0.79"
            ],
            "text/html": [
              "\n",
              "  <div id=\"df-fd055714-8da0-4e94-b603-ff851b52cc71\">\n",
              "    <div class=\"colab-df-container\">\n",
              "      <div>\n",
              "<style scoped>\n",
              "    .dataframe tbody tr th:only-of-type {\n",
              "        vertical-align: middle;\n",
              "    }\n",
              "\n",
              "    .dataframe tbody tr th {\n",
              "        vertical-align: top;\n",
              "    }\n",
              "\n",
              "    .dataframe thead th {\n",
              "        text-align: right;\n",
              "    }\n",
              "</style>\n",
              "<table border=\"1\" class=\"dataframe\">\n",
              "  <thead>\n",
              "    <tr style=\"text-align: right;\">\n",
              "      <th></th>\n",
              "      <th>Model</th>\n",
              "      <th>Tr Acc.</th>\n",
              "      <th>Tst Acc.</th>\n",
              "      <th>Tr F1</th>\n",
              "      <th>Tst F1</th>\n",
              "      <th>Cross_Val</th>\n",
              "    </tr>\n",
              "  </thead>\n",
              "  <tbody>\n",
              "    <tr>\n",
              "      <th>0</th>\n",
              "      <td>RHT LR</td>\n",
              "      <td>84</td>\n",
              "      <td>72</td>\n",
              "      <td>84</td>\n",
              "      <td>71</td>\n",
              "      <td>0.79</td>\n",
              "    </tr>\n",
              "  </tbody>\n",
              "</table>\n",
              "</div>\n",
              "      <button class=\"colab-df-convert\" onclick=\"convertToInteractive('df-fd055714-8da0-4e94-b603-ff851b52cc71')\"\n",
              "              title=\"Convert this dataframe to an interactive table.\"\n",
              "              style=\"display:none;\">\n",
              "        \n",
              "  <svg xmlns=\"http://www.w3.org/2000/svg\" height=\"24px\"viewBox=\"0 0 24 24\"\n",
              "       width=\"24px\">\n",
              "    <path d=\"M0 0h24v24H0V0z\" fill=\"none\"/>\n",
              "    <path d=\"M18.56 5.44l.94 2.06.94-2.06 2.06-.94-2.06-.94-.94-2.06-.94 2.06-2.06.94zm-11 1L8.5 8.5l.94-2.06 2.06-.94-2.06-.94L8.5 2.5l-.94 2.06-2.06.94zm10 10l.94 2.06.94-2.06 2.06-.94-2.06-.94-.94-2.06-.94 2.06-2.06.94z\"/><path d=\"M17.41 7.96l-1.37-1.37c-.4-.4-.92-.59-1.43-.59-.52 0-1.04.2-1.43.59L10.3 9.45l-7.72 7.72c-.78.78-.78 2.05 0 2.83L4 21.41c.39.39.9.59 1.41.59.51 0 1.02-.2 1.41-.59l7.78-7.78 2.81-2.81c.8-.78.8-2.07 0-2.86zM5.41 20L4 18.59l7.72-7.72 1.47 1.35L5.41 20z\"/>\n",
              "  </svg>\n",
              "      </button>\n",
              "      \n",
              "  <style>\n",
              "    .colab-df-container {\n",
              "      display:flex;\n",
              "      flex-wrap:wrap;\n",
              "      gap: 12px;\n",
              "    }\n",
              "\n",
              "    .colab-df-convert {\n",
              "      background-color: #E8F0FE;\n",
              "      border: none;\n",
              "      border-radius: 50%;\n",
              "      cursor: pointer;\n",
              "      display: none;\n",
              "      fill: #1967D2;\n",
              "      height: 32px;\n",
              "      padding: 0 0 0 0;\n",
              "      width: 32px;\n",
              "    }\n",
              "\n",
              "    .colab-df-convert:hover {\n",
              "      background-color: #E2EBFA;\n",
              "      box-shadow: 0px 1px 2px rgba(60, 64, 67, 0.3), 0px 1px 3px 1px rgba(60, 64, 67, 0.15);\n",
              "      fill: #174EA6;\n",
              "    }\n",
              "\n",
              "    [theme=dark] .colab-df-convert {\n",
              "      background-color: #3B4455;\n",
              "      fill: #D2E3FC;\n",
              "    }\n",
              "\n",
              "    [theme=dark] .colab-df-convert:hover {\n",
              "      background-color: #434B5C;\n",
              "      box-shadow: 0px 1px 3px 1px rgba(0, 0, 0, 0.15);\n",
              "      filter: drop-shadow(0px 1px 2px rgba(0, 0, 0, 0.3));\n",
              "      fill: #FFFFFF;\n",
              "    }\n",
              "  </style>\n",
              "\n",
              "      <script>\n",
              "        const buttonEl =\n",
              "          document.querySelector('#df-fd055714-8da0-4e94-b603-ff851b52cc71 button.colab-df-convert');\n",
              "        buttonEl.style.display =\n",
              "          google.colab.kernel.accessAllowed ? 'block' : 'none';\n",
              "\n",
              "        async function convertToInteractive(key) {\n",
              "          const element = document.querySelector('#df-fd055714-8da0-4e94-b603-ff851b52cc71');\n",
              "          const dataTable =\n",
              "            await google.colab.kernel.invokeFunction('convertToInteractive',\n",
              "                                                     [key], {});\n",
              "          if (!dataTable) return;\n",
              "\n",
              "          const docLinkHtml = 'Like what you see? Visit the ' +\n",
              "            '<a target=\"_blank\" href=https://colab.research.google.com/notebooks/data_table.ipynb>data table notebook</a>'\n",
              "            + ' to learn more about interactive tables.';\n",
              "          element.innerHTML = '';\n",
              "          dataTable['output_type'] = 'display_data';\n",
              "          await google.colab.output.renderOutput(dataTable, element);\n",
              "          const docLink = document.createElement('div');\n",
              "          docLink.innerHTML = docLinkHtml;\n",
              "          element.appendChild(docLink);\n",
              "        }\n",
              "      </script>\n",
              "    </div>\n",
              "  </div>\n",
              "  "
            ]
          },
          "metadata": {},
          "execution_count": 150
        },
        {
          "output_type": "stream",
          "name": "stdout",
          "text": [
            "time: 70.2 ms (started: 2023-02-04 07:42:43 +00:00)\n"
          ]
        }
      ],
      "source": [
        "test_score = (accuracy_score(y_test, lr_rcv.predict(X_test)) * 100).astype(int)\n",
        "train_score = (accuracy_score(y_train, lr_rcv.predict(X_train)) * 100).astype(int)\n",
        "test_f1 = (f1_score(y_test, lr_rcv.predict(X_test),average='weighted') * 100).astype(int)\n",
        "train_f1 = (f1_score(y_train, lr_rcv.predict(X_train),average='weighted') * 100).astype(int)\n",
        "scores = cross_val_score(lr_rcv, X, y, cv=10, scoring='accuracy')\n",
        "\n",
        "results_dfr = pd.DataFrame(data=[[\"RHT LR\", train_score, test_score, train_f1, test_f1,\"%0.2f\" %scores.mean()]], \n",
        "                          columns=['Model', 'Tr Acc.', 'Tst Acc.','Tr F1','Tst F1','Cross_Val'])\n",
        "results_dfr"
      ]
    },
    {
      "cell_type": "markdown",
      "metadata": {
        "id": "yRq3VME-O0S2"
      },
      "source": [
        "\n",
        "<a name = Section102></a>\n",
        "### **10.2 Tuned Decision Tree Model with Randomized Searc CV**\n",
        "\n"
      ]
    },
    {
      "cell_type": "code",
      "execution_count": 151,
      "metadata": {
        "id": "MopvX_VsO0S3",
        "colab": {
          "base_uri": "https://localhost:8080/"
        },
        "outputId": "45e47e4d-3296-44a2-88dc-76d95a5eb84c"
      },
      "outputs": [
        {
          "output_type": "stream",
          "name": "stdout",
          "text": [
            "time: 886 µs (started: 2023-02-04 07:42:43 +00:00)\n"
          ]
        }
      ],
      "source": [
        "param_grid_dectree = {\"criterion\":(\"gini\", \"entropy\"),  \n",
        "          \"max_depth\":[2, 3, 5, 10, 20], \n",
        "          \"min_samples_split\":[2, 3, 4, 6], \n",
        "          \"min_samples_leaf\":list(range(1, 20))\n",
        "          }"
      ]
    },
    {
      "cell_type": "code",
      "execution_count": 152,
      "metadata": {
        "colab": {
          "base_uri": "https://localhost:8080/"
        },
        "outputId": "7ad01f25-ea1c-4029-8ef8-a691f9f331a1",
        "id": "sg1WYkOdO0S4"
      },
      "outputs": [
        {
          "output_type": "stream",
          "name": "stdout",
          "text": [
            "Best Params: {'min_samples_split': 4, 'min_samples_leaf': 6, 'max_depth': 10, 'criterion': 'gini'}\n"
          ]
        },
        {
          "output_type": "execute_result",
          "data": {
            "text/plain": [
              "DecisionTreeClassifier(max_depth=10, min_samples_leaf=6, min_samples_split=4)"
            ]
          },
          "metadata": {},
          "execution_count": 152
        },
        {
          "output_type": "stream",
          "name": "stdout",
          "text": [
            "time: 272 ms (started: 2023-02-04 07:42:43 +00:00)\n"
          ]
        }
      ],
      "source": [
        "dectree_rcv=RandomizedSearchCV(dectree_clf,param_grid_dectree,n_jobs=-1,cv=5)\n",
        "dectree_rcv.fit(X_train,y_train)\n",
        "best_params=dectree_rcv.best_params_\n",
        "print(f\"Best Params: {best_params}\")\n",
        "dectree_rcv = DecisionTreeClassifier(**best_params)\n",
        "\n",
        "dectree_rcv.fit(X_train, y_train)\n"
      ]
    },
    {
      "cell_type": "code",
      "execution_count": 153,
      "metadata": {
        "colab": {
          "base_uri": "https://localhost:8080/",
          "height": 129
        },
        "outputId": "e5369575-d397-4d8a-8ff7-996721293db5",
        "id": "BRDHFtYFO0S5"
      },
      "outputs": [
        {
          "output_type": "execute_result",
          "data": {
            "text/plain": [
              "         Model  Tr Acc.  Tst Acc.  Tr F1  Tst F1 Cross_Val\n",
              "0       RHT LR       84        72     84      71      0.79\n",
              "1  RHT Dectree       85        72     85      72      0.78"
            ],
            "text/html": [
              "\n",
              "  <div id=\"df-8b5e740e-5c89-4ed1-b7b1-b6feb677112c\">\n",
              "    <div class=\"colab-df-container\">\n",
              "      <div>\n",
              "<style scoped>\n",
              "    .dataframe tbody tr th:only-of-type {\n",
              "        vertical-align: middle;\n",
              "    }\n",
              "\n",
              "    .dataframe tbody tr th {\n",
              "        vertical-align: top;\n",
              "    }\n",
              "\n",
              "    .dataframe thead th {\n",
              "        text-align: right;\n",
              "    }\n",
              "</style>\n",
              "<table border=\"1\" class=\"dataframe\">\n",
              "  <thead>\n",
              "    <tr style=\"text-align: right;\">\n",
              "      <th></th>\n",
              "      <th>Model</th>\n",
              "      <th>Tr Acc.</th>\n",
              "      <th>Tst Acc.</th>\n",
              "      <th>Tr F1</th>\n",
              "      <th>Tst F1</th>\n",
              "      <th>Cross_Val</th>\n",
              "    </tr>\n",
              "  </thead>\n",
              "  <tbody>\n",
              "    <tr>\n",
              "      <th>0</th>\n",
              "      <td>RHT LR</td>\n",
              "      <td>84</td>\n",
              "      <td>72</td>\n",
              "      <td>84</td>\n",
              "      <td>71</td>\n",
              "      <td>0.79</td>\n",
              "    </tr>\n",
              "    <tr>\n",
              "      <th>1</th>\n",
              "      <td>RHT Dectree</td>\n",
              "      <td>85</td>\n",
              "      <td>72</td>\n",
              "      <td>85</td>\n",
              "      <td>72</td>\n",
              "      <td>0.78</td>\n",
              "    </tr>\n",
              "  </tbody>\n",
              "</table>\n",
              "</div>\n",
              "      <button class=\"colab-df-convert\" onclick=\"convertToInteractive('df-8b5e740e-5c89-4ed1-b7b1-b6feb677112c')\"\n",
              "              title=\"Convert this dataframe to an interactive table.\"\n",
              "              style=\"display:none;\">\n",
              "        \n",
              "  <svg xmlns=\"http://www.w3.org/2000/svg\" height=\"24px\"viewBox=\"0 0 24 24\"\n",
              "       width=\"24px\">\n",
              "    <path d=\"M0 0h24v24H0V0z\" fill=\"none\"/>\n",
              "    <path d=\"M18.56 5.44l.94 2.06.94-2.06 2.06-.94-2.06-.94-.94-2.06-.94 2.06-2.06.94zm-11 1L8.5 8.5l.94-2.06 2.06-.94-2.06-.94L8.5 2.5l-.94 2.06-2.06.94zm10 10l.94 2.06.94-2.06 2.06-.94-2.06-.94-.94-2.06-.94 2.06-2.06.94z\"/><path d=\"M17.41 7.96l-1.37-1.37c-.4-.4-.92-.59-1.43-.59-.52 0-1.04.2-1.43.59L10.3 9.45l-7.72 7.72c-.78.78-.78 2.05 0 2.83L4 21.41c.39.39.9.59 1.41.59.51 0 1.02-.2 1.41-.59l7.78-7.78 2.81-2.81c.8-.78.8-2.07 0-2.86zM5.41 20L4 18.59l7.72-7.72 1.47 1.35L5.41 20z\"/>\n",
              "  </svg>\n",
              "      </button>\n",
              "      \n",
              "  <style>\n",
              "    .colab-df-container {\n",
              "      display:flex;\n",
              "      flex-wrap:wrap;\n",
              "      gap: 12px;\n",
              "    }\n",
              "\n",
              "    .colab-df-convert {\n",
              "      background-color: #E8F0FE;\n",
              "      border: none;\n",
              "      border-radius: 50%;\n",
              "      cursor: pointer;\n",
              "      display: none;\n",
              "      fill: #1967D2;\n",
              "      height: 32px;\n",
              "      padding: 0 0 0 0;\n",
              "      width: 32px;\n",
              "    }\n",
              "\n",
              "    .colab-df-convert:hover {\n",
              "      background-color: #E2EBFA;\n",
              "      box-shadow: 0px 1px 2px rgba(60, 64, 67, 0.3), 0px 1px 3px 1px rgba(60, 64, 67, 0.15);\n",
              "      fill: #174EA6;\n",
              "    }\n",
              "\n",
              "    [theme=dark] .colab-df-convert {\n",
              "      background-color: #3B4455;\n",
              "      fill: #D2E3FC;\n",
              "    }\n",
              "\n",
              "    [theme=dark] .colab-df-convert:hover {\n",
              "      background-color: #434B5C;\n",
              "      box-shadow: 0px 1px 3px 1px rgba(0, 0, 0, 0.15);\n",
              "      filter: drop-shadow(0px 1px 2px rgba(0, 0, 0, 0.3));\n",
              "      fill: #FFFFFF;\n",
              "    }\n",
              "  </style>\n",
              "\n",
              "      <script>\n",
              "        const buttonEl =\n",
              "          document.querySelector('#df-8b5e740e-5c89-4ed1-b7b1-b6feb677112c button.colab-df-convert');\n",
              "        buttonEl.style.display =\n",
              "          google.colab.kernel.accessAllowed ? 'block' : 'none';\n",
              "\n",
              "        async function convertToInteractive(key) {\n",
              "          const element = document.querySelector('#df-8b5e740e-5c89-4ed1-b7b1-b6feb677112c');\n",
              "          const dataTable =\n",
              "            await google.colab.kernel.invokeFunction('convertToInteractive',\n",
              "                                                     [key], {});\n",
              "          if (!dataTable) return;\n",
              "\n",
              "          const docLinkHtml = 'Like what you see? Visit the ' +\n",
              "            '<a target=\"_blank\" href=https://colab.research.google.com/notebooks/data_table.ipynb>data table notebook</a>'\n",
              "            + ' to learn more about interactive tables.';\n",
              "          element.innerHTML = '';\n",
              "          dataTable['output_type'] = 'display_data';\n",
              "          await google.colab.output.renderOutput(dataTable, element);\n",
              "          const docLink = document.createElement('div');\n",
              "          docLink.innerHTML = docLinkHtml;\n",
              "          element.appendChild(docLink);\n",
              "        }\n",
              "      </script>\n",
              "    </div>\n",
              "  </div>\n",
              "  "
            ]
          },
          "metadata": {},
          "execution_count": 153
        },
        {
          "output_type": "stream",
          "name": "stdout",
          "text": [
            "time: 51.9 ms (started: 2023-02-04 07:42:43 +00:00)\n"
          ]
        }
      ],
      "source": [
        "test_score = (accuracy_score(y_test, dectree_rcv.predict(X_test)) * 100).astype(int)\n",
        "train_score = (accuracy_score(y_train, dectree_rcv.predict(X_train)) * 100).astype(int)\n",
        "test_f1 = (f1_score(y_test, dectree_rcv.predict(X_test),average='weighted') * 100).astype(int)\n",
        "train_f1 = (f1_score(y_train, dectree_rcv.predict(X_train),average='weighted') * 100).astype(int)\n",
        "scores = cross_val_score(dectree_rcv, X, y, cv=5, scoring='accuracy')\n",
        "\n",
        "results_dfr2 = pd.DataFrame(data=[[\"RHT Dectree\", train_score, test_score,  train_f1, test_f1,\"%0.2f\" %scores.mean()]], \n",
        "                          columns=['Model', 'Tr Acc.', 'Tst Acc.','Tr F1','Tst F1','Cross_Val'])\n",
        "\n",
        "results_dfr = results_dfr.append(results_dfr2, ignore_index=True)\n",
        "\n",
        "results_dfr"
      ]
    },
    {
      "cell_type": "markdown",
      "metadata": {
        "id": "LjkpYoPLO0S6"
      },
      "source": [
        "\n",
        "<a name = Section103></a>\n",
        "### **10.3 Tuned Random Forest Model using Randomized Search CV**\n",
        "\n"
      ]
    },
    {
      "cell_type": "code",
      "execution_count": 154,
      "metadata": {
        "id": "qbatBHvaO0S7",
        "colab": {
          "base_uri": "https://localhost:8080/"
        },
        "outputId": "be9e7381-dfba-4fec-98eb-e2dc2bc58b49"
      },
      "outputs": [
        {
          "output_type": "stream",
          "name": "stdout",
          "text": [
            "time: 1.15 ms (started: 2023-02-04 07:42:43 +00:00)\n"
          ]
        }
      ],
      "source": [
        "param_grid_rfc = {\n",
        "    'n_estimators' : [50,100],\n",
        "    'max_depth' : [2,3,5,7,10],\n",
        "    'min_samples_split' : [2,5,10],\n",
        "    'min_samples_leaf' : [1,2,3,4,5], \n",
        "}"
      ]
    },
    {
      "cell_type": "code",
      "execution_count": 155,
      "metadata": {
        "colab": {
          "base_uri": "https://localhost:8080/"
        },
        "outputId": "dc468031-8fff-4592-a3cc-d86e17e577af",
        "id": "ESggvVBVO0S8"
      },
      "outputs": [
        {
          "output_type": "stream",
          "name": "stdout",
          "text": [
            "Best Params: {'n_estimators': 50, 'min_samples_split': 2, 'min_samples_leaf': 2, 'max_depth': 10}\n"
          ]
        },
        {
          "output_type": "execute_result",
          "data": {
            "text/plain": [
              "RandomForestClassifier(max_depth=10, min_samples_leaf=2, n_estimators=50)"
            ]
          },
          "metadata": {},
          "execution_count": 155
        },
        {
          "output_type": "stream",
          "name": "stdout",
          "text": [
            "time: 4.39 s (started: 2023-02-04 07:42:43 +00:00)\n"
          ]
        }
      ],
      "source": [
        "rfc_rcv=RandomizedSearchCV(rfc_clf,param_grid_rfc,n_jobs=-1,cv=5)\n",
        "rfc_rcv.fit(X_train,y_train)\n",
        "best_params=rfc_rcv.best_params_\n",
        "print(f\"Best Params: {best_params}\")\n",
        "rfc_rcv = RandomForestClassifier(**best_params)\n",
        "\n",
        "rfc_rcv.fit(X_train, y_train)\n",
        "\n"
      ]
    },
    {
      "cell_type": "code",
      "execution_count": 156,
      "metadata": {
        "colab": {
          "base_uri": "https://localhost:8080/",
          "height": 161
        },
        "outputId": "cba8e2df-d11f-46a1-e3a8-8337f1fd02d8",
        "id": "nKG9TX4rO0S9"
      },
      "outputs": [
        {
          "output_type": "execute_result",
          "data": {
            "text/plain": [
              "         Model  Tr Acc.  Tst Acc.  Tr F1  Tst F1 Cross_Val\n",
              "0       RHT LR       84        72     84      71      0.79\n",
              "1  RHT Dectree       85        72     85      72      0.78\n",
              "2       RHT RF       93        80     93      79      0.81"
            ],
            "text/html": [
              "\n",
              "  <div id=\"df-314ef693-3e9c-4e94-8533-553ca322e8d2\">\n",
              "    <div class=\"colab-df-container\">\n",
              "      <div>\n",
              "<style scoped>\n",
              "    .dataframe tbody tr th:only-of-type {\n",
              "        vertical-align: middle;\n",
              "    }\n",
              "\n",
              "    .dataframe tbody tr th {\n",
              "        vertical-align: top;\n",
              "    }\n",
              "\n",
              "    .dataframe thead th {\n",
              "        text-align: right;\n",
              "    }\n",
              "</style>\n",
              "<table border=\"1\" class=\"dataframe\">\n",
              "  <thead>\n",
              "    <tr style=\"text-align: right;\">\n",
              "      <th></th>\n",
              "      <th>Model</th>\n",
              "      <th>Tr Acc.</th>\n",
              "      <th>Tst Acc.</th>\n",
              "      <th>Tr F1</th>\n",
              "      <th>Tst F1</th>\n",
              "      <th>Cross_Val</th>\n",
              "    </tr>\n",
              "  </thead>\n",
              "  <tbody>\n",
              "    <tr>\n",
              "      <th>0</th>\n",
              "      <td>RHT LR</td>\n",
              "      <td>84</td>\n",
              "      <td>72</td>\n",
              "      <td>84</td>\n",
              "      <td>71</td>\n",
              "      <td>0.79</td>\n",
              "    </tr>\n",
              "    <tr>\n",
              "      <th>1</th>\n",
              "      <td>RHT Dectree</td>\n",
              "      <td>85</td>\n",
              "      <td>72</td>\n",
              "      <td>85</td>\n",
              "      <td>72</td>\n",
              "      <td>0.78</td>\n",
              "    </tr>\n",
              "    <tr>\n",
              "      <th>2</th>\n",
              "      <td>RHT RF</td>\n",
              "      <td>93</td>\n",
              "      <td>80</td>\n",
              "      <td>93</td>\n",
              "      <td>79</td>\n",
              "      <td>0.81</td>\n",
              "    </tr>\n",
              "  </tbody>\n",
              "</table>\n",
              "</div>\n",
              "      <button class=\"colab-df-convert\" onclick=\"convertToInteractive('df-314ef693-3e9c-4e94-8533-553ca322e8d2')\"\n",
              "              title=\"Convert this dataframe to an interactive table.\"\n",
              "              style=\"display:none;\">\n",
              "        \n",
              "  <svg xmlns=\"http://www.w3.org/2000/svg\" height=\"24px\"viewBox=\"0 0 24 24\"\n",
              "       width=\"24px\">\n",
              "    <path d=\"M0 0h24v24H0V0z\" fill=\"none\"/>\n",
              "    <path d=\"M18.56 5.44l.94 2.06.94-2.06 2.06-.94-2.06-.94-.94-2.06-.94 2.06-2.06.94zm-11 1L8.5 8.5l.94-2.06 2.06-.94-2.06-.94L8.5 2.5l-.94 2.06-2.06.94zm10 10l.94 2.06.94-2.06 2.06-.94-2.06-.94-.94-2.06-.94 2.06-2.06.94z\"/><path d=\"M17.41 7.96l-1.37-1.37c-.4-.4-.92-.59-1.43-.59-.52 0-1.04.2-1.43.59L10.3 9.45l-7.72 7.72c-.78.78-.78 2.05 0 2.83L4 21.41c.39.39.9.59 1.41.59.51 0 1.02-.2 1.41-.59l7.78-7.78 2.81-2.81c.8-.78.8-2.07 0-2.86zM5.41 20L4 18.59l7.72-7.72 1.47 1.35L5.41 20z\"/>\n",
              "  </svg>\n",
              "      </button>\n",
              "      \n",
              "  <style>\n",
              "    .colab-df-container {\n",
              "      display:flex;\n",
              "      flex-wrap:wrap;\n",
              "      gap: 12px;\n",
              "    }\n",
              "\n",
              "    .colab-df-convert {\n",
              "      background-color: #E8F0FE;\n",
              "      border: none;\n",
              "      border-radius: 50%;\n",
              "      cursor: pointer;\n",
              "      display: none;\n",
              "      fill: #1967D2;\n",
              "      height: 32px;\n",
              "      padding: 0 0 0 0;\n",
              "      width: 32px;\n",
              "    }\n",
              "\n",
              "    .colab-df-convert:hover {\n",
              "      background-color: #E2EBFA;\n",
              "      box-shadow: 0px 1px 2px rgba(60, 64, 67, 0.3), 0px 1px 3px 1px rgba(60, 64, 67, 0.15);\n",
              "      fill: #174EA6;\n",
              "    }\n",
              "\n",
              "    [theme=dark] .colab-df-convert {\n",
              "      background-color: #3B4455;\n",
              "      fill: #D2E3FC;\n",
              "    }\n",
              "\n",
              "    [theme=dark] .colab-df-convert:hover {\n",
              "      background-color: #434B5C;\n",
              "      box-shadow: 0px 1px 3px 1px rgba(0, 0, 0, 0.15);\n",
              "      filter: drop-shadow(0px 1px 2px rgba(0, 0, 0, 0.3));\n",
              "      fill: #FFFFFF;\n",
              "    }\n",
              "  </style>\n",
              "\n",
              "      <script>\n",
              "        const buttonEl =\n",
              "          document.querySelector('#df-314ef693-3e9c-4e94-8533-553ca322e8d2 button.colab-df-convert');\n",
              "        buttonEl.style.display =\n",
              "          google.colab.kernel.accessAllowed ? 'block' : 'none';\n",
              "\n",
              "        async function convertToInteractive(key) {\n",
              "          const element = document.querySelector('#df-314ef693-3e9c-4e94-8533-553ca322e8d2');\n",
              "          const dataTable =\n",
              "            await google.colab.kernel.invokeFunction('convertToInteractive',\n",
              "                                                     [key], {});\n",
              "          if (!dataTable) return;\n",
              "\n",
              "          const docLinkHtml = 'Like what you see? Visit the ' +\n",
              "            '<a target=\"_blank\" href=https://colab.research.google.com/notebooks/data_table.ipynb>data table notebook</a>'\n",
              "            + ' to learn more about interactive tables.';\n",
              "          element.innerHTML = '';\n",
              "          dataTable['output_type'] = 'display_data';\n",
              "          await google.colab.output.renderOutput(dataTable, element);\n",
              "          const docLink = document.createElement('div');\n",
              "          docLink.innerHTML = docLinkHtml;\n",
              "          element.appendChild(docLink);\n",
              "        }\n",
              "      </script>\n",
              "    </div>\n",
              "  </div>\n",
              "  "
            ]
          },
          "metadata": {},
          "execution_count": 156
        },
        {
          "output_type": "stream",
          "name": "stdout",
          "text": [
            "time: 457 ms (started: 2023-02-04 07:42:48 +00:00)\n"
          ]
        }
      ],
      "source": [
        "test_score = (accuracy_score(y_test, rfc_rcv.predict(X_test)) * 100).astype(int)\n",
        "train_score = (accuracy_score(y_train, rfc_rcv.predict(X_train)) * 100).astype(int)\n",
        "test_f1 = (f1_score(y_test, rfc_rcv.predict(X_test),average='weighted') * 100).astype(int)\n",
        "train_f1 = (f1_score(y_train, rfc_rcv.predict(X_train),average='weighted') * 100).astype(int)\n",
        "scores = cross_val_score(rfc_rcv, X, y, cv=5, scoring='accuracy')\n",
        "\n",
        "results_dfr2 = pd.DataFrame(data=[[\"RHT RF\", train_score, test_score,  train_f1, test_f1,\"%0.2f\" %scores.mean()]], \n",
        "                          columns=['Model', 'Tr Acc.', 'Tst Acc.','Tr F1','Tst F1','Cross_Val'])\n",
        "results_dfr = results_dfr.append(results_dfr2, ignore_index=True)\n",
        "results_dfr"
      ]
    },
    {
      "cell_type": "markdown",
      "metadata": {
        "id": "PXLqhpw4O0S-"
      },
      "source": [
        "\n",
        "<a name = Section104></a>\n",
        "### **10.4 Tuned K Nearest Neighbour Model using Randomized Search CV**\n",
        "\n"
      ]
    },
    {
      "cell_type": "code",
      "execution_count": 157,
      "metadata": {
        "id": "XdvsmJhoO0S_",
        "colab": {
          "base_uri": "https://localhost:8080/"
        },
        "outputId": "509ba7ca-fe71-46dd-df14-73d497f68792"
      },
      "outputs": [
        {
          "output_type": "stream",
          "name": "stdout",
          "text": [
            "time: 1.15 ms (started: 2023-02-04 07:42:48 +00:00)\n"
          ]
        }
      ],
      "source": [
        "param_grid_knn = {\n",
        "    'n_neighbors' : list(range(1,10)),\n",
        "     'weights' : ['uniform','distance'],\n",
        "     'metric' : ['minkowski','euclidean','manhattan']\n",
        "}"
      ]
    },
    {
      "cell_type": "code",
      "execution_count": 158,
      "metadata": {
        "colab": {
          "base_uri": "https://localhost:8080/"
        },
        "outputId": "3ee8da62-b379-4e16-d08e-f66731f5ee0e",
        "id": "whc1UEFgO0S_"
      },
      "outputs": [
        {
          "output_type": "stream",
          "name": "stdout",
          "text": [
            "Best Params: {'weights': 'uniform', 'n_neighbors': 3, 'metric': 'manhattan'}\n"
          ]
        },
        {
          "output_type": "execute_result",
          "data": {
            "text/plain": [
              "KNeighborsClassifier(metric='manhattan', n_neighbors=3)"
            ]
          },
          "metadata": {},
          "execution_count": 158
        },
        {
          "output_type": "stream",
          "name": "stdout",
          "text": [
            "time: 280 ms (started: 2023-02-04 07:42:48 +00:00)\n"
          ]
        }
      ],
      "source": [
        "knn_rcv=RandomizedSearchCV(knn_clf,param_grid_knn,n_jobs=-1,cv=5)\n",
        "knn_rcv.fit(X_train,y_train)\n",
        "best_params=knn_rcv.best_params_\n",
        "print(f\"Best Params: {best_params}\")\n",
        "knn_rcv = KNeighborsClassifier(**best_params)\n",
        "\n",
        "knn_rcv.fit(X_train, y_train)\n",
        "\n"
      ]
    },
    {
      "cell_type": "code",
      "execution_count": 159,
      "metadata": {
        "colab": {
          "base_uri": "https://localhost:8080/",
          "height": 192
        },
        "outputId": "219ede44-8068-4925-c3aa-eb38088ddd23",
        "id": "aGDAbk9CO0TB"
      },
      "outputs": [
        {
          "output_type": "execute_result",
          "data": {
            "text/plain": [
              "         Model  Tr Acc.  Tst Acc.  Tr F1  Tst F1 Cross_Val\n",
              "0       RHT LR       84        72     84      71      0.79\n",
              "1  RHT Dectree       85        72     85      72      0.78\n",
              "2       RHT RF       93        80     93      79      0.81\n",
              "3      RHT KNN       88        76     87      75      0.78"
            ],
            "text/html": [
              "\n",
              "  <div id=\"df-bad7d432-6a89-482b-b797-c61d34de2569\">\n",
              "    <div class=\"colab-df-container\">\n",
              "      <div>\n",
              "<style scoped>\n",
              "    .dataframe tbody tr th:only-of-type {\n",
              "        vertical-align: middle;\n",
              "    }\n",
              "\n",
              "    .dataframe tbody tr th {\n",
              "        vertical-align: top;\n",
              "    }\n",
              "\n",
              "    .dataframe thead th {\n",
              "        text-align: right;\n",
              "    }\n",
              "</style>\n",
              "<table border=\"1\" class=\"dataframe\">\n",
              "  <thead>\n",
              "    <tr style=\"text-align: right;\">\n",
              "      <th></th>\n",
              "      <th>Model</th>\n",
              "      <th>Tr Acc.</th>\n",
              "      <th>Tst Acc.</th>\n",
              "      <th>Tr F1</th>\n",
              "      <th>Tst F1</th>\n",
              "      <th>Cross_Val</th>\n",
              "    </tr>\n",
              "  </thead>\n",
              "  <tbody>\n",
              "    <tr>\n",
              "      <th>0</th>\n",
              "      <td>RHT LR</td>\n",
              "      <td>84</td>\n",
              "      <td>72</td>\n",
              "      <td>84</td>\n",
              "      <td>71</td>\n",
              "      <td>0.79</td>\n",
              "    </tr>\n",
              "    <tr>\n",
              "      <th>1</th>\n",
              "      <td>RHT Dectree</td>\n",
              "      <td>85</td>\n",
              "      <td>72</td>\n",
              "      <td>85</td>\n",
              "      <td>72</td>\n",
              "      <td>0.78</td>\n",
              "    </tr>\n",
              "    <tr>\n",
              "      <th>2</th>\n",
              "      <td>RHT RF</td>\n",
              "      <td>93</td>\n",
              "      <td>80</td>\n",
              "      <td>93</td>\n",
              "      <td>79</td>\n",
              "      <td>0.81</td>\n",
              "    </tr>\n",
              "    <tr>\n",
              "      <th>3</th>\n",
              "      <td>RHT KNN</td>\n",
              "      <td>88</td>\n",
              "      <td>76</td>\n",
              "      <td>87</td>\n",
              "      <td>75</td>\n",
              "      <td>0.78</td>\n",
              "    </tr>\n",
              "  </tbody>\n",
              "</table>\n",
              "</div>\n",
              "      <button class=\"colab-df-convert\" onclick=\"convertToInteractive('df-bad7d432-6a89-482b-b797-c61d34de2569')\"\n",
              "              title=\"Convert this dataframe to an interactive table.\"\n",
              "              style=\"display:none;\">\n",
              "        \n",
              "  <svg xmlns=\"http://www.w3.org/2000/svg\" height=\"24px\"viewBox=\"0 0 24 24\"\n",
              "       width=\"24px\">\n",
              "    <path d=\"M0 0h24v24H0V0z\" fill=\"none\"/>\n",
              "    <path d=\"M18.56 5.44l.94 2.06.94-2.06 2.06-.94-2.06-.94-.94-2.06-.94 2.06-2.06.94zm-11 1L8.5 8.5l.94-2.06 2.06-.94-2.06-.94L8.5 2.5l-.94 2.06-2.06.94zm10 10l.94 2.06.94-2.06 2.06-.94-2.06-.94-.94-2.06-.94 2.06-2.06.94z\"/><path d=\"M17.41 7.96l-1.37-1.37c-.4-.4-.92-.59-1.43-.59-.52 0-1.04.2-1.43.59L10.3 9.45l-7.72 7.72c-.78.78-.78 2.05 0 2.83L4 21.41c.39.39.9.59 1.41.59.51 0 1.02-.2 1.41-.59l7.78-7.78 2.81-2.81c.8-.78.8-2.07 0-2.86zM5.41 20L4 18.59l7.72-7.72 1.47 1.35L5.41 20z\"/>\n",
              "  </svg>\n",
              "      </button>\n",
              "      \n",
              "  <style>\n",
              "    .colab-df-container {\n",
              "      display:flex;\n",
              "      flex-wrap:wrap;\n",
              "      gap: 12px;\n",
              "    }\n",
              "\n",
              "    .colab-df-convert {\n",
              "      background-color: #E8F0FE;\n",
              "      border: none;\n",
              "      border-radius: 50%;\n",
              "      cursor: pointer;\n",
              "      display: none;\n",
              "      fill: #1967D2;\n",
              "      height: 32px;\n",
              "      padding: 0 0 0 0;\n",
              "      width: 32px;\n",
              "    }\n",
              "\n",
              "    .colab-df-convert:hover {\n",
              "      background-color: #E2EBFA;\n",
              "      box-shadow: 0px 1px 2px rgba(60, 64, 67, 0.3), 0px 1px 3px 1px rgba(60, 64, 67, 0.15);\n",
              "      fill: #174EA6;\n",
              "    }\n",
              "\n",
              "    [theme=dark] .colab-df-convert {\n",
              "      background-color: #3B4455;\n",
              "      fill: #D2E3FC;\n",
              "    }\n",
              "\n",
              "    [theme=dark] .colab-df-convert:hover {\n",
              "      background-color: #434B5C;\n",
              "      box-shadow: 0px 1px 3px 1px rgba(0, 0, 0, 0.15);\n",
              "      filter: drop-shadow(0px 1px 2px rgba(0, 0, 0, 0.3));\n",
              "      fill: #FFFFFF;\n",
              "    }\n",
              "  </style>\n",
              "\n",
              "      <script>\n",
              "        const buttonEl =\n",
              "          document.querySelector('#df-bad7d432-6a89-482b-b797-c61d34de2569 button.colab-df-convert');\n",
              "        buttonEl.style.display =\n",
              "          google.colab.kernel.accessAllowed ? 'block' : 'none';\n",
              "\n",
              "        async function convertToInteractive(key) {\n",
              "          const element = document.querySelector('#df-bad7d432-6a89-482b-b797-c61d34de2569');\n",
              "          const dataTable =\n",
              "            await google.colab.kernel.invokeFunction('convertToInteractive',\n",
              "                                                     [key], {});\n",
              "          if (!dataTable) return;\n",
              "\n",
              "          const docLinkHtml = 'Like what you see? Visit the ' +\n",
              "            '<a target=\"_blank\" href=https://colab.research.google.com/notebooks/data_table.ipynb>data table notebook</a>'\n",
              "            + ' to learn more about interactive tables.';\n",
              "          element.innerHTML = '';\n",
              "          dataTable['output_type'] = 'display_data';\n",
              "          await google.colab.output.renderOutput(dataTable, element);\n",
              "          const docLink = document.createElement('div');\n",
              "          docLink.innerHTML = docLinkHtml;\n",
              "          element.appendChild(docLink);\n",
              "        }\n",
              "      </script>\n",
              "    </div>\n",
              "  </div>\n",
              "  "
            ]
          },
          "metadata": {},
          "execution_count": 159
        },
        {
          "output_type": "stream",
          "name": "stdout",
          "text": [
            "time: 98.8 ms (started: 2023-02-04 07:42:49 +00:00)\n"
          ]
        }
      ],
      "source": [
        "test_score = (accuracy_score(y_test, knn_rcv.predict(X_test)) * 100).astype(int)\n",
        "train_score = (accuracy_score(y_train, knn_rcv.predict(X_train)) * 100).astype(int)\n",
        "test_f1 = (f1_score(y_test, knn_rcv.predict(X_test),average='weighted') * 100).astype(int)\n",
        "train_f1 = (f1_score(y_train, knn_rcv.predict(X_train),average='weighted') * 100).astype(int)\n",
        "scores = cross_val_score(knn_rcv, X, y, cv=10, scoring='accuracy')\n",
        "\n",
        "results_dfr2 = pd.DataFrame(data=[[\"RHT KNN\", train_score, test_score,  train_f1, test_f1,\"%0.2f\" %scores.mean()]], \n",
        "                          columns=['Model', 'Tr Acc.', 'Tst Acc.','Tr F1','Tst F1','Cross_Val'])\n",
        "results_dfr = results_dfr.append(results_dfr2, ignore_index=True)\n",
        "results_dfr\n"
      ]
    },
    {
      "cell_type": "code",
      "source": [],
      "metadata": {
        "id": "VquhccDVsbFv",
        "colab": {
          "base_uri": "https://localhost:8080/"
        },
        "outputId": "cab6b9d8-180f-4526-afdc-d482b48aaddb"
      },
      "execution_count": 159,
      "outputs": [
        {
          "output_type": "stream",
          "name": "stdout",
          "text": [
            "time: 117 ms (started: 2023-02-04 07:42:49 +00:00)\n"
          ]
        }
      ]
    },
    {
      "cell_type": "markdown",
      "metadata": {
        "id": "NaoRmetvsbbg"
      },
      "source": [
        "\n",
        "<a name = Section105></a>\n",
        "### **10.5 Tuned Adaboost Model using Randomized Search CV**\n",
        "\n",
        "- Create KNN model and evaluate the metrics"
      ]
    },
    {
      "cell_type": "code",
      "execution_count": 160,
      "metadata": {
        "colab": {
          "base_uri": "https://localhost:8080/"
        },
        "outputId": "e9e13849-b757-47be-87ad-5abe8b8e2ed0",
        "id": "r4MoZXHhsbbh"
      },
      "outputs": [
        {
          "output_type": "stream",
          "name": "stdout",
          "text": [
            "Best Params: {'n_estimators': 500, 'learning_rate': 1.0}\n"
          ]
        },
        {
          "output_type": "execute_result",
          "data": {
            "text/plain": [
              "AdaBoostClassifier(n_estimators=500)"
            ]
          },
          "metadata": {},
          "execution_count": 160
        },
        {
          "output_type": "stream",
          "name": "stdout",
          "text": [
            "time: 10.5 s (started: 2023-02-04 07:42:49 +00:00)\n"
          ]
        }
      ],
      "source": [
        "adb_rcv=RandomizedSearchCV(adb_clf,param_grid_adb,n_jobs=-1,cv=5)\n",
        "adb_rcv.fit(X_train,y_train)\n",
        "best_params=adb_rcv.best_params_\n",
        "print(f\"Best Params: {best_params}\")\n",
        "adb_rcv = AdaBoostClassifier(**best_params)\n",
        "\n",
        "adb_rcv.fit(X_train, y_train)\n"
      ]
    },
    {
      "cell_type": "code",
      "execution_count": 161,
      "metadata": {
        "colab": {
          "base_uri": "https://localhost:8080/",
          "height": 224
        },
        "outputId": "c2567a22-8611-435d-f554-f3321aeb4c0b",
        "id": "fU3D65FTsbbi"
      },
      "outputs": [
        {
          "output_type": "execute_result",
          "data": {
            "text/plain": [
              "         Model  Tr Acc.  Tst Acc.  Tr F1  Tst F1 Cross_Val\n",
              "0       RHT LR       84        72     84      71      0.79\n",
              "1  RHT Dectree       85        72     85      72      0.78\n",
              "2       RHT RF       93        80     93      79      0.81\n",
              "3      RHT KNN       88        76     87      75      0.78\n",
              "4      RHT ADB       88        88     88      87      0.80"
            ],
            "text/html": [
              "\n",
              "  <div id=\"df-1d0a444e-a7ba-49e6-9e3c-8e7de02de4d7\">\n",
              "    <div class=\"colab-df-container\">\n",
              "      <div>\n",
              "<style scoped>\n",
              "    .dataframe tbody tr th:only-of-type {\n",
              "        vertical-align: middle;\n",
              "    }\n",
              "\n",
              "    .dataframe tbody tr th {\n",
              "        vertical-align: top;\n",
              "    }\n",
              "\n",
              "    .dataframe thead th {\n",
              "        text-align: right;\n",
              "    }\n",
              "</style>\n",
              "<table border=\"1\" class=\"dataframe\">\n",
              "  <thead>\n",
              "    <tr style=\"text-align: right;\">\n",
              "      <th></th>\n",
              "      <th>Model</th>\n",
              "      <th>Tr Acc.</th>\n",
              "      <th>Tst Acc.</th>\n",
              "      <th>Tr F1</th>\n",
              "      <th>Tst F1</th>\n",
              "      <th>Cross_Val</th>\n",
              "    </tr>\n",
              "  </thead>\n",
              "  <tbody>\n",
              "    <tr>\n",
              "      <th>0</th>\n",
              "      <td>RHT LR</td>\n",
              "      <td>84</td>\n",
              "      <td>72</td>\n",
              "      <td>84</td>\n",
              "      <td>71</td>\n",
              "      <td>0.79</td>\n",
              "    </tr>\n",
              "    <tr>\n",
              "      <th>1</th>\n",
              "      <td>RHT Dectree</td>\n",
              "      <td>85</td>\n",
              "      <td>72</td>\n",
              "      <td>85</td>\n",
              "      <td>72</td>\n",
              "      <td>0.78</td>\n",
              "    </tr>\n",
              "    <tr>\n",
              "      <th>2</th>\n",
              "      <td>RHT RF</td>\n",
              "      <td>93</td>\n",
              "      <td>80</td>\n",
              "      <td>93</td>\n",
              "      <td>79</td>\n",
              "      <td>0.81</td>\n",
              "    </tr>\n",
              "    <tr>\n",
              "      <th>3</th>\n",
              "      <td>RHT KNN</td>\n",
              "      <td>88</td>\n",
              "      <td>76</td>\n",
              "      <td>87</td>\n",
              "      <td>75</td>\n",
              "      <td>0.78</td>\n",
              "    </tr>\n",
              "    <tr>\n",
              "      <th>4</th>\n",
              "      <td>RHT ADB</td>\n",
              "      <td>88</td>\n",
              "      <td>88</td>\n",
              "      <td>88</td>\n",
              "      <td>87</td>\n",
              "      <td>0.80</td>\n",
              "    </tr>\n",
              "  </tbody>\n",
              "</table>\n",
              "</div>\n",
              "      <button class=\"colab-df-convert\" onclick=\"convertToInteractive('df-1d0a444e-a7ba-49e6-9e3c-8e7de02de4d7')\"\n",
              "              title=\"Convert this dataframe to an interactive table.\"\n",
              "              style=\"display:none;\">\n",
              "        \n",
              "  <svg xmlns=\"http://www.w3.org/2000/svg\" height=\"24px\"viewBox=\"0 0 24 24\"\n",
              "       width=\"24px\">\n",
              "    <path d=\"M0 0h24v24H0V0z\" fill=\"none\"/>\n",
              "    <path d=\"M18.56 5.44l.94 2.06.94-2.06 2.06-.94-2.06-.94-.94-2.06-.94 2.06-2.06.94zm-11 1L8.5 8.5l.94-2.06 2.06-.94-2.06-.94L8.5 2.5l-.94 2.06-2.06.94zm10 10l.94 2.06.94-2.06 2.06-.94-2.06-.94-.94-2.06-.94 2.06-2.06.94z\"/><path d=\"M17.41 7.96l-1.37-1.37c-.4-.4-.92-.59-1.43-.59-.52 0-1.04.2-1.43.59L10.3 9.45l-7.72 7.72c-.78.78-.78 2.05 0 2.83L4 21.41c.39.39.9.59 1.41.59.51 0 1.02-.2 1.41-.59l7.78-7.78 2.81-2.81c.8-.78.8-2.07 0-2.86zM5.41 20L4 18.59l7.72-7.72 1.47 1.35L5.41 20z\"/>\n",
              "  </svg>\n",
              "      </button>\n",
              "      \n",
              "  <style>\n",
              "    .colab-df-container {\n",
              "      display:flex;\n",
              "      flex-wrap:wrap;\n",
              "      gap: 12px;\n",
              "    }\n",
              "\n",
              "    .colab-df-convert {\n",
              "      background-color: #E8F0FE;\n",
              "      border: none;\n",
              "      border-radius: 50%;\n",
              "      cursor: pointer;\n",
              "      display: none;\n",
              "      fill: #1967D2;\n",
              "      height: 32px;\n",
              "      padding: 0 0 0 0;\n",
              "      width: 32px;\n",
              "    }\n",
              "\n",
              "    .colab-df-convert:hover {\n",
              "      background-color: #E2EBFA;\n",
              "      box-shadow: 0px 1px 2px rgba(60, 64, 67, 0.3), 0px 1px 3px 1px rgba(60, 64, 67, 0.15);\n",
              "      fill: #174EA6;\n",
              "    }\n",
              "\n",
              "    [theme=dark] .colab-df-convert {\n",
              "      background-color: #3B4455;\n",
              "      fill: #D2E3FC;\n",
              "    }\n",
              "\n",
              "    [theme=dark] .colab-df-convert:hover {\n",
              "      background-color: #434B5C;\n",
              "      box-shadow: 0px 1px 3px 1px rgba(0, 0, 0, 0.15);\n",
              "      filter: drop-shadow(0px 1px 2px rgba(0, 0, 0, 0.3));\n",
              "      fill: #FFFFFF;\n",
              "    }\n",
              "  </style>\n",
              "\n",
              "      <script>\n",
              "        const buttonEl =\n",
              "          document.querySelector('#df-1d0a444e-a7ba-49e6-9e3c-8e7de02de4d7 button.colab-df-convert');\n",
              "        buttonEl.style.display =\n",
              "          google.colab.kernel.accessAllowed ? 'block' : 'none';\n",
              "\n",
              "        async function convertToInteractive(key) {\n",
              "          const element = document.querySelector('#df-1d0a444e-a7ba-49e6-9e3c-8e7de02de4d7');\n",
              "          const dataTable =\n",
              "            await google.colab.kernel.invokeFunction('convertToInteractive',\n",
              "                                                     [key], {});\n",
              "          if (!dataTable) return;\n",
              "\n",
              "          const docLinkHtml = 'Like what you see? Visit the ' +\n",
              "            '<a target=\"_blank\" href=https://colab.research.google.com/notebooks/data_table.ipynb>data table notebook</a>'\n",
              "            + ' to learn more about interactive tables.';\n",
              "          element.innerHTML = '';\n",
              "          dataTable['output_type'] = 'display_data';\n",
              "          await google.colab.output.renderOutput(dataTable, element);\n",
              "          const docLink = document.createElement('div');\n",
              "          docLink.innerHTML = docLinkHtml;\n",
              "          element.appendChild(docLink);\n",
              "        }\n",
              "      </script>\n",
              "    </div>\n",
              "  </div>\n",
              "  "
            ]
          },
          "metadata": {},
          "execution_count": 161
        },
        {
          "output_type": "stream",
          "name": "stdout",
          "text": [
            "time: 8.41 s (started: 2023-02-04 07:42:59 +00:00)\n"
          ]
        }
      ],
      "source": [
        "test_score = (accuracy_score(y_test, adb_rcv.predict(X_test)) * 100).astype(int)\n",
        "train_score = (accuracy_score(y_train, adb_rcv.predict(X_train)) * 100).astype(int)\n",
        "test_f1 = (f1_score(y_test, adb_rcv.predict(X_test),average='weighted') * 100).astype(int)\n",
        "train_f1 = (f1_score(y_train, adb_rcv.predict(X_train),average='weighted') * 100).astype(int)\n",
        "scores = cross_val_score(adb_rcv, X, y, cv=10, scoring='accuracy')\n",
        "\n",
        "results_dfr2 = pd.DataFrame(data=[[\"RHT ADB\", train_score, test_score, train_f1, test_f1,\"%0.2f\" %scores.mean()]], \n",
        "                          columns=['Model', 'Tr Acc.', 'Tst Acc.','Tr F1','Tst F1','Cross_Val'])\n",
        "\n",
        "results_dfr = results_dfr.append(results_dfr2, ignore_index=True)\n",
        "results_dfr"
      ]
    },
    {
      "cell_type": "markdown",
      "metadata": {
        "id": "2W3JqotGsbbk"
      },
      "source": [
        "\n",
        "<a name = Section106></a>\n",
        "### **10.6 Tuned XGBoost Using Randomized Search CV**\n",
        "\n"
      ]
    },
    {
      "cell_type": "code",
      "execution_count": 162,
      "metadata": {
        "id": "0jDO_Vxxsbbl",
        "colab": {
          "base_uri": "https://localhost:8080/"
        },
        "outputId": "3412cd27-6986-4e73-d5c1-35df94619be8"
      },
      "outputs": [
        {
          "output_type": "stream",
          "name": "stdout",
          "text": [
            "time: 798 µs (started: 2023-02-04 07:43:08 +00:00)\n"
          ]
        }
      ],
      "source": [
        "param_grid_xgb = {\n",
        "    'max_depth': range (2, 10, 1),\n",
        "    'n_estimators': range(60, 220, 40),\n",
        "    'learning_rate': [0.1, 0.01, 0.05]\n",
        "}"
      ]
    },
    {
      "cell_type": "code",
      "execution_count": 163,
      "metadata": {
        "colab": {
          "base_uri": "https://localhost:8080/"
        },
        "outputId": "816ec89c-8d57-4e81-b6d2-3f1aad18b04b",
        "id": "6tBGOl6Esbbl"
      },
      "outputs": [
        {
          "output_type": "stream",
          "name": "stdout",
          "text": [
            "Best paramters: {'n_estimators': 100, 'max_depth': 3, 'learning_rate': 0.1}\n"
          ]
        },
        {
          "output_type": "execute_result",
          "data": {
            "text/plain": [
              "XGBClassifier()"
            ]
          },
          "metadata": {},
          "execution_count": 163
        },
        {
          "output_type": "stream",
          "name": "stdout",
          "text": [
            "time: 1.75 s (started: 2023-02-04 07:43:08 +00:00)\n"
          ]
        }
      ],
      "source": [
        "xgb_rcv = RandomizedSearchCV(xgb_clf,param_grid_xgb,scoring='accuracy',n_jobs=-1,cv=5)\n",
        "xgb_rcv.fit(X_train, y_train)\n",
        "best_params = xgb_rcv.best_params_\n",
        "print(f\"Best paramters: {best_params}\")\n",
        "\n",
        "xgb_rcv = XGBClassifier(**best_params)\n",
        "xgb_rcv.fit(X_train, y_train)\n",
        "\n"
      ]
    },
    {
      "cell_type": "code",
      "execution_count": 164,
      "metadata": {
        "colab": {
          "base_uri": "https://localhost:8080/",
          "height": 255
        },
        "outputId": "bb68da95-0c30-4bf3-8e8b-1e33eea29cde",
        "id": "q_6owbKIsbbm"
      },
      "outputs": [
        {
          "output_type": "execute_result",
          "data": {
            "text/plain": [
              "         Model  Tr Acc.  Tst Acc.  Tr F1  Tst F1 Cross_Val\n",
              "0       RHT LR       84        72     84      71      0.79\n",
              "1  RHT Dectree       85        72     85      72      0.78\n",
              "2       RHT RF       93        80     93      79      0.81\n",
              "3      RHT KNN       88        76     87      75      0.78\n",
              "4      RHT ADB       88        88     88      87      0.80\n",
              "5      RHT XGB       92        80     92      80      0.82"
            ],
            "text/html": [
              "\n",
              "  <div id=\"df-693bb621-30b0-4d6d-89e2-7425872d1fd2\">\n",
              "    <div class=\"colab-df-container\">\n",
              "      <div>\n",
              "<style scoped>\n",
              "    .dataframe tbody tr th:only-of-type {\n",
              "        vertical-align: middle;\n",
              "    }\n",
              "\n",
              "    .dataframe tbody tr th {\n",
              "        vertical-align: top;\n",
              "    }\n",
              "\n",
              "    .dataframe thead th {\n",
              "        text-align: right;\n",
              "    }\n",
              "</style>\n",
              "<table border=\"1\" class=\"dataframe\">\n",
              "  <thead>\n",
              "    <tr style=\"text-align: right;\">\n",
              "      <th></th>\n",
              "      <th>Model</th>\n",
              "      <th>Tr Acc.</th>\n",
              "      <th>Tst Acc.</th>\n",
              "      <th>Tr F1</th>\n",
              "      <th>Tst F1</th>\n",
              "      <th>Cross_Val</th>\n",
              "    </tr>\n",
              "  </thead>\n",
              "  <tbody>\n",
              "    <tr>\n",
              "      <th>0</th>\n",
              "      <td>RHT LR</td>\n",
              "      <td>84</td>\n",
              "      <td>72</td>\n",
              "      <td>84</td>\n",
              "      <td>71</td>\n",
              "      <td>0.79</td>\n",
              "    </tr>\n",
              "    <tr>\n",
              "      <th>1</th>\n",
              "      <td>RHT Dectree</td>\n",
              "      <td>85</td>\n",
              "      <td>72</td>\n",
              "      <td>85</td>\n",
              "      <td>72</td>\n",
              "      <td>0.78</td>\n",
              "    </tr>\n",
              "    <tr>\n",
              "      <th>2</th>\n",
              "      <td>RHT RF</td>\n",
              "      <td>93</td>\n",
              "      <td>80</td>\n",
              "      <td>93</td>\n",
              "      <td>79</td>\n",
              "      <td>0.81</td>\n",
              "    </tr>\n",
              "    <tr>\n",
              "      <th>3</th>\n",
              "      <td>RHT KNN</td>\n",
              "      <td>88</td>\n",
              "      <td>76</td>\n",
              "      <td>87</td>\n",
              "      <td>75</td>\n",
              "      <td>0.78</td>\n",
              "    </tr>\n",
              "    <tr>\n",
              "      <th>4</th>\n",
              "      <td>RHT ADB</td>\n",
              "      <td>88</td>\n",
              "      <td>88</td>\n",
              "      <td>88</td>\n",
              "      <td>87</td>\n",
              "      <td>0.80</td>\n",
              "    </tr>\n",
              "    <tr>\n",
              "      <th>5</th>\n",
              "      <td>RHT XGB</td>\n",
              "      <td>92</td>\n",
              "      <td>80</td>\n",
              "      <td>92</td>\n",
              "      <td>80</td>\n",
              "      <td>0.82</td>\n",
              "    </tr>\n",
              "  </tbody>\n",
              "</table>\n",
              "</div>\n",
              "      <button class=\"colab-df-convert\" onclick=\"convertToInteractive('df-693bb621-30b0-4d6d-89e2-7425872d1fd2')\"\n",
              "              title=\"Convert this dataframe to an interactive table.\"\n",
              "              style=\"display:none;\">\n",
              "        \n",
              "  <svg xmlns=\"http://www.w3.org/2000/svg\" height=\"24px\"viewBox=\"0 0 24 24\"\n",
              "       width=\"24px\">\n",
              "    <path d=\"M0 0h24v24H0V0z\" fill=\"none\"/>\n",
              "    <path d=\"M18.56 5.44l.94 2.06.94-2.06 2.06-.94-2.06-.94-.94-2.06-.94 2.06-2.06.94zm-11 1L8.5 8.5l.94-2.06 2.06-.94-2.06-.94L8.5 2.5l-.94 2.06-2.06.94zm10 10l.94 2.06.94-2.06 2.06-.94-2.06-.94-.94-2.06-.94 2.06-2.06.94z\"/><path d=\"M17.41 7.96l-1.37-1.37c-.4-.4-.92-.59-1.43-.59-.52 0-1.04.2-1.43.59L10.3 9.45l-7.72 7.72c-.78.78-.78 2.05 0 2.83L4 21.41c.39.39.9.59 1.41.59.51 0 1.02-.2 1.41-.59l7.78-7.78 2.81-2.81c.8-.78.8-2.07 0-2.86zM5.41 20L4 18.59l7.72-7.72 1.47 1.35L5.41 20z\"/>\n",
              "  </svg>\n",
              "      </button>\n",
              "      \n",
              "  <style>\n",
              "    .colab-df-container {\n",
              "      display:flex;\n",
              "      flex-wrap:wrap;\n",
              "      gap: 12px;\n",
              "    }\n",
              "\n",
              "    .colab-df-convert {\n",
              "      background-color: #E8F0FE;\n",
              "      border: none;\n",
              "      border-radius: 50%;\n",
              "      cursor: pointer;\n",
              "      display: none;\n",
              "      fill: #1967D2;\n",
              "      height: 32px;\n",
              "      padding: 0 0 0 0;\n",
              "      width: 32px;\n",
              "    }\n",
              "\n",
              "    .colab-df-convert:hover {\n",
              "      background-color: #E2EBFA;\n",
              "      box-shadow: 0px 1px 2px rgba(60, 64, 67, 0.3), 0px 1px 3px 1px rgba(60, 64, 67, 0.15);\n",
              "      fill: #174EA6;\n",
              "    }\n",
              "\n",
              "    [theme=dark] .colab-df-convert {\n",
              "      background-color: #3B4455;\n",
              "      fill: #D2E3FC;\n",
              "    }\n",
              "\n",
              "    [theme=dark] .colab-df-convert:hover {\n",
              "      background-color: #434B5C;\n",
              "      box-shadow: 0px 1px 3px 1px rgba(0, 0, 0, 0.15);\n",
              "      filter: drop-shadow(0px 1px 2px rgba(0, 0, 0, 0.3));\n",
              "      fill: #FFFFFF;\n",
              "    }\n",
              "  </style>\n",
              "\n",
              "      <script>\n",
              "        const buttonEl =\n",
              "          document.querySelector('#df-693bb621-30b0-4d6d-89e2-7425872d1fd2 button.colab-df-convert');\n",
              "        buttonEl.style.display =\n",
              "          google.colab.kernel.accessAllowed ? 'block' : 'none';\n",
              "\n",
              "        async function convertToInteractive(key) {\n",
              "          const element = document.querySelector('#df-693bb621-30b0-4d6d-89e2-7425872d1fd2');\n",
              "          const dataTable =\n",
              "            await google.colab.kernel.invokeFunction('convertToInteractive',\n",
              "                                                     [key], {});\n",
              "          if (!dataTable) return;\n",
              "\n",
              "          const docLinkHtml = 'Like what you see? Visit the ' +\n",
              "            '<a target=\"_blank\" href=https://colab.research.google.com/notebooks/data_table.ipynb>data table notebook</a>'\n",
              "            + ' to learn more about interactive tables.';\n",
              "          element.innerHTML = '';\n",
              "          dataTable['output_type'] = 'display_data';\n",
              "          await google.colab.output.renderOutput(dataTable, element);\n",
              "          const docLink = document.createElement('div');\n",
              "          docLink.innerHTML = docLinkHtml;\n",
              "          element.appendChild(docLink);\n",
              "        }\n",
              "      </script>\n",
              "    </div>\n",
              "  </div>\n",
              "  "
            ]
          },
          "metadata": {},
          "execution_count": 164
        },
        {
          "output_type": "stream",
          "name": "stdout",
          "text": [
            "time: 338 ms (started: 2023-02-04 07:43:09 +00:00)\n"
          ]
        }
      ],
      "source": [
        "test_score = (accuracy_score(y_test, xgb_rcv.predict(X_test)) * 100).astype(int)\n",
        "train_score = (accuracy_score(y_train,xgb_rcv.predict(X_train)) * 100).astype(int)\n",
        "test_f1 = (f1_score(y_test, xgb_rcv.predict(X_test),average='weighted') * 100).astype(int)\n",
        "train_f1 = (f1_score(y_train, xgb_rcv.predict(X_train),average='weighted') * 100).astype(int)\n",
        "scores = cross_val_score(xgb_rcv, X, y, cv=10, scoring='accuracy')\n",
        "\n",
        "results_dfr2 = pd.DataFrame(data=[[\"RHT XGB\", train_score, test_score, train_f1, test_f1,\"%0.2f\" %scores.mean()]], \n",
        "                          columns=['Model', 'Tr Acc.', 'Tst Acc.','Tr F1','Tst F1','Cross_Val'])\n",
        "\n",
        "results_dfr = results_dfr.append(results_dfr2, ignore_index=True)\n",
        "results_dfr"
      ]
    },
    {
      "cell_type": "code",
      "source": [
        "results_df"
      ],
      "metadata": {
        "colab": {
          "base_uri": "https://localhost:8080/",
          "height": 255
        },
        "id": "ZjMXBsRUgK5F",
        "outputId": "5cda0336-1849-4c07-ac1e-ff4d0a592812"
      },
      "execution_count": 165,
      "outputs": [
        {
          "output_type": "execute_result",
          "data": {
            "text/plain": [
              "                Model  Acc. Tr  Acc. Tst  F1 Tr  F1 tst    CV\n",
              "0  LogisticRegression       85        72     85      71  0.80\n",
              "1       Decision Tree       99        76     99      76  0.71\n",
              "2       Random Forest       99        80     99      79  0.81\n",
              "3  KNearest Neighbour       86        72     85      72  0.79\n",
              "4            AdaBoost       88        84     88      83  0.82\n",
              "5             XGBoost       92        80     92      80  0.82"
            ],
            "text/html": [
              "\n",
              "  <div id=\"df-310d616c-3c4c-49b7-adb9-78da81bba07c\">\n",
              "    <div class=\"colab-df-container\">\n",
              "      <div>\n",
              "<style scoped>\n",
              "    .dataframe tbody tr th:only-of-type {\n",
              "        vertical-align: middle;\n",
              "    }\n",
              "\n",
              "    .dataframe tbody tr th {\n",
              "        vertical-align: top;\n",
              "    }\n",
              "\n",
              "    .dataframe thead th {\n",
              "        text-align: right;\n",
              "    }\n",
              "</style>\n",
              "<table border=\"1\" class=\"dataframe\">\n",
              "  <thead>\n",
              "    <tr style=\"text-align: right;\">\n",
              "      <th></th>\n",
              "      <th>Model</th>\n",
              "      <th>Acc. Tr</th>\n",
              "      <th>Acc. Tst</th>\n",
              "      <th>F1 Tr</th>\n",
              "      <th>F1 tst</th>\n",
              "      <th>CV</th>\n",
              "    </tr>\n",
              "  </thead>\n",
              "  <tbody>\n",
              "    <tr>\n",
              "      <th>0</th>\n",
              "      <td>LogisticRegression</td>\n",
              "      <td>85</td>\n",
              "      <td>72</td>\n",
              "      <td>85</td>\n",
              "      <td>71</td>\n",
              "      <td>0.80</td>\n",
              "    </tr>\n",
              "    <tr>\n",
              "      <th>1</th>\n",
              "      <td>Decision Tree</td>\n",
              "      <td>99</td>\n",
              "      <td>76</td>\n",
              "      <td>99</td>\n",
              "      <td>76</td>\n",
              "      <td>0.71</td>\n",
              "    </tr>\n",
              "    <tr>\n",
              "      <th>2</th>\n",
              "      <td>Random Forest</td>\n",
              "      <td>99</td>\n",
              "      <td>80</td>\n",
              "      <td>99</td>\n",
              "      <td>79</td>\n",
              "      <td>0.81</td>\n",
              "    </tr>\n",
              "    <tr>\n",
              "      <th>3</th>\n",
              "      <td>KNearest Neighbour</td>\n",
              "      <td>86</td>\n",
              "      <td>72</td>\n",
              "      <td>85</td>\n",
              "      <td>72</td>\n",
              "      <td>0.79</td>\n",
              "    </tr>\n",
              "    <tr>\n",
              "      <th>4</th>\n",
              "      <td>AdaBoost</td>\n",
              "      <td>88</td>\n",
              "      <td>84</td>\n",
              "      <td>88</td>\n",
              "      <td>83</td>\n",
              "      <td>0.82</td>\n",
              "    </tr>\n",
              "    <tr>\n",
              "      <th>5</th>\n",
              "      <td>XGBoost</td>\n",
              "      <td>92</td>\n",
              "      <td>80</td>\n",
              "      <td>92</td>\n",
              "      <td>80</td>\n",
              "      <td>0.82</td>\n",
              "    </tr>\n",
              "  </tbody>\n",
              "</table>\n",
              "</div>\n",
              "      <button class=\"colab-df-convert\" onclick=\"convertToInteractive('df-310d616c-3c4c-49b7-adb9-78da81bba07c')\"\n",
              "              title=\"Convert this dataframe to an interactive table.\"\n",
              "              style=\"display:none;\">\n",
              "        \n",
              "  <svg xmlns=\"http://www.w3.org/2000/svg\" height=\"24px\"viewBox=\"0 0 24 24\"\n",
              "       width=\"24px\">\n",
              "    <path d=\"M0 0h24v24H0V0z\" fill=\"none\"/>\n",
              "    <path d=\"M18.56 5.44l.94 2.06.94-2.06 2.06-.94-2.06-.94-.94-2.06-.94 2.06-2.06.94zm-11 1L8.5 8.5l.94-2.06 2.06-.94-2.06-.94L8.5 2.5l-.94 2.06-2.06.94zm10 10l.94 2.06.94-2.06 2.06-.94-2.06-.94-.94-2.06-.94 2.06-2.06.94z\"/><path d=\"M17.41 7.96l-1.37-1.37c-.4-.4-.92-.59-1.43-.59-.52 0-1.04.2-1.43.59L10.3 9.45l-7.72 7.72c-.78.78-.78 2.05 0 2.83L4 21.41c.39.39.9.59 1.41.59.51 0 1.02-.2 1.41-.59l7.78-7.78 2.81-2.81c.8-.78.8-2.07 0-2.86zM5.41 20L4 18.59l7.72-7.72 1.47 1.35L5.41 20z\"/>\n",
              "  </svg>\n",
              "      </button>\n",
              "      \n",
              "  <style>\n",
              "    .colab-df-container {\n",
              "      display:flex;\n",
              "      flex-wrap:wrap;\n",
              "      gap: 12px;\n",
              "    }\n",
              "\n",
              "    .colab-df-convert {\n",
              "      background-color: #E8F0FE;\n",
              "      border: none;\n",
              "      border-radius: 50%;\n",
              "      cursor: pointer;\n",
              "      display: none;\n",
              "      fill: #1967D2;\n",
              "      height: 32px;\n",
              "      padding: 0 0 0 0;\n",
              "      width: 32px;\n",
              "    }\n",
              "\n",
              "    .colab-df-convert:hover {\n",
              "      background-color: #E2EBFA;\n",
              "      box-shadow: 0px 1px 2px rgba(60, 64, 67, 0.3), 0px 1px 3px 1px rgba(60, 64, 67, 0.15);\n",
              "      fill: #174EA6;\n",
              "    }\n",
              "\n",
              "    [theme=dark] .colab-df-convert {\n",
              "      background-color: #3B4455;\n",
              "      fill: #D2E3FC;\n",
              "    }\n",
              "\n",
              "    [theme=dark] .colab-df-convert:hover {\n",
              "      background-color: #434B5C;\n",
              "      box-shadow: 0px 1px 3px 1px rgba(0, 0, 0, 0.15);\n",
              "      filter: drop-shadow(0px 1px 2px rgba(0, 0, 0, 0.3));\n",
              "      fill: #FFFFFF;\n",
              "    }\n",
              "  </style>\n",
              "\n",
              "      <script>\n",
              "        const buttonEl =\n",
              "          document.querySelector('#df-310d616c-3c4c-49b7-adb9-78da81bba07c button.colab-df-convert');\n",
              "        buttonEl.style.display =\n",
              "          google.colab.kernel.accessAllowed ? 'block' : 'none';\n",
              "\n",
              "        async function convertToInteractive(key) {\n",
              "          const element = document.querySelector('#df-310d616c-3c4c-49b7-adb9-78da81bba07c');\n",
              "          const dataTable =\n",
              "            await google.colab.kernel.invokeFunction('convertToInteractive',\n",
              "                                                     [key], {});\n",
              "          if (!dataTable) return;\n",
              "\n",
              "          const docLinkHtml = 'Like what you see? Visit the ' +\n",
              "            '<a target=\"_blank\" href=https://colab.research.google.com/notebooks/data_table.ipynb>data table notebook</a>'\n",
              "            + ' to learn more about interactive tables.';\n",
              "          element.innerHTML = '';\n",
              "          dataTable['output_type'] = 'display_data';\n",
              "          await google.colab.output.renderOutput(dataTable, element);\n",
              "          const docLink = document.createElement('div');\n",
              "          docLink.innerHTML = docLinkHtml;\n",
              "          element.appendChild(docLink);\n",
              "        }\n",
              "      </script>\n",
              "    </div>\n",
              "  </div>\n",
              "  "
            ]
          },
          "metadata": {},
          "execution_count": 165
        },
        {
          "output_type": "stream",
          "name": "stdout",
          "text": [
            "time: 8.68 ms (started: 2023-02-04 07:43:10 +00:00)\n"
          ]
        }
      ]
    },
    {
      "cell_type": "code",
      "source": [
        "results_dfg"
      ],
      "metadata": {
        "colab": {
          "base_uri": "https://localhost:8080/",
          "height": 255
        },
        "id": "4redOblvgPCg",
        "outputId": "3c8a6dbd-26d4-46e7-84d2-ec1c9417c364"
      },
      "execution_count": 166,
      "outputs": [
        {
          "output_type": "execute_result",
          "data": {
            "text/plain": [
              "                    Model  Acc. Tr  Acc. Tst  F1 Tr  F1 tst    CV\n",
              "0  HTG LogisticRegression       84        72     84      71  0.79\n",
              "1            HTG Dec Tree       85        76     85      75  0.80\n",
              "2         HTG RandForTree       87        88     87      87  0.84\n",
              "3                 HTG KNN       83        76     83      75  0.80\n",
              "4                 HTG ADB       86        88     86      87  0.84\n",
              "5                 HTG XGB       88        88     87      88  0.83"
            ],
            "text/html": [
              "\n",
              "  <div id=\"df-f0cdbd58-0ad8-4281-81c5-557a6c17f2cf\">\n",
              "    <div class=\"colab-df-container\">\n",
              "      <div>\n",
              "<style scoped>\n",
              "    .dataframe tbody tr th:only-of-type {\n",
              "        vertical-align: middle;\n",
              "    }\n",
              "\n",
              "    .dataframe tbody tr th {\n",
              "        vertical-align: top;\n",
              "    }\n",
              "\n",
              "    .dataframe thead th {\n",
              "        text-align: right;\n",
              "    }\n",
              "</style>\n",
              "<table border=\"1\" class=\"dataframe\">\n",
              "  <thead>\n",
              "    <tr style=\"text-align: right;\">\n",
              "      <th></th>\n",
              "      <th>Model</th>\n",
              "      <th>Acc. Tr</th>\n",
              "      <th>Acc. Tst</th>\n",
              "      <th>F1 Tr</th>\n",
              "      <th>F1 tst</th>\n",
              "      <th>CV</th>\n",
              "    </tr>\n",
              "  </thead>\n",
              "  <tbody>\n",
              "    <tr>\n",
              "      <th>0</th>\n",
              "      <td>HTG LogisticRegression</td>\n",
              "      <td>84</td>\n",
              "      <td>72</td>\n",
              "      <td>84</td>\n",
              "      <td>71</td>\n",
              "      <td>0.79</td>\n",
              "    </tr>\n",
              "    <tr>\n",
              "      <th>1</th>\n",
              "      <td>HTG Dec Tree</td>\n",
              "      <td>85</td>\n",
              "      <td>76</td>\n",
              "      <td>85</td>\n",
              "      <td>75</td>\n",
              "      <td>0.80</td>\n",
              "    </tr>\n",
              "    <tr>\n",
              "      <th>2</th>\n",
              "      <td>HTG RandForTree</td>\n",
              "      <td>87</td>\n",
              "      <td>88</td>\n",
              "      <td>87</td>\n",
              "      <td>87</td>\n",
              "      <td>0.84</td>\n",
              "    </tr>\n",
              "    <tr>\n",
              "      <th>3</th>\n",
              "      <td>HTG KNN</td>\n",
              "      <td>83</td>\n",
              "      <td>76</td>\n",
              "      <td>83</td>\n",
              "      <td>75</td>\n",
              "      <td>0.80</td>\n",
              "    </tr>\n",
              "    <tr>\n",
              "      <th>4</th>\n",
              "      <td>HTG ADB</td>\n",
              "      <td>86</td>\n",
              "      <td>88</td>\n",
              "      <td>86</td>\n",
              "      <td>87</td>\n",
              "      <td>0.84</td>\n",
              "    </tr>\n",
              "    <tr>\n",
              "      <th>5</th>\n",
              "      <td>HTG XGB</td>\n",
              "      <td>88</td>\n",
              "      <td>88</td>\n",
              "      <td>87</td>\n",
              "      <td>88</td>\n",
              "      <td>0.83</td>\n",
              "    </tr>\n",
              "  </tbody>\n",
              "</table>\n",
              "</div>\n",
              "      <button class=\"colab-df-convert\" onclick=\"convertToInteractive('df-f0cdbd58-0ad8-4281-81c5-557a6c17f2cf')\"\n",
              "              title=\"Convert this dataframe to an interactive table.\"\n",
              "              style=\"display:none;\">\n",
              "        \n",
              "  <svg xmlns=\"http://www.w3.org/2000/svg\" height=\"24px\"viewBox=\"0 0 24 24\"\n",
              "       width=\"24px\">\n",
              "    <path d=\"M0 0h24v24H0V0z\" fill=\"none\"/>\n",
              "    <path d=\"M18.56 5.44l.94 2.06.94-2.06 2.06-.94-2.06-.94-.94-2.06-.94 2.06-2.06.94zm-11 1L8.5 8.5l.94-2.06 2.06-.94-2.06-.94L8.5 2.5l-.94 2.06-2.06.94zm10 10l.94 2.06.94-2.06 2.06-.94-2.06-.94-.94-2.06-.94 2.06-2.06.94z\"/><path d=\"M17.41 7.96l-1.37-1.37c-.4-.4-.92-.59-1.43-.59-.52 0-1.04.2-1.43.59L10.3 9.45l-7.72 7.72c-.78.78-.78 2.05 0 2.83L4 21.41c.39.39.9.59 1.41.59.51 0 1.02-.2 1.41-.59l7.78-7.78 2.81-2.81c.8-.78.8-2.07 0-2.86zM5.41 20L4 18.59l7.72-7.72 1.47 1.35L5.41 20z\"/>\n",
              "  </svg>\n",
              "      </button>\n",
              "      \n",
              "  <style>\n",
              "    .colab-df-container {\n",
              "      display:flex;\n",
              "      flex-wrap:wrap;\n",
              "      gap: 12px;\n",
              "    }\n",
              "\n",
              "    .colab-df-convert {\n",
              "      background-color: #E8F0FE;\n",
              "      border: none;\n",
              "      border-radius: 50%;\n",
              "      cursor: pointer;\n",
              "      display: none;\n",
              "      fill: #1967D2;\n",
              "      height: 32px;\n",
              "      padding: 0 0 0 0;\n",
              "      width: 32px;\n",
              "    }\n",
              "\n",
              "    .colab-df-convert:hover {\n",
              "      background-color: #E2EBFA;\n",
              "      box-shadow: 0px 1px 2px rgba(60, 64, 67, 0.3), 0px 1px 3px 1px rgba(60, 64, 67, 0.15);\n",
              "      fill: #174EA6;\n",
              "    }\n",
              "\n",
              "    [theme=dark] .colab-df-convert {\n",
              "      background-color: #3B4455;\n",
              "      fill: #D2E3FC;\n",
              "    }\n",
              "\n",
              "    [theme=dark] .colab-df-convert:hover {\n",
              "      background-color: #434B5C;\n",
              "      box-shadow: 0px 1px 3px 1px rgba(0, 0, 0, 0.15);\n",
              "      filter: drop-shadow(0px 1px 2px rgba(0, 0, 0, 0.3));\n",
              "      fill: #FFFFFF;\n",
              "    }\n",
              "  </style>\n",
              "\n",
              "      <script>\n",
              "        const buttonEl =\n",
              "          document.querySelector('#df-f0cdbd58-0ad8-4281-81c5-557a6c17f2cf button.colab-df-convert');\n",
              "        buttonEl.style.display =\n",
              "          google.colab.kernel.accessAllowed ? 'block' : 'none';\n",
              "\n",
              "        async function convertToInteractive(key) {\n",
              "          const element = document.querySelector('#df-f0cdbd58-0ad8-4281-81c5-557a6c17f2cf');\n",
              "          const dataTable =\n",
              "            await google.colab.kernel.invokeFunction('convertToInteractive',\n",
              "                                                     [key], {});\n",
              "          if (!dataTable) return;\n",
              "\n",
              "          const docLinkHtml = 'Like what you see? Visit the ' +\n",
              "            '<a target=\"_blank\" href=https://colab.research.google.com/notebooks/data_table.ipynb>data table notebook</a>'\n",
              "            + ' to learn more about interactive tables.';\n",
              "          element.innerHTML = '';\n",
              "          dataTable['output_type'] = 'display_data';\n",
              "          await google.colab.output.renderOutput(dataTable, element);\n",
              "          const docLink = document.createElement('div');\n",
              "          docLink.innerHTML = docLinkHtml;\n",
              "          element.appendChild(docLink);\n",
              "        }\n",
              "      </script>\n",
              "    </div>\n",
              "  </div>\n",
              "  "
            ]
          },
          "metadata": {},
          "execution_count": 166
        },
        {
          "output_type": "stream",
          "name": "stdout",
          "text": [
            "time: 13 ms (started: 2023-02-04 07:43:10 +00:00)\n"
          ]
        }
      ]
    },
    {
      "cell_type": "markdown",
      "metadata": {
        "id": "1Lrmej2YTJZ4"
      },
      "source": [
        "**OBSERVATION**\n",
        "\n",
        "- We prepared Models using various Classifiers.\n",
        "- Further we Tuned the Parameters using Grid Search CV and Random Search CV\n",
        "- Based on the Evaluation Metric there are few Observations.\n",
        "\n",
        "1. In the initial Model Evaluation **Random Forest**, **ADABoost** & **XGBoost**\n",
        "had better results, but ADABoost was with less Variance between Training and Testing Data.\n",
        "2.In the Tuned Model with Grid Search CV Evaluation **Random Forest**, **ADABoost** & **XGBoost** are better with the Variance reduced and better CV Scores in all Cases\n",
        "2.In the Tuned Model with Randomized Search CV Evaluation **Random Forest**, **ADABoost** & **XGBoost** are better with the Variance and CV Scores almost Similar to the Initial Evaluation.\n",
        "\n",
        "-Based on the Best Models we will use Gradient Clasiifiers and Stacking Classifiers to Optimize the Models.\n"
      ]
    },
    {
      "cell_type": "markdown",
      "metadata": {
        "id": "kosal2e9RUpA"
      },
      "source": [
        "[*Go Back to Index*](#Section0)<br>"
      ]
    },
    {
      "cell_type": "markdown",
      "metadata": {
        "id": "AUYbIDiZRo2d"
      },
      "source": [
        "<a name = Section11></a>\n",
        "\n",
        "---\n",
        "# **11. Optimisation using Gradient & Stacking Classifiers**\n",
        "---\n",
        "\n",
        "- In this Section based on the Evaluation of Models we will use Gradient Boosting and Stacking Classifiers to OPtimize the Models.\n",
        "\n",
        "\n",
        "\n",
        "\n"
      ]
    },
    {
      "cell_type": "code",
      "source": [
        "# Estimators for Model Evaluation from Secion 8\n",
        "est= [\n",
        "    ('logistic', lr_clf),\n",
        "    ('DecTree', dectree_clf),\n",
        "    ('knn', knn_clf),\n",
        "    ('randomforest', rfc_clf),\n",
        "    ('AdaBoost', adb_clf),\n",
        "    ('XgBoost', xgb_clf)\n",
        "]\n",
        "\n",
        "est"
      ],
      "metadata": {
        "colab": {
          "base_uri": "https://localhost:8080/"
        },
        "id": "UTY73Q2ui2n3",
        "outputId": "91de2b3e-d55a-4a20-c3d3-bfe69e89cd64"
      },
      "execution_count": 167,
      "outputs": [
        {
          "output_type": "execute_result",
          "data": {
            "text/plain": [
              "[('logistic', LogisticRegression(random_state=0)),\n",
              " ('DecTree', DecisionTreeClassifier(random_state=0)),\n",
              " ('knn', KNeighborsClassifier()),\n",
              " ('randomforest', RandomForestClassifier(n_estimators=1000, random_state=0)),\n",
              " ('AdaBoost', AdaBoostClassifier(learning_rate=1, random_state=42)),\n",
              " ('XgBoost', XGBClassifier(use_label_encoder=False))]"
            ]
          },
          "metadata": {},
          "execution_count": 167
        },
        {
          "output_type": "stream",
          "name": "stdout",
          "text": [
            "time: 8.9 ms (started: 2023-02-04 07:43:10 +00:00)\n"
          ]
        }
      ]
    },
    {
      "cell_type": "code",
      "source": [
        "# Estimators for Model Evaluation from Secion 9\n",
        "estg= [\n",
        "    ('logistic', lr_cvg),\n",
        "    ('DecTree', dectree_cvg),\n",
        "    ('knn', knn_cvg),\n",
        "    ('randomforest', rfc_cvg),\n",
        "    ('AdaBoost', adb_gcv),\n",
        "    ('XgBoost', xgb_gcv)\n",
        "]\n",
        "\n",
        "estg"
      ],
      "metadata": {
        "colab": {
          "base_uri": "https://localhost:8080/"
        },
        "id": "QKu6zdMcjE1-",
        "outputId": "9df38982-ba88-459d-cfab-bd080b1aa762"
      },
      "execution_count": 168,
      "outputs": [
        {
          "output_type": "execute_result",
          "data": {
            "text/plain": [
              "[('logistic', LogisticRegression(C=0.08858667904100823, solver='liblinear')),\n",
              " ('DecTree',\n",
              "  DecisionTreeClassifier(criterion='entropy', max_depth=6, min_samples_leaf=8)),\n",
              " ('knn', KNeighborsClassifier(metric='manhattan', n_neighbors=10)),\n",
              " ('randomforest',\n",
              "  RandomForestClassifier(criterion='entropy', max_depth=6, min_samples_leaf=8)),\n",
              " ('AdaBoost', AdaBoostClassifier(learning_rate=0.01, n_estimators=500)),\n",
              " ('XgBoost', XGBClassifier(learning_rate=0.05, max_depth=2, n_estimators=180))]"
            ]
          },
          "metadata": {},
          "execution_count": 168
        },
        {
          "output_type": "stream",
          "name": "stdout",
          "text": [
            "time: 8.9 ms (started: 2023-02-04 07:43:10 +00:00)\n"
          ]
        }
      ]
    },
    {
      "cell_type": "code",
      "source": [
        "# Estimators for Model Evaluation from Secion 10\n",
        "estr= [\n",
        "    ('logistic', lr_rcv),\n",
        "    ('DecTree', dectree_rcv),\n",
        "    ('knn', knn_rcv),\n",
        "    ('randomforest', rfc_rcv),\n",
        "    ('AdaBoost', adb_rcv),\n",
        "    ('XgBoost', xgb_rcv)\n",
        "]\n",
        "\n",
        "estr"
      ],
      "metadata": {
        "id": "Q1cNoRZ9jYr6",
        "colab": {
          "base_uri": "https://localhost:8080/"
        },
        "outputId": "083d1c92-4647-4941-8cc9-03d2fe04a84b"
      },
      "execution_count": 169,
      "outputs": [
        {
          "output_type": "execute_result",
          "data": {
            "text/plain": [
              "[('logistic', LogisticRegression(C=0.08858667904100823, solver='liblinear')),\n",
              " ('DecTree',\n",
              "  DecisionTreeClassifier(max_depth=10, min_samples_leaf=6, min_samples_split=4)),\n",
              " ('knn', KNeighborsClassifier(metric='manhattan', n_neighbors=3)),\n",
              " ('randomforest',\n",
              "  RandomForestClassifier(max_depth=10, min_samples_leaf=2, n_estimators=50)),\n",
              " ('AdaBoost', AdaBoostClassifier(n_estimators=500)),\n",
              " ('XgBoost', XGBClassifier())]"
            ]
          },
          "metadata": {},
          "execution_count": 169
        },
        {
          "output_type": "stream",
          "name": "stdout",
          "text": [
            "time: 8 ms (started: 2023-02-04 07:43:10 +00:00)\n"
          ]
        }
      ]
    },
    {
      "cell_type": "code",
      "source": [
        "# Final Estimators using the best Params for Optimization\n",
        "estf= [\n",
        "    \n",
        "    ('DecTree', dectree_cvg),\n",
        "    ('randomforest', rfc_cvg),\n",
        "    ('AdaBoost', adb_rcv),\n",
        "    ('XgBoost', xgb_gcv)\n",
        "]\n",
        "\n",
        "estf"
      ],
      "metadata": {
        "colab": {
          "base_uri": "https://localhost:8080/"
        },
        "id": "i0HwYpf4nW0R",
        "outputId": "ab7c33c5-413f-4031-e171-cc147d3e3b06"
      },
      "execution_count": 170,
      "outputs": [
        {
          "output_type": "execute_result",
          "data": {
            "text/plain": [
              "[('DecTree',\n",
              "  DecisionTreeClassifier(criterion='entropy', max_depth=6, min_samples_leaf=8)),\n",
              " ('randomforest',\n",
              "  RandomForestClassifier(criterion='entropy', max_depth=6, min_samples_leaf=8)),\n",
              " ('AdaBoost', AdaBoostClassifier(n_estimators=500)),\n",
              " ('XgBoost', XGBClassifier(learning_rate=0.05, max_depth=2, n_estimators=180))]"
            ]
          },
          "metadata": {},
          "execution_count": 170
        },
        {
          "output_type": "stream",
          "name": "stdout",
          "text": [
            "time: 6.15 ms (started: 2023-02-04 07:43:10 +00:00)\n"
          ]
        }
      ]
    },
    {
      "cell_type": "code",
      "execution_count": 172,
      "metadata": {
        "ExecuteTime": {
          "end_time": "2023-01-15T04:25:29.649389Z",
          "start_time": "2023-01-15T04:25:22.723492Z"
        },
        "colab": {
          "base_uri": "https://localhost:8080/"
        },
        "outputId": "beebac53-a4bd-4d8e-c577-c27300d5b2c8",
        "id": "5zIebVtBu-GX"
      },
      "outputs": [
        {
          "output_type": "stream",
          "name": "stdout",
          "text": [
            "Classifier Name: StackingClassifier\n",
            "Train score: 0.8940092165898618\n",
            "Test score: 0.88\n",
            "time: 11.1 s (started: 2023-02-04 07:49:00 +00:00)\n"
          ]
        }
      ],
      "source": [
        "from sklearn.ensemble import GradientBoostingClassifier\n",
        "from sklearn.ensemble import StackingClassifier\n",
        "\n",
        "\n",
        "stack_clf = StackingClassifier(estimators=estf,\n",
        "            final_estimator=LogisticRegression(random_state=42), \n",
        "                               n_jobs=-1, \n",
        "                               cv=5)\n",
        "\n",
        "stack_clf.fit(X_train, y_train)\n",
        "\n",
        "a = stack_clf.score(X_train, y_train)\n",
        "b = stack_clf.score(X_test, y_test)\n",
        "c = stack_clf.__class__.__name__\n",
        "print(\"Classifier Name:\",c)\n",
        "print(\"Train score:\",a)\n",
        "print(\"Test score:\",b)"
      ]
    },
    {
      "cell_type": "markdown",
      "metadata": {
        "id": "vxmHBQ7cVup0"
      },
      "source": [
        "**OBSERVATION**\n",
        "\n",
        "- After using different Evalaution and Trials we used the Final Estimators to Evaluate the Models using Gradient Classifiers and Stacking Classifiers.\n",
        "\n",
        "- Stacking Classifier Model is better with Good Accuracy and Less Variation between the Train and Test Score.\n",
        "\n",
        "- Hence we will be using this Model for Evaluation of the Unseen Data"
      ]
    },
    {
      "cell_type": "markdown",
      "metadata": {
        "id": "0w-57aUUS32W"
      },
      "source": [
        "[*Go Back to Index*](#Section0)<br>"
      ]
    },
    {
      "cell_type": "markdown",
      "metadata": {
        "id": "9qLcaispG-Tn"
      },
      "source": [
        "<a name = Section12></a>\n",
        "\n",
        "---\n",
        "# **12. Evaluation of Test Data**\n",
        "---\n",
        "\n",
        "- Here initially we will **prepare the Test Data**\n",
        "- Further we will do the **Prediction of the Test Data**\n",
        "- Finally **Download the result** \n"
      ]
    },
    {
      "cell_type": "code",
      "source": [
        "had_test = pd.read_excel(\"https://github.com/Samit8878/samitcolab/blob/main/heart_test.xlsx?raw=true\")\n"
      ],
      "metadata": {
        "id": "CUiPkQq7OB4F",
        "colab": {
          "base_uri": "https://localhost:8080/"
        },
        "outputId": "2de703ec-add2-4d6b-c8d8-af4677dafed3"
      },
      "execution_count": 174,
      "outputs": [
        {
          "output_type": "stream",
          "name": "stdout",
          "text": [
            "time: 344 ms (started: 2023-02-04 07:52:58 +00:00)\n"
          ]
        }
      ]
    },
    {
      "cell_type": "code",
      "source": [
        "had_test['age']=pd.cut(x=had_test['age'], bins=[20, 40, 60, 99],labels=[0, 1, 2])\n"
      ],
      "metadata": {
        "id": "l9K-XpiFwLHa",
        "colab": {
          "base_uri": "https://localhost:8080/"
        },
        "outputId": "81d29ff2-8af3-42e4-cae4-74aede9ed347"
      },
      "execution_count": 175,
      "outputs": [
        {
          "output_type": "stream",
          "name": "stdout",
          "text": [
            "time: 7.3 ms (started: 2023-02-04 07:52:58 +00:00)\n"
          ]
        }
      ]
    },
    {
      "cell_type": "code",
      "source": [
        "had_test['chol']=pd.cut(x=had_test['chol'], bins=[50, 200, 300, 400, 990],labels=['L', 'M', 'H', 'VH'])\n",
        "had_test['thalachh']=pd.cut(x=had_test['thalachh'], bins=[0, 60, 120, 180, 250],labels=['L', 'M', 'H', 'VH'])\n",
        "had_test['trtbps']=pd.cut(x=had_test['trtbps'], bins=[0, 60, 120, 180, 250],labels=['L', 'M', 'H', 'VH'])\n",
        "had_test['oldpeak']=pd.cut(x=had_test['oldpeak'], bins=[0, 1, 2, 3 , 6],labels=['L', 'M', 'H', 'VH'])"
      ],
      "metadata": {
        "id": "rUkb_tsywh3r",
        "colab": {
          "base_uri": "https://localhost:8080/"
        },
        "outputId": "1f82fb55-fc2e-4342-bf39-7c54a282f620"
      },
      "execution_count": 176,
      "outputs": [
        {
          "output_type": "stream",
          "name": "stdout",
          "text": [
            "time: 9.88 ms (started: 2023-02-04 07:52:58 +00:00)\n"
          ]
        }
      ]
    },
    {
      "cell_type": "code",
      "source": [
        "had_test.head()"
      ],
      "metadata": {
        "id": "UIz7NvyNwh3t",
        "colab": {
          "base_uri": "https://localhost:8080/",
          "height": 224
        },
        "outputId": "d9ef6c67-69ee-4ff1-ba49-13499203d2d6"
      },
      "execution_count": 177,
      "outputs": [
        {
          "output_type": "execute_result",
          "data": {
            "text/plain": [
              "     Number age     sex      cp trtbps chol     fbs  restecg thalachh    exng  \\\n",
              "0 179.00000   1 1.00000 0.00000      H    M 0.00000  0.00000        M 1.00000   \n",
              "1 228.00000   1 1.00000 3.00000      H    M 0.00000  0.00000        H 0.00000   \n",
              "2 111.00000   1 1.00000 2.00000      H    L 1.00000  1.00000        H 0.00000   \n",
              "3 246.00000   1 0.00000 0.00000      H   VH 0.00000  0.00000        H 1.00000   \n",
              "4  60.00000   2 0.00000 2.00000      M    M 1.00000  0.00000        H 0.00000   \n",
              "\n",
              "  oldpeak     slp     caa   thall  output  \n",
              "0       L 1.00000 1.00000 1.00000 0.00000  \n",
              "1       L 1.00000 0.00000 3.00000 0.00000  \n",
              "2       L 2.00000 1.00000 3.00000 1.00000  \n",
              "3       M 1.00000 2.00000 3.00000 0.00000  \n",
              "4     NaN 2.00000 1.00000 2.00000 1.00000  "
            ],
            "text/html": [
              "\n",
              "  <div id=\"df-cbf0c80c-a973-47ce-918d-0bb2d9a90096\">\n",
              "    <div class=\"colab-df-container\">\n",
              "      <div>\n",
              "<style scoped>\n",
              "    .dataframe tbody tr th:only-of-type {\n",
              "        vertical-align: middle;\n",
              "    }\n",
              "\n",
              "    .dataframe tbody tr th {\n",
              "        vertical-align: top;\n",
              "    }\n",
              "\n",
              "    .dataframe thead th {\n",
              "        text-align: right;\n",
              "    }\n",
              "</style>\n",
              "<table border=\"1\" class=\"dataframe\">\n",
              "  <thead>\n",
              "    <tr style=\"text-align: right;\">\n",
              "      <th></th>\n",
              "      <th>Number</th>\n",
              "      <th>age</th>\n",
              "      <th>sex</th>\n",
              "      <th>cp</th>\n",
              "      <th>trtbps</th>\n",
              "      <th>chol</th>\n",
              "      <th>fbs</th>\n",
              "      <th>restecg</th>\n",
              "      <th>thalachh</th>\n",
              "      <th>exng</th>\n",
              "      <th>oldpeak</th>\n",
              "      <th>slp</th>\n",
              "      <th>caa</th>\n",
              "      <th>thall</th>\n",
              "      <th>output</th>\n",
              "    </tr>\n",
              "  </thead>\n",
              "  <tbody>\n",
              "    <tr>\n",
              "      <th>0</th>\n",
              "      <td>179.00000</td>\n",
              "      <td>1</td>\n",
              "      <td>1.00000</td>\n",
              "      <td>0.00000</td>\n",
              "      <td>H</td>\n",
              "      <td>M</td>\n",
              "      <td>0.00000</td>\n",
              "      <td>0.00000</td>\n",
              "      <td>M</td>\n",
              "      <td>1.00000</td>\n",
              "      <td>L</td>\n",
              "      <td>1.00000</td>\n",
              "      <td>1.00000</td>\n",
              "      <td>1.00000</td>\n",
              "      <td>0.00000</td>\n",
              "    </tr>\n",
              "    <tr>\n",
              "      <th>1</th>\n",
              "      <td>228.00000</td>\n",
              "      <td>1</td>\n",
              "      <td>1.00000</td>\n",
              "      <td>3.00000</td>\n",
              "      <td>H</td>\n",
              "      <td>M</td>\n",
              "      <td>0.00000</td>\n",
              "      <td>0.00000</td>\n",
              "      <td>H</td>\n",
              "      <td>0.00000</td>\n",
              "      <td>L</td>\n",
              "      <td>1.00000</td>\n",
              "      <td>0.00000</td>\n",
              "      <td>3.00000</td>\n",
              "      <td>0.00000</td>\n",
              "    </tr>\n",
              "    <tr>\n",
              "      <th>2</th>\n",
              "      <td>111.00000</td>\n",
              "      <td>1</td>\n",
              "      <td>1.00000</td>\n",
              "      <td>2.00000</td>\n",
              "      <td>H</td>\n",
              "      <td>L</td>\n",
              "      <td>1.00000</td>\n",
              "      <td>1.00000</td>\n",
              "      <td>H</td>\n",
              "      <td>0.00000</td>\n",
              "      <td>L</td>\n",
              "      <td>2.00000</td>\n",
              "      <td>1.00000</td>\n",
              "      <td>3.00000</td>\n",
              "      <td>1.00000</td>\n",
              "    </tr>\n",
              "    <tr>\n",
              "      <th>3</th>\n",
              "      <td>246.00000</td>\n",
              "      <td>1</td>\n",
              "      <td>0.00000</td>\n",
              "      <td>0.00000</td>\n",
              "      <td>H</td>\n",
              "      <td>VH</td>\n",
              "      <td>0.00000</td>\n",
              "      <td>0.00000</td>\n",
              "      <td>H</td>\n",
              "      <td>1.00000</td>\n",
              "      <td>M</td>\n",
              "      <td>1.00000</td>\n",
              "      <td>2.00000</td>\n",
              "      <td>3.00000</td>\n",
              "      <td>0.00000</td>\n",
              "    </tr>\n",
              "    <tr>\n",
              "      <th>4</th>\n",
              "      <td>60.00000</td>\n",
              "      <td>2</td>\n",
              "      <td>0.00000</td>\n",
              "      <td>2.00000</td>\n",
              "      <td>M</td>\n",
              "      <td>M</td>\n",
              "      <td>1.00000</td>\n",
              "      <td>0.00000</td>\n",
              "      <td>H</td>\n",
              "      <td>0.00000</td>\n",
              "      <td>NaN</td>\n",
              "      <td>2.00000</td>\n",
              "      <td>1.00000</td>\n",
              "      <td>2.00000</td>\n",
              "      <td>1.00000</td>\n",
              "    </tr>\n",
              "  </tbody>\n",
              "</table>\n",
              "</div>\n",
              "      <button class=\"colab-df-convert\" onclick=\"convertToInteractive('df-cbf0c80c-a973-47ce-918d-0bb2d9a90096')\"\n",
              "              title=\"Convert this dataframe to an interactive table.\"\n",
              "              style=\"display:none;\">\n",
              "        \n",
              "  <svg xmlns=\"http://www.w3.org/2000/svg\" height=\"24px\"viewBox=\"0 0 24 24\"\n",
              "       width=\"24px\">\n",
              "    <path d=\"M0 0h24v24H0V0z\" fill=\"none\"/>\n",
              "    <path d=\"M18.56 5.44l.94 2.06.94-2.06 2.06-.94-2.06-.94-.94-2.06-.94 2.06-2.06.94zm-11 1L8.5 8.5l.94-2.06 2.06-.94-2.06-.94L8.5 2.5l-.94 2.06-2.06.94zm10 10l.94 2.06.94-2.06 2.06-.94-2.06-.94-.94-2.06-.94 2.06-2.06.94z\"/><path d=\"M17.41 7.96l-1.37-1.37c-.4-.4-.92-.59-1.43-.59-.52 0-1.04.2-1.43.59L10.3 9.45l-7.72 7.72c-.78.78-.78 2.05 0 2.83L4 21.41c.39.39.9.59 1.41.59.51 0 1.02-.2 1.41-.59l7.78-7.78 2.81-2.81c.8-.78.8-2.07 0-2.86zM5.41 20L4 18.59l7.72-7.72 1.47 1.35L5.41 20z\"/>\n",
              "  </svg>\n",
              "      </button>\n",
              "      \n",
              "  <style>\n",
              "    .colab-df-container {\n",
              "      display:flex;\n",
              "      flex-wrap:wrap;\n",
              "      gap: 12px;\n",
              "    }\n",
              "\n",
              "    .colab-df-convert {\n",
              "      background-color: #E8F0FE;\n",
              "      border: none;\n",
              "      border-radius: 50%;\n",
              "      cursor: pointer;\n",
              "      display: none;\n",
              "      fill: #1967D2;\n",
              "      height: 32px;\n",
              "      padding: 0 0 0 0;\n",
              "      width: 32px;\n",
              "    }\n",
              "\n",
              "    .colab-df-convert:hover {\n",
              "      background-color: #E2EBFA;\n",
              "      box-shadow: 0px 1px 2px rgba(60, 64, 67, 0.3), 0px 1px 3px 1px rgba(60, 64, 67, 0.15);\n",
              "      fill: #174EA6;\n",
              "    }\n",
              "\n",
              "    [theme=dark] .colab-df-convert {\n",
              "      background-color: #3B4455;\n",
              "      fill: #D2E3FC;\n",
              "    }\n",
              "\n",
              "    [theme=dark] .colab-df-convert:hover {\n",
              "      background-color: #434B5C;\n",
              "      box-shadow: 0px 1px 3px 1px rgba(0, 0, 0, 0.15);\n",
              "      filter: drop-shadow(0px 1px 2px rgba(0, 0, 0, 0.3));\n",
              "      fill: #FFFFFF;\n",
              "    }\n",
              "  </style>\n",
              "\n",
              "      <script>\n",
              "        const buttonEl =\n",
              "          document.querySelector('#df-cbf0c80c-a973-47ce-918d-0bb2d9a90096 button.colab-df-convert');\n",
              "        buttonEl.style.display =\n",
              "          google.colab.kernel.accessAllowed ? 'block' : 'none';\n",
              "\n",
              "        async function convertToInteractive(key) {\n",
              "          const element = document.querySelector('#df-cbf0c80c-a973-47ce-918d-0bb2d9a90096');\n",
              "          const dataTable =\n",
              "            await google.colab.kernel.invokeFunction('convertToInteractive',\n",
              "                                                     [key], {});\n",
              "          if (!dataTable) return;\n",
              "\n",
              "          const docLinkHtml = 'Like what you see? Visit the ' +\n",
              "            '<a target=\"_blank\" href=https://colab.research.google.com/notebooks/data_table.ipynb>data table notebook</a>'\n",
              "            + ' to learn more about interactive tables.';\n",
              "          element.innerHTML = '';\n",
              "          dataTable['output_type'] = 'display_data';\n",
              "          await google.colab.output.renderOutput(dataTable, element);\n",
              "          const docLink = document.createElement('div');\n",
              "          docLink.innerHTML = docLinkHtml;\n",
              "          element.appendChild(docLink);\n",
              "        }\n",
              "      </script>\n",
              "    </div>\n",
              "  </div>\n",
              "  "
            ]
          },
          "metadata": {},
          "execution_count": 177
        },
        {
          "output_type": "stream",
          "name": "stdout",
          "text": [
            "time: 22.3 ms (started: 2023-02-04 07:52:59 +00:00)\n"
          ]
        }
      ]
    },
    {
      "cell_type": "code",
      "source": [
        "had_test=pd.get_dummies(had_test, columns=['age', 'trtbps', 'chol', 'thalachh','oldpeak'], drop_first=True)"
      ],
      "metadata": {
        "id": "P1DScyMQwh3u",
        "colab": {
          "base_uri": "https://localhost:8080/"
        },
        "outputId": "10e0e12a-1b00-4e7e-9dae-e17cbae2da00"
      },
      "execution_count": 178,
      "outputs": [
        {
          "output_type": "stream",
          "name": "stdout",
          "text": [
            "time: 9.92 ms (started: 2023-02-04 07:52:59 +00:00)\n"
          ]
        }
      ]
    },
    {
      "cell_type": "code",
      "source": [
        "had_test1=had_test.drop(['Number','output'], axis=1)"
      ],
      "metadata": {
        "id": "xD1l6xTCye2j",
        "colab": {
          "base_uri": "https://localhost:8080/"
        },
        "outputId": "186a5767-a411-4f7f-96bb-448dedb9a45c"
      },
      "execution_count": 179,
      "outputs": [
        {
          "output_type": "stream",
          "name": "stdout",
          "text": [
            "time: 3.15 ms (started: 2023-02-04 07:52:59 +00:00)\n"
          ]
        }
      ]
    },
    {
      "cell_type": "code",
      "source": [
        "had_test1.head(1)"
      ],
      "metadata": {
        "id": "tdDkyTHfwh3v",
        "colab": {
          "base_uri": "https://localhost:8080/",
          "height": 162
        },
        "outputId": "ff1aa73b-780b-4147-afc6-cece544c2595"
      },
      "execution_count": 180,
      "outputs": [
        {
          "output_type": "execute_result",
          "data": {
            "text/plain": [
              "      sex      cp     fbs  restecg    exng     slp     caa   thall  age_1  \\\n",
              "0 1.00000 0.00000 0.00000  0.00000 1.00000 1.00000 1.00000 1.00000      1   \n",
              "\n",
              "   age_2  trtbps_M  trtbps_H  trtbps_VH  chol_M  chol_H  chol_VH  thalachh_M  \\\n",
              "0      0         0         1          0       1       0        0           1   \n",
              "\n",
              "   thalachh_H  thalachh_VH  oldpeak_M  oldpeak_H  oldpeak_VH  \n",
              "0           0            0          0          0           0  "
            ],
            "text/html": [
              "\n",
              "  <div id=\"df-91498579-1c0d-4f74-a20f-3cf0432b1a97\">\n",
              "    <div class=\"colab-df-container\">\n",
              "      <div>\n",
              "<style scoped>\n",
              "    .dataframe tbody tr th:only-of-type {\n",
              "        vertical-align: middle;\n",
              "    }\n",
              "\n",
              "    .dataframe tbody tr th {\n",
              "        vertical-align: top;\n",
              "    }\n",
              "\n",
              "    .dataframe thead th {\n",
              "        text-align: right;\n",
              "    }\n",
              "</style>\n",
              "<table border=\"1\" class=\"dataframe\">\n",
              "  <thead>\n",
              "    <tr style=\"text-align: right;\">\n",
              "      <th></th>\n",
              "      <th>sex</th>\n",
              "      <th>cp</th>\n",
              "      <th>fbs</th>\n",
              "      <th>restecg</th>\n",
              "      <th>exng</th>\n",
              "      <th>slp</th>\n",
              "      <th>caa</th>\n",
              "      <th>thall</th>\n",
              "      <th>age_1</th>\n",
              "      <th>age_2</th>\n",
              "      <th>trtbps_M</th>\n",
              "      <th>trtbps_H</th>\n",
              "      <th>trtbps_VH</th>\n",
              "      <th>chol_M</th>\n",
              "      <th>chol_H</th>\n",
              "      <th>chol_VH</th>\n",
              "      <th>thalachh_M</th>\n",
              "      <th>thalachh_H</th>\n",
              "      <th>thalachh_VH</th>\n",
              "      <th>oldpeak_M</th>\n",
              "      <th>oldpeak_H</th>\n",
              "      <th>oldpeak_VH</th>\n",
              "    </tr>\n",
              "  </thead>\n",
              "  <tbody>\n",
              "    <tr>\n",
              "      <th>0</th>\n",
              "      <td>1.00000</td>\n",
              "      <td>0.00000</td>\n",
              "      <td>0.00000</td>\n",
              "      <td>0.00000</td>\n",
              "      <td>1.00000</td>\n",
              "      <td>1.00000</td>\n",
              "      <td>1.00000</td>\n",
              "      <td>1.00000</td>\n",
              "      <td>1</td>\n",
              "      <td>0</td>\n",
              "      <td>0</td>\n",
              "      <td>1</td>\n",
              "      <td>0</td>\n",
              "      <td>1</td>\n",
              "      <td>0</td>\n",
              "      <td>0</td>\n",
              "      <td>1</td>\n",
              "      <td>0</td>\n",
              "      <td>0</td>\n",
              "      <td>0</td>\n",
              "      <td>0</td>\n",
              "      <td>0</td>\n",
              "    </tr>\n",
              "  </tbody>\n",
              "</table>\n",
              "</div>\n",
              "      <button class=\"colab-df-convert\" onclick=\"convertToInteractive('df-91498579-1c0d-4f74-a20f-3cf0432b1a97')\"\n",
              "              title=\"Convert this dataframe to an interactive table.\"\n",
              "              style=\"display:none;\">\n",
              "        \n",
              "  <svg xmlns=\"http://www.w3.org/2000/svg\" height=\"24px\"viewBox=\"0 0 24 24\"\n",
              "       width=\"24px\">\n",
              "    <path d=\"M0 0h24v24H0V0z\" fill=\"none\"/>\n",
              "    <path d=\"M18.56 5.44l.94 2.06.94-2.06 2.06-.94-2.06-.94-.94-2.06-.94 2.06-2.06.94zm-11 1L8.5 8.5l.94-2.06 2.06-.94-2.06-.94L8.5 2.5l-.94 2.06-2.06.94zm10 10l.94 2.06.94-2.06 2.06-.94-2.06-.94-.94-2.06-.94 2.06-2.06.94z\"/><path d=\"M17.41 7.96l-1.37-1.37c-.4-.4-.92-.59-1.43-.59-.52 0-1.04.2-1.43.59L10.3 9.45l-7.72 7.72c-.78.78-.78 2.05 0 2.83L4 21.41c.39.39.9.59 1.41.59.51 0 1.02-.2 1.41-.59l7.78-7.78 2.81-2.81c.8-.78.8-2.07 0-2.86zM5.41 20L4 18.59l7.72-7.72 1.47 1.35L5.41 20z\"/>\n",
              "  </svg>\n",
              "      </button>\n",
              "      \n",
              "  <style>\n",
              "    .colab-df-container {\n",
              "      display:flex;\n",
              "      flex-wrap:wrap;\n",
              "      gap: 12px;\n",
              "    }\n",
              "\n",
              "    .colab-df-convert {\n",
              "      background-color: #E8F0FE;\n",
              "      border: none;\n",
              "      border-radius: 50%;\n",
              "      cursor: pointer;\n",
              "      display: none;\n",
              "      fill: #1967D2;\n",
              "      height: 32px;\n",
              "      padding: 0 0 0 0;\n",
              "      width: 32px;\n",
              "    }\n",
              "\n",
              "    .colab-df-convert:hover {\n",
              "      background-color: #E2EBFA;\n",
              "      box-shadow: 0px 1px 2px rgba(60, 64, 67, 0.3), 0px 1px 3px 1px rgba(60, 64, 67, 0.15);\n",
              "      fill: #174EA6;\n",
              "    }\n",
              "\n",
              "    [theme=dark] .colab-df-convert {\n",
              "      background-color: #3B4455;\n",
              "      fill: #D2E3FC;\n",
              "    }\n",
              "\n",
              "    [theme=dark] .colab-df-convert:hover {\n",
              "      background-color: #434B5C;\n",
              "      box-shadow: 0px 1px 3px 1px rgba(0, 0, 0, 0.15);\n",
              "      filter: drop-shadow(0px 1px 2px rgba(0, 0, 0, 0.3));\n",
              "      fill: #FFFFFF;\n",
              "    }\n",
              "  </style>\n",
              "\n",
              "      <script>\n",
              "        const buttonEl =\n",
              "          document.querySelector('#df-91498579-1c0d-4f74-a20f-3cf0432b1a97 button.colab-df-convert');\n",
              "        buttonEl.style.display =\n",
              "          google.colab.kernel.accessAllowed ? 'block' : 'none';\n",
              "\n",
              "        async function convertToInteractive(key) {\n",
              "          const element = document.querySelector('#df-91498579-1c0d-4f74-a20f-3cf0432b1a97');\n",
              "          const dataTable =\n",
              "            await google.colab.kernel.invokeFunction('convertToInteractive',\n",
              "                                                     [key], {});\n",
              "          if (!dataTable) return;\n",
              "\n",
              "          const docLinkHtml = 'Like what you see? Visit the ' +\n",
              "            '<a target=\"_blank\" href=https://colab.research.google.com/notebooks/data_table.ipynb>data table notebook</a>'\n",
              "            + ' to learn more about interactive tables.';\n",
              "          element.innerHTML = '';\n",
              "          dataTable['output_type'] = 'display_data';\n",
              "          await google.colab.output.renderOutput(dataTable, element);\n",
              "          const docLink = document.createElement('div');\n",
              "          docLink.innerHTML = docLinkHtml;\n",
              "          element.appendChild(docLink);\n",
              "        }\n",
              "      </script>\n",
              "    </div>\n",
              "  </div>\n",
              "  "
            ]
          },
          "metadata": {},
          "execution_count": 180
        },
        {
          "output_type": "stream",
          "name": "stdout",
          "text": [
            "time: 17.3 ms (started: 2023-02-04 07:52:59 +00:00)\n"
          ]
        }
      ]
    },
    {
      "cell_type": "markdown",
      "metadata": {
        "id": "SSN6tufzwh3v"
      },
      "source": [
        "\n",
        "\n",
        "### **Data Preparation**\n",
        "\n",
        "- Now we will **split** our **data** in **training** and **testing** part for further development."
      ]
    },
    {
      "cell_type": "code",
      "source": [
        "X.columns"
      ],
      "metadata": {
        "id": "X7_6ptCizzDr",
        "colab": {
          "base_uri": "https://localhost:8080/"
        },
        "outputId": "052dc0cd-603f-4eb8-b2d6-8d21cbd7f50f"
      },
      "execution_count": 181,
      "outputs": [
        {
          "output_type": "execute_result",
          "data": {
            "text/plain": [
              "Index(['sex', 'cp', 'fbs', 'restecg', 'exng', 'slp', 'caa', 'thall', 'age_1',\n",
              "       'age_2', 'trtbps_M', 'trtbps_H', 'trtbps_VH', 'chol_M', 'chol_H',\n",
              "       'chol_VH', 'thalachh_M', 'thalachh_H', 'thalachh_VH', 'oldpeak_M',\n",
              "       'oldpeak_H', 'oldpeak_VH'],\n",
              "      dtype='object')"
            ]
          },
          "metadata": {},
          "execution_count": 181
        },
        {
          "output_type": "stream",
          "name": "stdout",
          "text": [
            "time: 6.03 ms (started: 2023-02-04 07:52:59 +00:00)\n"
          ]
        }
      ]
    },
    {
      "cell_type": "code",
      "source": [
        "had_test1.columns"
      ],
      "metadata": {
        "id": "eCJHbzzi0fti",
        "colab": {
          "base_uri": "https://localhost:8080/"
        },
        "outputId": "b3243a08-f775-40e5-d38d-a742c4c68de2"
      },
      "execution_count": 182,
      "outputs": [
        {
          "output_type": "execute_result",
          "data": {
            "text/plain": [
              "Index(['sex', 'cp', 'fbs', 'restecg', 'exng', 'slp', 'caa', 'thall', 'age_1',\n",
              "       'age_2', 'trtbps_M', 'trtbps_H', 'trtbps_VH', 'chol_M', 'chol_H',\n",
              "       'chol_VH', 'thalachh_M', 'thalachh_H', 'thalachh_VH', 'oldpeak_M',\n",
              "       'oldpeak_H', 'oldpeak_VH'],\n",
              "      dtype='object')"
            ]
          },
          "metadata": {},
          "execution_count": 182
        },
        {
          "output_type": "stream",
          "name": "stdout",
          "text": [
            "time: 5.62 ms (started: 2023-02-04 07:52:59 +00:00)\n"
          ]
        }
      ]
    },
    {
      "cell_type": "code",
      "execution_count": 183,
      "metadata": {
        "id": "d_qTxSqyEl9E",
        "colab": {
          "base_uri": "https://localhost:8080/",
          "height": 224
        },
        "outputId": "1c4dbfeb-3dd0-4a2a-807f-5c98ebd718af"
      },
      "outputs": [
        {
          "output_type": "execute_result",
          "data": {
            "text/plain": [
              "     Number  Output\n",
              "0 179.00000 0.00000\n",
              "1 228.00000 1.00000\n",
              "2 111.00000 1.00000\n",
              "3 246.00000 0.00000\n",
              "4  60.00000 1.00000"
            ],
            "text/html": [
              "\n",
              "  <div id=\"df-7b0b6209-1a79-44dc-85c6-950ffe9eb547\">\n",
              "    <div class=\"colab-df-container\">\n",
              "      <div>\n",
              "<style scoped>\n",
              "    .dataframe tbody tr th:only-of-type {\n",
              "        vertical-align: middle;\n",
              "    }\n",
              "\n",
              "    .dataframe tbody tr th {\n",
              "        vertical-align: top;\n",
              "    }\n",
              "\n",
              "    .dataframe thead th {\n",
              "        text-align: right;\n",
              "    }\n",
              "</style>\n",
              "<table border=\"1\" class=\"dataframe\">\n",
              "  <thead>\n",
              "    <tr style=\"text-align: right;\">\n",
              "      <th></th>\n",
              "      <th>Number</th>\n",
              "      <th>Output</th>\n",
              "    </tr>\n",
              "  </thead>\n",
              "  <tbody>\n",
              "    <tr>\n",
              "      <th>0</th>\n",
              "      <td>179.00000</td>\n",
              "      <td>0.00000</td>\n",
              "    </tr>\n",
              "    <tr>\n",
              "      <th>1</th>\n",
              "      <td>228.00000</td>\n",
              "      <td>1.00000</td>\n",
              "    </tr>\n",
              "    <tr>\n",
              "      <th>2</th>\n",
              "      <td>111.00000</td>\n",
              "      <td>1.00000</td>\n",
              "    </tr>\n",
              "    <tr>\n",
              "      <th>3</th>\n",
              "      <td>246.00000</td>\n",
              "      <td>0.00000</td>\n",
              "    </tr>\n",
              "    <tr>\n",
              "      <th>4</th>\n",
              "      <td>60.00000</td>\n",
              "      <td>1.00000</td>\n",
              "    </tr>\n",
              "  </tbody>\n",
              "</table>\n",
              "</div>\n",
              "      <button class=\"colab-df-convert\" onclick=\"convertToInteractive('df-7b0b6209-1a79-44dc-85c6-950ffe9eb547')\"\n",
              "              title=\"Convert this dataframe to an interactive table.\"\n",
              "              style=\"display:none;\">\n",
              "        \n",
              "  <svg xmlns=\"http://www.w3.org/2000/svg\" height=\"24px\"viewBox=\"0 0 24 24\"\n",
              "       width=\"24px\">\n",
              "    <path d=\"M0 0h24v24H0V0z\" fill=\"none\"/>\n",
              "    <path d=\"M18.56 5.44l.94 2.06.94-2.06 2.06-.94-2.06-.94-.94-2.06-.94 2.06-2.06.94zm-11 1L8.5 8.5l.94-2.06 2.06-.94-2.06-.94L8.5 2.5l-.94 2.06-2.06.94zm10 10l.94 2.06.94-2.06 2.06-.94-2.06-.94-.94-2.06-.94 2.06-2.06.94z\"/><path d=\"M17.41 7.96l-1.37-1.37c-.4-.4-.92-.59-1.43-.59-.52 0-1.04.2-1.43.59L10.3 9.45l-7.72 7.72c-.78.78-.78 2.05 0 2.83L4 21.41c.39.39.9.59 1.41.59.51 0 1.02-.2 1.41-.59l7.78-7.78 2.81-2.81c.8-.78.8-2.07 0-2.86zM5.41 20L4 18.59l7.72-7.72 1.47 1.35L5.41 20z\"/>\n",
              "  </svg>\n",
              "      </button>\n",
              "      \n",
              "  <style>\n",
              "    .colab-df-container {\n",
              "      display:flex;\n",
              "      flex-wrap:wrap;\n",
              "      gap: 12px;\n",
              "    }\n",
              "\n",
              "    .colab-df-convert {\n",
              "      background-color: #E8F0FE;\n",
              "      border: none;\n",
              "      border-radius: 50%;\n",
              "      cursor: pointer;\n",
              "      display: none;\n",
              "      fill: #1967D2;\n",
              "      height: 32px;\n",
              "      padding: 0 0 0 0;\n",
              "      width: 32px;\n",
              "    }\n",
              "\n",
              "    .colab-df-convert:hover {\n",
              "      background-color: #E2EBFA;\n",
              "      box-shadow: 0px 1px 2px rgba(60, 64, 67, 0.3), 0px 1px 3px 1px rgba(60, 64, 67, 0.15);\n",
              "      fill: #174EA6;\n",
              "    }\n",
              "\n",
              "    [theme=dark] .colab-df-convert {\n",
              "      background-color: #3B4455;\n",
              "      fill: #D2E3FC;\n",
              "    }\n",
              "\n",
              "    [theme=dark] .colab-df-convert:hover {\n",
              "      background-color: #434B5C;\n",
              "      box-shadow: 0px 1px 3px 1px rgba(0, 0, 0, 0.15);\n",
              "      filter: drop-shadow(0px 1px 2px rgba(0, 0, 0, 0.3));\n",
              "      fill: #FFFFFF;\n",
              "    }\n",
              "  </style>\n",
              "\n",
              "      <script>\n",
              "        const buttonEl =\n",
              "          document.querySelector('#df-7b0b6209-1a79-44dc-85c6-950ffe9eb547 button.colab-df-convert');\n",
              "        buttonEl.style.display =\n",
              "          google.colab.kernel.accessAllowed ? 'block' : 'none';\n",
              "\n",
              "        async function convertToInteractive(key) {\n",
              "          const element = document.querySelector('#df-7b0b6209-1a79-44dc-85c6-950ffe9eb547');\n",
              "          const dataTable =\n",
              "            await google.colab.kernel.invokeFunction('convertToInteractive',\n",
              "                                                     [key], {});\n",
              "          if (!dataTable) return;\n",
              "\n",
              "          const docLinkHtml = 'Like what you see? Visit the ' +\n",
              "            '<a target=\"_blank\" href=https://colab.research.google.com/notebooks/data_table.ipynb>data table notebook</a>'\n",
              "            + ' to learn more about interactive tables.';\n",
              "          element.innerHTML = '';\n",
              "          dataTable['output_type'] = 'display_data';\n",
              "          await google.colab.output.renderOutput(dataTable, element);\n",
              "          const docLink = document.createElement('div');\n",
              "          docLink.innerHTML = docLinkHtml;\n",
              "          element.appendChild(docLink);\n",
              "        }\n",
              "      </script>\n",
              "    </div>\n",
              "  </div>\n",
              "  "
            ]
          },
          "metadata": {},
          "execution_count": 183
        },
        {
          "output_type": "stream",
          "name": "stdout",
          "text": [
            "time: 112 ms (started: 2023-02-04 07:52:59 +00:00)\n"
          ]
        }
      ],
      "source": [
        "pred1 = pd.DataFrame(stack_clf.predict(had_test1))\n",
        "id=had_test['Number']\n",
        "pred1.insert(loc = 0,column = 'Number', value = id )\n",
        "pred1.rename(columns={0 :'Output'}, inplace=True)\n",
        "pred1.head()\n"
      ]
    },
    {
      "cell_type": "code",
      "execution_count": 184,
      "metadata": {
        "id": "xU7n2bdnXK1J",
        "colab": {
          "base_uri": "https://localhost:8080/",
          "height": 34
        },
        "outputId": "5a0e52e5-8de1-42e0-cfdd-eabca7e25ef3"
      },
      "outputs": [
        {
          "output_type": "display_data",
          "data": {
            "text/plain": [
              "<IPython.core.display.Javascript object>"
            ],
            "application/javascript": [
              "\n",
              "    async function download(id, filename, size) {\n",
              "      if (!google.colab.kernel.accessAllowed) {\n",
              "        return;\n",
              "      }\n",
              "      const div = document.createElement('div');\n",
              "      const label = document.createElement('label');\n",
              "      label.textContent = `Downloading \"${filename}\": `;\n",
              "      div.appendChild(label);\n",
              "      const progress = document.createElement('progress');\n",
              "      progress.max = size;\n",
              "      div.appendChild(progress);\n",
              "      document.body.appendChild(div);\n",
              "\n",
              "      const buffers = [];\n",
              "      let downloaded = 0;\n",
              "\n",
              "      const channel = await google.colab.kernel.comms.open(id);\n",
              "      // Send a message to notify the kernel that we're ready.\n",
              "      channel.send({})\n",
              "\n",
              "      for await (const message of channel.messages) {\n",
              "        // Send a message to notify the kernel that we're ready.\n",
              "        channel.send({})\n",
              "        if (message.buffers) {\n",
              "          for (const buffer of message.buffers) {\n",
              "            buffers.push(buffer);\n",
              "            downloaded += buffer.byteLength;\n",
              "            progress.value = downloaded;\n",
              "          }\n",
              "        }\n",
              "      }\n",
              "      const blob = new Blob(buffers, {type: 'application/binary'});\n",
              "      const a = document.createElement('a');\n",
              "      a.href = window.URL.createObjectURL(blob);\n",
              "      a.download = filename;\n",
              "      div.appendChild(a);\n",
              "      a.click();\n",
              "      div.remove();\n",
              "    }\n",
              "  "
            ]
          },
          "metadata": {}
        },
        {
          "output_type": "display_data",
          "data": {
            "text/plain": [
              "<IPython.core.display.Javascript object>"
            ],
            "application/javascript": [
              "download(\"download_36c359eb-0500-4edc-96aa-2ee1832cb47e\", \"sample_submission.csv\", 587)"
            ]
          },
          "metadata": {}
        },
        {
          "output_type": "stream",
          "name": "stdout",
          "text": [
            "time: 15.4 ms (started: 2023-02-04 07:52:59 +00:00)\n"
          ]
        }
      ],
      "source": [
        "from google.colab import files\n",
        "pred1.to_csv('sample_submission.csv', index=False, header=False)\n",
        "files.download('sample_submission.csv')"
      ]
    },
    {
      "cell_type": "markdown",
      "metadata": {
        "id": "ERXWLsIcB1_H"
      },
      "source": [
        "<a name = Section10></a>\n",
        "\n",
        "---\n",
        "# **10. Conclusion**\n",
        "---\n",
        "\n",
        "- We **studied in breifly about the data**, its **characteristics** and its **distribution**.\n",
        "\n",
        "- We **investigated in depth about the features** which to **retain** and which to **discard**.\n",
        "\n",
        "- We **changed** the Data as per the Requirement.\n",
        "\n",
        "- We had to **Balance** the Data as due to **Balance data** set the **Prediction was more biased to the Majority**.\n",
        "\n",
        "- We **performed model training**. Here various combination  and optimzation, which were verfied before arriving to the best possible result.\n",
        "\n",
        "- We **observed metrics of accuracy and Comparison Matrix our prediction**.\n",
        "\n",
        "- As per the **requirement** we **evaluated the Test Data** and **downloaded the Predicted result** for the same."
      ]
    }
  ],
  "metadata": {
    "colab": {
      "provenance": []
    },
    "kernelspec": {
      "display_name": "Python 3",
      "name": "python3"
    },
    "language_info": {
      "name": "python"
    }
  },
  "nbformat": 4,
  "nbformat_minor": 0
}